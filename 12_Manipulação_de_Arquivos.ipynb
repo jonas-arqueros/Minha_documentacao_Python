{
 "cells": [
  {
   "cell_type": "markdown",
   "metadata": {
    "id": "Dvx0Do81A46z"
   },
   "source": [
    "# Manipulação de Arquivos"
   ]
  },
  {
   "cell_type": "markdown",
   "metadata": {
    "id": "pOBMww6jBbFz"
   },
   "source": [
    "## Conectar e Sincronizar com o Google Drive"
   ]
  },
  {
   "cell_type": "code",
   "execution_count": null,
   "metadata": {
    "colab": {
     "base_uri": "https://localhost:8080/"
    },
    "id": "1SOVDXVpAly_",
    "outputId": "a013cf95-19ce-4085-ba62-f0a718c1a667"
   },
   "outputs": [
    {
     "name": "stdout",
     "output_type": "stream",
     "text": [
      "Drive already mounted at /content/drive; to attempt to forcibly remount, call drive.mount(\"/content/drive\", force_remount=True).\n"
     ]
    }
   ],
   "source": [
    "\"\"\"\n",
    "para conectar com sua conta do Drive\n",
    "navegar pelas pastas em \"Arquivos\"\n",
    "\"\"\"\n",
    "from google.colab import drive\n",
    "drive.mount('/content/drive')\n",
    "\n",
    "# /content/drive/MyDrive/Colab Notebooks/PY2416"
   ]
  },
  {
   "cell_type": "markdown",
   "metadata": {
    "id": "0tQme2CBC22y"
   },
   "source": [
    "## With open"
   ]
  },
  {
   "cell_type": "markdown",
   "metadata": {
    "id": "n1jKEgeT8AYS"
   },
   "source": [
    "## Modo Escrita (w)"
   ]
  },
  {
   "cell_type": "markdown",
   "metadata": {
    "id": "9UBHF_RT5Gb0"
   },
   "source": [
    "### Exemplo 01"
   ]
  },
  {
   "cell_type": "code",
   "execution_count": null,
   "metadata": {
    "id": "ZRcM2ct2Bw-N"
   },
   "outputs": [],
   "source": [
    "\"\"\"\n",
    "Sintaxe:\n",
    "with open(caminho-arquivo, modo)\n",
    "    bloco de código\n",
    "\"\"\"\n",
    "with open('/content/drive/MyDrive/Colab Notebooks/PY2416/dados.txt', 'w') as arquivo:\n",
    "    arquivo.write(\"Jonas\")"
   ]
  },
  {
   "cell_type": "markdown",
   "metadata": {
    "id": "0WgMqJDi5MIa"
   },
   "source": [
    "### Exemplo 02"
   ]
  },
  {
   "cell_type": "code",
   "execution_count": null,
   "metadata": {
    "id": "WwNNSXG-EjrZ"
   },
   "outputs": [],
   "source": [
    "with open('/content/drive/MyDrive/Colab Notebooks/PY2416/dados_Orçamento.txt', 'w') as arquivo:\n",
    "    arquivo.write(\"\"\"São Paulo, 12 de setembro de 2024\n",
    "\n",
    "Segue valor do orçamento solicitado:\n",
    "\n",
    "100 Peças X: R$ 200,00\n",
    "200 Peças Y: R$ 150,00\n",
    "Total: R$ 350,00\n",
    "\n",
    "Atenciosamente,\n",
    "Jonas\"\"\")"
   ]
  },
  {
   "cell_type": "markdown",
   "metadata": {
    "id": "2IRgmQeX5OKj"
   },
   "source": [
    "### Exemplo 03"
   ]
  },
  {
   "cell_type": "code",
   "execution_count": null,
   "metadata": {
    "id": "iW1xbAOg3BHV"
   },
   "outputs": [],
   "source": [
    "with open('/content/drive/MyDrive/Colab Notebooks/PY2416/dados_Animais.txt', 'w') as arquivo:\n",
    "    arquivo.write(\"Cachorro\\n\")\n",
    "    arquivo.write(\"Gato\\n\")\n",
    "    arquivo.write(\"Pássaro\\n\") # Boa prática pular linha no último dado"
   ]
  },
  {
   "cell_type": "markdown",
   "metadata": {
    "id": "06IREVre5tNj"
   },
   "source": [
    "### Exemplo 04"
   ]
  },
  {
   "cell_type": "code",
   "execution_count": null,
   "metadata": {
    "id": "3NvonTee5eN8"
   },
   "outputs": [],
   "source": [
    "import random\n",
    "\n",
    "with open('/content/drive/MyDrive/Colab Notebooks/PY2416/dados_Numeros.txt', 'w') as arquivo:\n",
    "    for i in range(6):\n",
    "        numero = random.randint(1,60)\n",
    "        n = str(numero) + \"\\n\"\n",
    "        arquivo.write(n)"
   ]
  },
  {
   "cell_type": "markdown",
   "metadata": {
    "id": "U5b9Sd2w75TC"
   },
   "source": [
    "## Modo Append (a)"
   ]
  },
  {
   "cell_type": "markdown",
   "metadata": {
    "id": "7eo_9mM87UUn"
   },
   "source": [
    "### Exemplo 05"
   ]
  },
  {
   "cell_type": "code",
   "execution_count": null,
   "metadata": {
    "id": "QaSA5Nwq55Gk"
   },
   "outputs": [],
   "source": [
    "with open('/content/drive/MyDrive/Colab Notebooks/PY2416/dados_Animais.txt', 'a') as arquivo:\n",
    "    arquivo.write(\"Cavalo\\n\")\n",
    "    arquivo.write(\"Girafa\\n\")\n",
    "    arquivo.write(\"Leão\\n\")"
   ]
  },
  {
   "cell_type": "markdown",
   "metadata": {
    "id": "0s83rNB18HOT"
   },
   "source": []
  },
  {
   "cell_type": "markdown",
   "metadata": {
    "id": "vnivhSlM8Jah"
   },
   "source": [
    "### Exemplo 06"
   ]
  },
  {
   "cell_type": "markdown",
   "metadata": {
    "id": "ZUILKaLd73M6"
   },
   "source": []
  },
  {
   "cell_type": "code",
   "execution_count": null,
   "metadata": {
    "id": "bfXgMm8J7sls"
   },
   "outputs": [],
   "source": [
    "animais = [\"Jacaré\", \"Onça\", \"Papagaio\", \"Camelo\", \"Anta\"]\n",
    "\n",
    "with open('/content/drive/MyDrive/Colab Notebooks/PY2416/dados_Animais.txt', 'a') as arquivo:\n",
    "    for animal in animais:\n",
    "        arquivo.write(f\"{animal}\\n\")"
   ]
  },
  {
   "cell_type": "markdown",
   "metadata": {
    "id": "R3-VZ8Hm8zIS"
   },
   "source": [
    "## Modo Leitura (r)"
   ]
  },
  {
   "cell_type": "markdown",
   "metadata": {
    "id": "Vz_QBeDp85tK"
   },
   "source": [
    "### Exemplo 07"
   ]
  },
  {
   "cell_type": "code",
   "execution_count": null,
   "metadata": {
    "colab": {
     "base_uri": "https://localhost:8080/"
    },
    "id": "CSpLgA4q8e_a",
    "outputId": "e96f1f17-2b7d-4a73-a1cb-663173493125"
   },
   "outputs": [
    {
     "name": "stdout",
     "output_type": "stream",
     "text": [
      "São Paulo, 12 de setembro de 2024\n",
      "\n",
      "Segue valor do orçamento solicitado:\n",
      "\n",
      "100 Peças X: R$ 200,00\n",
      "200 Peças Y: R$ 150,00\n",
      "Total: R$ 350,00\n",
      "\n",
      "Atenciosamente,\n",
      "Jonas\n"
     ]
    }
   ],
   "source": [
    "with open('/content/drive/MyDrive/Colab Notebooks/PY2416/dados_Orçamento.txt', 'r') as arquivo:\n",
    "    print(arquivo.read())"
   ]
  },
  {
   "cell_type": "markdown",
   "metadata": {
    "id": "M9nmVGEE9Z4S"
   },
   "source": [
    "### Exemplo 08"
   ]
  },
  {
   "cell_type": "code",
   "execution_count": null,
   "metadata": {
    "colab": {
     "base_uri": "https://localhost:8080/"
    },
    "id": "1jtPPGZ79NAs",
    "outputId": "32286dae-1cf4-41e5-d283-93533a0973c5"
   },
   "outputs": [
    {
     "name": "stdout",
     "output_type": "stream",
     "text": [
      "São Paulo, 12 de setembro de 2024\n",
      "\n",
      "\n",
      "\n",
      "Segue valor do orçamento solicitado:\n",
      "\n"
     ]
    }
   ],
   "source": [
    "with open('/content/drive/MyDrive/Colab Notebooks/PY2416/dados_Orçamento.txt', 'r') as arquivo:\n",
    "    print(arquivo.readline())\n",
    "    print(arquivo.readline())\n",
    "    print(arquivo.readline())"
   ]
  },
  {
   "cell_type": "markdown",
   "metadata": {
    "id": "u5GnI4d2-hxK"
   },
   "source": [
    "### Exemplo 09"
   ]
  },
  {
   "cell_type": "code",
   "execution_count": null,
   "metadata": {
    "colab": {
     "base_uri": "https://localhost:8080/"
    },
    "id": "p1cFt57_-J8K",
    "outputId": "9155b239-8e6a-42fb-c9db-06ccc3bf2e16"
   },
   "outputs": [
    {
     "name": "stdout",
     "output_type": "stream",
     "text": [
      "São Paulo, 12 de setembro de 2024\n",
      "\n",
      "\n",
      "4202 ed orbmetes ed 21 ,oluaP oãS\n"
     ]
    }
   ],
   "source": [
    "with open('/content/drive/MyDrive/Colab Notebooks/PY2416/dados_Orçamento.txt', 'r') as arquivo:\n",
    "    texto = arquivo.readline() # Pega as quebras de linha do arquivo\n",
    "    print(texto)\n",
    "    print(texto[::-1])"
   ]
  },
  {
   "cell_type": "markdown",
   "metadata": {
    "id": "cK0iY3AT_H_B"
   },
   "source": [
    "### Exemplo 10"
   ]
  },
  {
   "cell_type": "code",
   "execution_count": null,
   "metadata": {
    "colab": {
     "base_uri": "https://localhost:8080/"
    },
    "id": "gKDeMBP6-wMD",
    "outputId": "3757f1c9-1004-44c7-fdd2-17af9fa440d5"
   },
   "outputs": [
    {
     "name": "stdout",
     "output_type": "stream",
     "text": [
      "\n",
      "Segue valor do orçamento solicitado:\n",
      "\n",
      "100 Peças X: R$ 200,00\n",
      "200 Peças Y: R$ 150,00\n",
      "Total: R$ 350,00\n",
      "\n",
      "Atenciosamente,\n",
      "Jonas\n"
     ]
    }
   ],
   "source": [
    "with open('/content/drive/MyDrive/Colab Notebooks/PY2416/dados_Orçamento.txt', 'r') as arquivo:\n",
    "    texto = arquivo.readline()\n",
    "    for linha in arquivo:\n",
    "        print(linha.strip(\"\\n\")) # Retira da linha as mudanças de linha (\\n)\n"
   ]
  },
  {
   "cell_type": "code",
   "execution_count": null,
   "metadata": {
    "colab": {
     "base_uri": "https://localhost:8080/"
    },
    "id": "47mmBVnHDDQp",
    "outputId": "7b9c7691-7ae8-46cb-f214-0ac908a3c149"
   },
   "outputs": [
    {
     "name": "stdout",
     "output_type": "stream",
     "text": [
      "['São Paulo, 12 de setembro de 2024\\n', '\\n', 'Segue valor do orçamento solicitado:\\n', '\\n', '100 Peças X: R$ 200,00\\n', '200 Peças Y: R$ 150,00\\n', 'Total: R$ 350,00\\n', '\\n', 'Atenciosamente,\\n', 'Jonas']\n"
     ]
    }
   ],
   "source": [
    "with open('/content/drive/MyDrive/Colab Notebooks/PY2416/dados_Orçamento.txt', 'r') as arquivo:\n",
    "    texto = arquivo.readlines()\n",
    "    print(texto)"
   ]
  },
  {
   "cell_type": "markdown",
   "metadata": {
    "id": "_5BOOBcHAb9y"
   },
   "source": [
    "### Exemplo 11"
   ]
  },
  {
   "cell_type": "code",
   "execution_count": null,
   "metadata": {
    "colab": {
     "base_uri": "https://localhost:8080/"
    },
    "id": "4dt0aJ3A_WGT",
    "outputId": "4dd6c204-95fb-497c-896f-efbfb8604dc0"
   },
   "outputs": [
    {
     "name": "stdout",
     "output_type": "stream",
     "text": [
      "Total: R$ 350,00\n"
     ]
    }
   ],
   "source": [
    "# Pesquisando um conteúdo no arquivo\n",
    "with open('/content/drive/MyDrive/Colab Notebooks/PY2416/dados_Orçamento.txt', 'r') as arquivo:\n",
    "    texto = arquivo.readline()\n",
    "    for linha in arquivo:\n",
    "        if \"Total\" in linha:\n",
    "            print(linha.strip(\"\\n\"))"
   ]
  },
  {
   "cell_type": "markdown",
   "metadata": {
    "id": "0QqfO4brCEBZ"
   },
   "source": [
    "# Desafio Login"
   ]
  },
  {
   "cell_type": "code",
   "execution_count": null,
   "metadata": {
    "colab": {
     "base_uri": "https://localhost:8080/"
    },
    "id": "yW5zz1CfD2fZ",
    "outputId": "3f9fccd5-22c0-4d18-a96c-85e4b3f16c1b"
   },
   "outputs": [
    {
     "name": "stdout",
     "output_type": "stream",
     "text": [
      "Digite o login: root\n",
      "Digite a senha: ··········\n",
      "\n",
      "Bem Vindo Jonas\n",
      "\n"
     ]
    }
   ],
   "source": [
    "#V1\n",
    "import getpass\n",
    "\n",
    "usuario = input(\"Digite o login: \")\n",
    "senha = getpass.getpass(\"Digite a senha: \")\n",
    "usuario = usuario + \"\\n\"\n",
    "\n",
    "with open('/content/drive/MyDrive/Colab Notebooks/PY2416/login.txt', 'r') as arquivo:\n",
    "    texto = arquivo.readlines()\n",
    "\n",
    "    if usuario in texto and senha in texto:\n",
    "        print(f\"\\nBem Vindo {texto[1]}\")"
   ]
  },
  {
   "cell_type": "code",
   "execution_count": null,
   "metadata": {
    "colab": {
     "base_uri": "https://localhost:8080/"
    },
    "id": "kVOvMzg1EDk6",
    "outputId": "04d645b8-7c71-459c-add9-ccc0c658d5f5"
   },
   "outputs": [
    {
     "name": "stdout",
     "output_type": "stream",
     "text": [
      "Digite o login: root\n",
      "Digite a senha: ··········\n",
      "\n",
      "Bem Vindo Jonas\n",
      "\n"
     ]
    }
   ],
   "source": [
    "#V2\n",
    "import getpass\n",
    "\n",
    "usuario = input(\"Digite o login: \")\n",
    "senha = getpass.getpass(\"Digite a senha: \")\n",
    "\n",
    "with open('/content/drive/MyDrive/Colab Notebooks/PY2416/login.txt', 'r') as arquivo:\n",
    "    texto = arquivo.readlines()\n",
    "\n",
    "    for linha in texto:\n",
    "        if usuario == linha.strip():\n",
    "            for i in texto:\n",
    "                if senha == i.strip():\n",
    "                    print(f\"\\nBem Vindo {texto[1]}\")"
   ]
  },
  {
   "cell_type": "code",
   "execution_count": null,
   "metadata": {
    "colab": {
     "base_uri": "https://localhost:8080/"
    },
    "id": "n5Cx5xkCJlP4",
    "outputId": "4d693bb6-0b73-4974-97a8-f1b0a085d1d9"
   },
   "outputs": [
    {
     "name": "stdout",
     "output_type": "stream",
     "text": [
      "Digite o login: root\n",
      "Digite a senha: ··········\n",
      "\n",
      "Bem Vindo Jonas\n",
      "\n"
     ]
    }
   ],
   "source": [
    "#V3\n",
    "import getpass\n",
    "\n",
    "usuario = input(\"Digite o login: \")\n",
    "senha = getpass.getpass(\"Digite a senha: \")\n",
    "\n",
    "\n",
    "with open('/content/drive/MyDrive/Colab Notebooks/PY2416/login.txt', 'r') as arquivo:\n",
    "    texto = arquivo.readlines()\n",
    "\n",
    "    if usuario == texto[0].strip(\"\\n\") and senha == texto[2].strip(\"\\n\"):\n",
    "        print(f\"\\nBem Vindo {texto[1]}\")\n",
    "    else:\n",
    "        print(f\"\\nUsuário ou senha inválidos!\")"
   ]
  },
  {
   "cell_type": "code",
   "execution_count": null,
   "metadata": {
    "id": "-1Yed_ARLYUa"
   },
   "outputs": [],
   "source": []
  }
 ],
 "metadata": {
  "colab": {
   "provenance": []
  },
  "kernelspec": {
   "display_name": "Python 3",
   "name": "python3"
  },
  "language_info": {
   "name": "python"
  }
 },
 "nbformat": 4,
 "nbformat_minor": 0
}
