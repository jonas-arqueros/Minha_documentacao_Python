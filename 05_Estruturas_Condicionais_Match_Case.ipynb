{
 "cells": [
  {
   "cell_type": "markdown",
   "metadata": {
    "id": "iFw53k6_7k3X"
   },
   "source": [
    "#Match Case"
   ]
  },
  {
   "cell_type": "code",
   "execution_count": null,
   "metadata": {
    "colab": {
     "base_uri": "https://localhost:8080/"
    },
    "id": "sJkf-IsI7X1R",
    "outputId": "10d36070-8f10-4e5c-eb76-9c605d108ae8"
   },
   "outputs": [
    {
     "name": "stdout",
     "output_type": "stream",
     "text": [
      "\n",
      "Escolha a operação:\n",
      "\n",
      "[1] Opção 1\n",
      "[2] Opção 2\n",
      "[3] Opção 3\n",
      "\n",
      "2\n",
      "Opção 2 foi escolhida..\n"
     ]
    }
   ],
   "source": [
    "operacao = input(\"\"\"\n",
    "Escolha a operação:\n",
    "\n",
    "[1] Opção 1\n",
    "[2] Opção 2\n",
    "[3] Opção 3\\n\n",
    "\"\"\")\n",
    "\n",
    "match operacao:\n",
    "    case \"1\":\n",
    "        print(\"Opção 1 foi escolhida..\")\n",
    "    case \"2\":\n",
    "        print(\"Opção 2 foi escolhida..\")\n",
    "    case \"3\":\n",
    "        print(\"Opção 3 foi escolhida..\")\n",
    "    case _: # equivalente ao Else\n",
    "        print(\"Opção inválida..\")"
   ]
  },
  {
   "cell_type": "code",
   "execution_count": null,
   "metadata": {
    "colab": {
     "base_uri": "https://localhost:8080/"
    },
    "id": "pwzthB9D-ZSP",
    "outputId": "df85ffaa-a37b-41b0-8208-f5c68555c2b4"
   },
   "outputs": [
    {
     "name": "stdout",
     "output_type": "stream",
     "text": [
      "\n",
      "Escolha a operação:\n",
      "\n",
      "[1] Opção 1\n",
      "[2] Opção 2\n",
      "[3] Opção 3\n",
      "\n",
      "1\n",
      "Opção 1 ou 2 foi escolhida..\n"
     ]
    }
   ],
   "source": [
    "operacao = input(\"\"\"\n",
    "Escolha a operação:\n",
    "\n",
    "[1] Opção 1\n",
    "[2] Opção 2\n",
    "[3] Opção 3\\n\n",
    "\"\"\")\n",
    "\n",
    "match operacao:\n",
    "    case \"1\" | \"2\":\n",
    "        print(\"Opção 1 ou 2 foi escolhida..\")\n",
    "    case \"3\":\n",
    "        print(\"Opção 3 foi escolhida..\")\n",
    "    case _: # equivalente ao Else\n",
    "        print(\"Opção inválida..\")"
   ]
  },
  {
   "cell_type": "code",
   "execution_count": null,
   "metadata": {
    "colab": {
     "base_uri": "https://localhost:8080/"
    },
    "id": "Wz_Zc4Ej-km3",
    "outputId": "53f4d78e-a108-4ba9-e0b5-95f2fafe12cd"
   },
   "outputs": [
    {
     "name": "stdout",
     "output_type": "stream",
     "text": [
      "Digite um número inteiro: -2\n",
      "É negativo.\n"
     ]
    }
   ],
   "source": [
    "numero = int(input(\"Digite um número inteiro: \"))\n",
    "\n",
    "match numero:\n",
    "    case 1|3|5|7|9:\n",
    "        print(\"É ímpar menor que 10.\")\n",
    "    case _ if numero < 0:\n",
    "        print(\"É negativo.\")\n",
    "    case _:\n",
    "        print(\"Um número qualquer.\")\n"
   ]
  },
  {
   "cell_type": "markdown",
   "metadata": {
    "id": "6JvH9ud882NY"
   },
   "source": [
    "# Desafios"
   ]
  },
  {
   "cell_type": "markdown",
   "metadata": {
    "id": "sad1rO85_wXH"
   },
   "source": [
    "## 01\n",
    "\n",
    "Escreva um programa em Python que solicite ao usuário uma nota entre 0 e 10.\n",
    "Use o comando `match case` para classificar a nota de acordo com a tabela a seguir:\n",
    "\n",
    "- 0-4: Nota Baixa\n",
    "- 5-7: Nota Média\n",
    "- 8-9: Nota Alta\n",
    "- 10: Nota Excelente\n",
    "\n",
    "Exiba a classificação correspondente."
   ]
  },
  {
   "cell_type": "code",
   "execution_count": null,
   "metadata": {
    "colab": {
     "base_uri": "https://localhost:8080/"
    },
    "id": "wES0-43T8x0h",
    "outputId": "6214843e-fa7c-4c26-ba3e-80f32a35d32e"
   },
   "outputs": [
    {
     "name": "stdout",
     "output_type": "stream",
     "text": [
      "Digite a nota: 11\n",
      "\n",
      "\u001b[1;31mNota inválida!\n"
     ]
    }
   ],
   "source": [
    "#V1\n",
    "nota = float(input(\"Digite a nota: \"))\n",
    "\n",
    "match nota:\n",
    "    case _ if 0 <= nota <= 4:\n",
    "        print(\"\\nNota Baixa\")\n",
    "    case _ if 5 <= nota <= 7:\n",
    "        print(\"\\nNota Média\")\n",
    "    case _ if 8 <= nota <= 9:\n",
    "        print(\"\\nNota Alta\")\n",
    "    case _ if 9 < nota <= 10:\n",
    "        print(\"\\nNota Excelente\")\n",
    "    case _ if nota < 0 or nota > 10:\n",
    "        print(\"\\n\\033[1;31mNota inválida!\")"
   ]
  },
  {
   "cell_type": "code",
   "execution_count": null,
   "metadata": {
    "colab": {
     "base_uri": "https://localhost:8080/"
    },
    "id": "i7PYrz8BGbJU",
    "outputId": "796e2a2f-4c0c-4d57-87d9-9acb2693ff4f"
   },
   "outputs": [
    {
     "name": "stdout",
     "output_type": "stream",
     "text": [
      "Digite a nota: 0\n",
      "\n",
      "Nota Baixa\n"
     ]
    }
   ],
   "source": [
    "#V2\n",
    "nota = int(input(\"Digite a nota: \"))\n",
    "\n",
    "match nota:\n",
    "    case 0 | 1 | 2 | 4:\n",
    "        print(\"\\nNota Baixa\")\n",
    "    case 5 | 6 | 7:\n",
    "        print(\"\\nNota Média\")\n",
    "    case 8 | 9:\n",
    "        print(\"\\nNota Alta\")\n",
    "    case 10:\n",
    "        print(\"\\nNota Excelente\")\n",
    "    case _:\n",
    "        print(\"\\n\\033[1;31mNota inválida!\")"
   ]
  },
  {
   "cell_type": "markdown",
   "metadata": {
    "id": "eYVyS9G_AF8u"
   },
   "source": [
    "## 02\n",
    "\n",
    "Crie um programa que peça ao usuário para inserir um número de 1 a 7,onde cada número representa um dia da semana (1 para domingo, 2 para segunda-feira, e assim por diante).\n",
    "\n",
    "Use match case para imprimir o nome do dia da semana correspondente."
   ]
  },
  {
   "cell_type": "code",
   "execution_count": null,
   "metadata": {
    "colab": {
     "base_uri": "https://localhost:8080/"
    },
    "id": "aurAIoIsAJ9X",
    "outputId": "381eda70-d0d1-4000-a380-0bf769162f5e"
   },
   "outputs": [
    {
     "name": "stdout",
     "output_type": "stream",
     "text": [
      "\n",
      "Escolha o dia:\n",
      "\n",
      "[1] Domingo\n",
      "[2] Segunda-Feira\n",
      "[3] Terça-Feira\n",
      "[4] Quarta-Feira\n",
      "[5] Quinta-Feira\n",
      "[6] Sexta-Feira\n",
      "[7] Sábado\n",
      "\n",
      "2\n",
      "\n",
      "Segunda-Feira\n"
     ]
    }
   ],
   "source": [
    "dia = input(\"\"\"\n",
    "Escolha o dia:\n",
    "\n",
    "[1] Domingo\n",
    "[2] Segunda-Feira\n",
    "[3] Terça-Feira\n",
    "[4] Quarta-Feira\n",
    "[5] Quinta-Feira\n",
    "[6] Sexta-Feira\n",
    "[7] Sábado\\n\n",
    "\"\"\")\n",
    "\n",
    "match dia:\n",
    "    case \"1\":\n",
    "        print(\"\\nDomingo\")\n",
    "    case \"2\":\n",
    "        print(\"\\nSegunda-Feira\")\n",
    "    case \"3\":\n",
    "        print(\"\\nTerça-Feira\")\n",
    "    case \"4\":\n",
    "        print(\"\\nQuarta-Feira\")\n",
    "    case \"5\":\n",
    "        print(\"\\nQuinta-Feira\")\n",
    "    case \"6\":\n",
    "        print(\"\\nSexta-Feira\")\n",
    "    case \"7\":\n",
    "        print(\"\\nSábado\")\n",
    "    case _:\n",
    "        print(\"\\n\\033[1;31mOpção inválida!\")"
   ]
  },
  {
   "cell_type": "markdown",
   "metadata": {
    "id": "fY1EXN-JDhA9"
   },
   "source": [
    "## 03\n",
    "\n",
    "Implemente uma calculadora simples que realiza as operações de adição, subtração, multiplicação e divisão.\n",
    "O usuário deve inserir dois números e, em seguida, selecionar a operação desejada (+, -, *, /).\n",
    "\n",
    "Use o comando match case para realizar a operação correta e exibir o resultado."
   ]
  },
  {
   "cell_type": "code",
   "execution_count": null,
   "metadata": {
    "colab": {
     "base_uri": "https://localhost:8080/"
    },
    "id": "Sa8fqq1lCGM_",
    "outputId": "cf715dc5-872c-48b6-c66c-ae6aad25f68a"
   },
   "outputs": [
    {
     "name": "stdout",
     "output_type": "stream",
     "text": [
      "Digite o 1° número: 4\n",
      "Digite o 2° número: 0\n",
      "Escolha a operação:\n",
      "\n",
      "[1] Soma\n",
      "[2] Subtração\n",
      "[3] Multiplição\n",
      "[4] Divisão\n",
      "4\n",
      "\n",
      "\u001b[1;31mOperação inválida!\n",
      "O denominador não poder ser 0 (Zero)\n"
     ]
    }
   ],
   "source": [
    "#V1\n",
    "n1 = float(input(\"Digite o 1° número: \"))\n",
    "n2 = float(input(\"Digite o 2° número: \"))\n",
    "operacao = input(\"\"\"Escolha a operação:\n",
    "\n",
    "[1] Soma\n",
    "[2] Subtração\n",
    "[3] Multiplição\n",
    "[4] Divisão\n",
    "\"\"\")\n",
    "\n",
    "if n2 == 0 and operacao == \"4\":\n",
    "    print(f\"\\n\\033[1;31mOperação inválida!\\nO denominador não poder ser 0 (Zero).\")\n",
    "else:\n",
    "    match operacao:\n",
    "        case \"1\":\n",
    "            print(f\"\\n\\033[1mO resultado é {n1+n2}\")\n",
    "        case \"2\":\n",
    "            print(f\"\\n\\033[1mO resultado é {n1-n2}\")\n",
    "        case \"3\":\n",
    "            print(f\"\\n\\033[1mO resultado é {n1*n2}\")\n",
    "        case \"4\":\n",
    "            print(f\"\\n\\033[1mO resultado é {n1/n2}\")\n",
    "        case _:\n",
    "            print(f\"\\n\\033[1;31mOpção inválida!\")"
   ]
  },
  {
   "cell_type": "code",
   "execution_count": null,
   "metadata": {
    "colab": {
     "base_uri": "https://localhost:8080/"
    },
    "id": "JSY_rFs0EkfN",
    "outputId": "7d45214a-b19e-4ea4-e7a0-0ea9a495a02d"
   },
   "outputs": [
    {
     "name": "stdout",
     "output_type": "stream",
     "text": [
      "Digite o 1° número: 2\n",
      "Digite o 2° número: 0\n",
      "Escolha a operação: (+ - * /) /\n",
      "\n",
      "\u001b[1;31mOperação inválida!\n",
      "O denominador não poder ser 0 (Zero).\n"
     ]
    }
   ],
   "source": [
    "#V2\n",
    "n1 = float(input(\"Digite o 1° número: \"))\n",
    "n2 = float(input(\"Digite o 2° número: \"))\n",
    "operacao = input(\"Escolha a operação: (+ - * /) \")\n",
    "\n",
    "match operacao:\n",
    "    case \"+\":\n",
    "        print(f\"\\n\\033[1mO resultado é {n1+n2}\")\n",
    "    case \"-\":\n",
    "        print(f\"\\n\\033[1mO resultado é {n1-n2}\")\n",
    "    case \"*\":\n",
    "        print(f\"\\n\\033[1mO resultado é {n1*n2}\")\n",
    "    case \"/\":\n",
    "        if n2 == 0:\n",
    "            print(f\"\\n\\033[1;31mOperação inválida!\\nO denominador não poder ser 0 (Zero).\")\n",
    "        else:\n",
    "            print(f\"\\n\\033[1mO resultado é {n1/n2}\")\n",
    "    case _:\n",
    "        print(f\"\\n\\033[1;31mOpção inválida!\")"
   ]
  },
  {
   "cell_type": "markdown",
   "metadata": {
    "id": "LbI64feJInyT"
   },
   "source": [
    "## 04\n",
    "Escreva um programa que converta valores entre diferentes moedas.\n",
    "O usuário deve inserir o valor em reais e selecionar a moeda para conversão:\n",
    "D (Dólar), E (Euro), ou L (Libra). Utilize match case para aplicar a conversão correta com base nas taxas fictícias fornecidas a seguir:\n",
    "\n",
    "- 1 Real = 0.18 Dólar\n",
    "- 1 Real = 0.16 Euro\n",
    "- 1 Real = 0.13 Libra\n",
    "\n",
    "Símbolos: $ € £\n"
   ]
  },
  {
   "cell_type": "code",
   "execution_count": null,
   "metadata": {
    "colab": {
     "base_uri": "https://localhost:8080/"
    },
    "id": "lypkcakqHOlE",
    "outputId": "feca3ae9-d187-4781-84a5-67a9e6d622eb"
   },
   "outputs": [
    {
     "name": "stdout",
     "output_type": "stream",
     "text": [
      "Digite o valor em Reais (R$): 10000\n",
      "Escolha a moeda a ser convertida:\n",
      "D (Dólar) \n",
      "E (Euro) \n",
      "L (Libra)\n",
      "e\n",
      "\n",
      "R$10,000.00 equivale a €1,600.00 euros.\n"
     ]
    }
   ],
   "source": [
    "real = float(input(\"Digite o valor em Reais (R$): \"))\n",
    "moeda = input(\"\"\"Escolha a moeda a ser convertida:\n",
    "D (Dólar)\n",
    "E (Euro)\n",
    "L (Libra)\n",
    "\"\"\")\n",
    "\n",
    "match moeda:\n",
    "    case \"D\"|\"d\":\n",
    "        print(f\"\\nR${real:,.2f} equivale a ${real*0.18:,.2f} dólares.\")\n",
    "    case \"E\"|\"e\":\n",
    "        print(f\"\\nR${real:,.2f} equivale a €{real*0.16:,.2f} euros.\")\n",
    "    case \"L\"|\"l\":\n",
    "        print(f\"\\nR${real:,.2f} equivale a £{real*0.13:,.2f} libras.\")\n",
    "    case _:\n",
    "        print(f\"\\n\\033[1;31mOpção inválida!\")"
   ]
  },
  {
   "cell_type": "markdown",
   "metadata": {
    "id": "tcBkZkE1SSLD"
   },
   "source": [
    "## 05\n",
    "Crie um programa que peça ao usuário para inserir uma letra. O programa deve utilizar match case para verificar se a letra é uma vogal (a, e, i, o, u) ou uma consoante, e então exibir uma mensagem apropriada."
   ]
  },
  {
   "cell_type": "code",
   "execution_count": null,
   "metadata": {
    "colab": {
     "base_uri": "https://localhost:8080/"
    },
    "id": "6QNhMG8vJSk9",
    "outputId": "a6bb0906-c0c8-4839-8869-6cdf5d7b4091"
   },
   "outputs": [
    {
     "name": "stdout",
     "output_type": "stream",
     "text": [
      "Digite uma letra: 4\n",
      "\n",
      "\u001b[1;31mCaractere inválido!\n"
     ]
    }
   ],
   "source": [
    "letra = input(\"Digite uma letra: \").lower()\n",
    "\n",
    "if letra.isalpha() == False:\n",
    "    print(f\"\\n\\033[1;31mCaractere inválido!\")\n",
    "else:\n",
    "    match letra:\n",
    "        case \"a\" | \"e\" | \"i\" | \"o\" | \"u\":\n",
    "            print(\"\\n\\033[1;33mÉ uma vogal!\")\n",
    "        case _:\n",
    "            print(\"\\n\\033[1;36mÉ uma consoante!\")\n"
   ]
  },
  {
   "cell_type": "code",
   "execution_count": null,
   "metadata": {
    "id": "BwJ_xP_wS6dR"
   },
   "outputs": [],
   "source": []
  }
 ],
 "metadata": {
  "colab": {
   "provenance": [],
   "toc_visible": true
  },
  "kernelspec": {
   "display_name": "Python 3",
   "name": "python3"
  },
  "language_info": {
   "name": "python"
  }
 },
 "nbformat": 4,
 "nbformat_minor": 0
}
