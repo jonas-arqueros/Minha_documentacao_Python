{
 "cells": [
  {
   "cell_type": "markdown",
   "metadata": {
    "id": "cciXlR_pY7Lw"
   },
   "source": [
    "# Funções"
   ]
  },
  {
   "cell_type": "markdown",
   "metadata": {
    "id": "S23aIgXTdWA1"
   },
   "source": [
    "## Escopo de Variáveis\n"
   ]
  },
  {
   "cell_type": "code",
   "execution_count": null,
   "metadata": {
    "colab": {
     "base_uri": "https://localhost:8080/"
    },
    "id": "yB4hiMt-YvGw",
    "outputId": "8e86e65b-4b10-4ab4-f2ae-686d8830dd5b"
   },
   "outputs": [
    {
     "name": "stdout",
     "output_type": "stream",
     "text": [
      "10\n"
     ]
    }
   ],
   "source": [
    "# variável local\n",
    "def funcaoLocal():\n",
    "    variavelLocal = 10\n",
    "    print(variavelLocal)\n",
    "\n",
    "funcaoLocal()"
   ]
  },
  {
   "cell_type": "code",
   "execution_count": null,
   "metadata": {
    "colab": {
     "base_uri": "https://localhost:8080/"
    },
    "id": "YzHtGb0adoiv",
    "outputId": "81e13e61-e5b7-410a-c7df-9736354b917f"
   },
   "outputs": [
    {
     "name": "stdout",
     "output_type": "stream",
     "text": [
      "5\n"
     ]
    }
   ],
   "source": [
    "# variável global\n",
    "variavelGlobal = 5\n",
    "\n",
    "def funcaoGlobal():\n",
    "    global variavelGlobal\n",
    "    variavelGlobal += 1\n",
    "    print(variavelGlobal)\n",
    "\n",
    "#funcaoGlobal()\n",
    "print(variavelGlobal)"
   ]
  },
  {
   "cell_type": "markdown",
   "metadata": {
    "id": "BLOBq0mGfSLE"
   },
   "source": [
    "## Função sem Parâmetro"
   ]
  },
  {
   "cell_type": "code",
   "execution_count": null,
   "metadata": {
    "colab": {
     "base_uri": "https://localhost:8080/"
    },
    "id": "JUTL1ezgeWhW",
    "outputId": "948fd163-2fb4-49a6-8170-fdf9c05889e2"
   },
   "outputs": [
    {
     "name": "stdout",
     "output_type": "stream",
     "text": [
      "Olá, Mundo!\n"
     ]
    }
   ],
   "source": [
    "def saudacao():\n",
    "    print(\"Olá, Mundo!\")\n",
    "\n",
    "saudacao()"
   ]
  },
  {
   "cell_type": "markdown",
   "metadata": {
    "id": "ifkFbXd1fnx7"
   },
   "source": [
    "## Função com Parâmetro"
   ]
  },
  {
   "cell_type": "code",
   "execution_count": null,
   "metadata": {
    "colab": {
     "base_uri": "https://localhost:8080/"
    },
    "id": "SkltGXxHfcsO",
    "outputId": "71739e24-979a-43bd-9d70-5d70a929e0bf"
   },
   "outputs": [
    {
     "name": "stdout",
     "output_type": "stream",
     "text": [
      "14\n"
     ]
    }
   ],
   "source": [
    "def soma(x, y):\n",
    "    resultado = x + y\n",
    "    print(resultado)\n",
    "\n",
    "soma(5,9)"
   ]
  },
  {
   "cell_type": "markdown",
   "metadata": {
    "id": "W_UemHItgO70"
   },
   "source": [
    "## Função com Retorno"
   ]
  },
  {
   "cell_type": "code",
   "execution_count": null,
   "metadata": {
    "colab": {
     "base_uri": "https://localhost:8080/"
    },
    "id": "a845TQ4vf9fk",
    "outputId": "cb924226-c618-49d0-e121-ecd3e8ac5c28"
   },
   "outputs": [
    {
     "data": {
      "text/plain": [
       "14"
      ]
     },
     "execution_count": 16,
     "metadata": {},
     "output_type": "execute_result"
    }
   ],
   "source": [
    "def soma(x, y):\n",
    "    resultado = x + y\n",
    "    return resultado\n",
    "\n",
    "soma(5,9)"
   ]
  },
  {
   "cell_type": "markdown",
   "metadata": {
    "id": "FDS8QnFxhBc7"
   },
   "source": [
    "## Empacotamento de Dados"
   ]
  },
  {
   "cell_type": "code",
   "execution_count": null,
   "metadata": {
    "colab": {
     "base_uri": "https://localhost:8080/"
    },
    "id": "J8Opfx4-geJk",
    "outputId": "1d7a4729-c109-451b-fcd5-80df21f5447b"
   },
   "outputs": [
    {
     "name": "stdout",
     "output_type": "stream",
     "text": [
      "(1, 2, 3, 4, 5)\n"
     ]
    }
   ],
   "source": [
    "def contador(*num):\n",
    "    print(num)\n",
    "\n",
    "contador(1,2,3,4,5)"
   ]
  },
  {
   "cell_type": "markdown",
   "metadata": {
    "id": "-xCZM44Gh2lr"
   },
   "source": [
    "# Desafios"
   ]
  },
  {
   "cell_type": "markdown",
   "metadata": {
    "id": "9XaHxnA-h4ZT"
   },
   "source": [
    "## 01\n",
    "\n",
    "Faça um programa que receba um número inteiro de 0 a 9.\n",
    "Crie uma função que apresente o resultado da tabuada deste número."
   ]
  },
  {
   "cell_type": "code",
   "execution_count": null,
   "metadata": {
    "colab": {
     "base_uri": "https://localhost:8080/"
    },
    "id": "-OP__212hKyE",
    "outputId": "cb0cd460-b14e-486e-ce25-b7ee126d3d23"
   },
   "outputs": [
    {
     "name": "stdout",
     "output_type": "stream",
     "text": [
      "\u001b[1m 1  x  8  =  8 \n",
      "\u001b[1m 2  x  8  = 16 \n",
      "\u001b[1m 3  x  8  = 24 \n",
      "\u001b[1m 4  x  8  = 32 \n",
      "\u001b[1m 5  x  8  = 40 \n",
      "\u001b[1m 6  x  8  = 48 \n",
      "\u001b[1m 7  x  8  = 56 \n",
      "\u001b[1m 8  x  8  = 64 \n",
      "\u001b[1m 9  x  8  = 72 \n",
      "\u001b[1m10  x  8  = 80 \n"
     ]
    }
   ],
   "source": [
    "def tabuada(num):\n",
    "    for i in range(1,11):\n",
    "        print(f\"\\033[1m{i:^3} x {num:^3} = {i*num:^3}\")\n",
    "\n",
    "tabuada(8)"
   ]
  },
  {
   "cell_type": "markdown",
   "metadata": {
    "id": "xBGem8SIiZ7z"
   },
   "source": [
    "## 02\n",
    "\n",
    "Faça um programa que tenha uma função chamada área(), que receba as\n",
    "dimensões de um terreno retangular (largura e comprimento) pelo usuário e mostre a área do terreno."
   ]
  },
  {
   "cell_type": "code",
   "execution_count": null,
   "metadata": {
    "colab": {
     "base_uri": "https://localhost:8080/"
    },
    "id": "ZWcILx5qiLWV",
    "outputId": "28a1fbae-f74d-4aa5-f5da-e4eb9f38e858"
   },
   "outputs": [
    {
     "name": "stdout",
     "output_type": "stream",
     "text": [
      "Digite a largura do terreno em m: 7\n",
      "Digite o comprimento do terreno em m: 9\n",
      "\n",
      "Área do terreno é 63.00m².\n"
     ]
    }
   ],
   "source": [
    "#V1\n",
    "def area(largura,comprimento):\n",
    "    area = largura * comprimento\n",
    "    print(f\"\\nÁrea do terreno é {area:.2f}m².\")\n",
    "\n",
    "a = float(input(\"Digite a largura do terreno em m: \"))\n",
    "b = float(input(\"Digite o comprimento do terreno em m: \"))\n",
    "\n",
    "area(a,b)"
   ]
  },
  {
   "cell_type": "code",
   "execution_count": null,
   "metadata": {
    "colab": {
     "base_uri": "https://localhost:8080/"
    },
    "id": "aFDOuC4_r4VN",
    "outputId": "b96d0849-804b-4ac4-e5f0-ab526b40675c"
   },
   "outputs": [
    {
     "name": "stdout",
     "output_type": "stream",
     "text": [
      "Digite a largura do terreno em m: 8\n",
      "Digite o comprimento do terreno em m: 10\n",
      "Área do terreno é 80.00m².\n"
     ]
    }
   ],
   "source": [
    "#V2\n",
    "def area(largura,comprimento):\n",
    "    area = largura * comprimento\n",
    "    return area\n",
    "\n",
    "a = float(input(\"Digite a largura do terreno em m: \"))\n",
    "b = float(input(\"Digite o comprimento do terreno em m: \"))\n",
    "print(f\"\\nÁrea do terreno é {area(a,b):.2f}m².\")"
   ]
  },
  {
   "cell_type": "markdown",
   "metadata": {
    "id": "RBW5-96klHKK"
   },
   "source": [
    "## 03 ##\n",
    "\n",
    "Faça um programa que tenha uma função chamada escreva(), que receba um texto qualquer como parâmetro e mostre uma mensagem com tamanho adaptável.\n",
    "\n",
    "Ex:\n",
    "escreva(‘Olá, mundo!!’)\n",
    " \n",
    "\n",
    "-----------------------------------\n",
    "\n",
    "            Olá, mundo\n",
    "\n",
    "-----------------------------------"
   ]
  },
  {
   "cell_type": "code",
   "execution_count": null,
   "metadata": {
    "colab": {
     "base_uri": "https://localhost:8080/"
    },
    "id": "BB4dISKGit6D",
    "outputId": "ede6a240-6854-4a20-ba95-2201396d3a41"
   },
   "outputs": [
    {
     "name": "stdout",
     "output_type": "stream",
     "text": [
      "-----------------------------------------\n",
      "\n",
      "\n",
      "               Olá, Mundo!\n",
      "\n",
      "\n",
      "-----------------------------------------"
     ]
    }
   ],
   "source": [
    "\"\"\"\n",
    "-----------------------------------\n",
    "\n",
    "            Olá, mundo\n",
    "\n",
    "-----------------------------------\n",
    "\"\"\"\n",
    "#V1\n",
    "def escreva(texto):\n",
    "    cont = len(texto) + 30\n",
    "    for i in range(cont):\n",
    "        print(\"-\", end=\"\")\n",
    "    print()\n",
    "    print()\n",
    "    print()\n",
    "    for i in range(15):\n",
    "        print(end=\" \")\n",
    "    print(f\"{texto}\")\n",
    "    print()\n",
    "    print()\n",
    "    for i in range(cont):\n",
    "        print(\"-\", end=\"\")\n",
    "\n",
    "escreva(\"Olá, Mundo!\")\n"
   ]
  },
  {
   "cell_type": "code",
   "execution_count": null,
   "metadata": {
    "id": "mojzmWd18PTv"
   },
   "outputs": [],
   "source": [
    "#V2\n",
    "def escreva(texto):\n",
    "    tamanho = len(texto)+10\n",
    "    print('-' * tamanho)\n",
    "    print()\n",
    "    print(f\"{texto}\".center(tamanho))\n",
    "    print()\n",
    "    print('-' * tamanho)\n",
    "\n",
    "escreva(input(\"Digite um texto: \"))"
   ]
  },
  {
   "cell_type": "markdown",
   "metadata": {
    "id": "VDKtgwBjyfcj"
   },
   "source": [
    "## 04\n",
    "Faça um programa que tenha uma função chamada contador(), que receba\n",
    "três parâmetros: início, fim e passo e realize a contagem.\n",
    "Seu programa tem que realizar três contagens através da função criada:\n",
    "\n",
    "\tA) De 1 até 10, de 1 em 1\n",
    "\tB) De 10 até 0, de 2 em 2\n",
    "\tC) Uma contagem personalizada"
   ]
  },
  {
   "cell_type": "code",
   "execution_count": null,
   "metadata": {
    "colab": {
     "base_uri": "https://localhost:8080/"
    },
    "id": "4Iwe36aKlpRK",
    "outputId": "3ae3584c-5edc-4a00-85f6-0140e26f4ed3"
   },
   "outputs": [
    {
     "name": "stdout",
     "output_type": "stream",
     "text": [
      "Digite o número inicial: 10\n",
      "Digite o número final: 100\n",
      "Digite o passo: 2\n",
      "\n",
      "1 2 3 4 5 6 7 8 9 10 \n",
      "\n",
      "10 8 6 4 2 0 \n",
      "\n",
      "10 12 14 16 18 20 22 24 26 28 30 32 34 36 38 40 42 44 46 48 50 52 54 56 58 60 62 64 66 68 70 72 74 76 78 80 82 84 86 88 90 92 94 96 98 100 "
     ]
    }
   ],
   "source": [
    "def contador(inicio,fim, passo):\n",
    "    print()\n",
    "    for i in range(1,11):\n",
    "        print(i, end=\" \")\n",
    "    print()\n",
    "    print()\n",
    "    for i in range(10,-1,-2):\n",
    "        print(i, end=\" \")\n",
    "    print()\n",
    "    print()\n",
    "    for i in range(inicio,fim+passo,passo):\n",
    "        print(i, end=\" \")\n",
    "\n",
    "inicio = int(input(\"Digite o número inicial: \"))\n",
    "fim = int(input(\"Digite o número final: \"))\n",
    "passo = int(input(\"Digite o passo: \"))\n",
    "\n",
    "contador(inicio,fim,passo)"
   ]
  },
  {
   "cell_type": "markdown",
   "metadata": {
    "id": "_CLgAPmw8288"
   },
   "source": [
    "## 05\n",
    "Faça um programa que tenha uma função chamada maior(), que receba três parâmetros com valores inteiros.\n",
    "Seu programa tem que analisar todos os valores e dizer qual deles é o maior."
   ]
  },
  {
   "cell_type": "code",
   "execution_count": null,
   "metadata": {
    "colab": {
     "base_uri": "https://localhost:8080/"
    },
    "id": "hKrev5ppz0bi",
    "outputId": "8b661bdc-5faf-46dd-dca2-9fb557c64f9f"
   },
   "outputs": [
    {
     "name": "stdout",
     "output_type": "stream",
     "text": [
      "Digite o número: 7\n",
      "Digite o número: 8\n",
      "Digite o número: 2\n",
      "8\n"
     ]
    }
   ],
   "source": [
    "def maior(a,b,c):\n",
    "    maior = max(a,b,c)\n",
    "    return maior\n",
    "\n",
    "a = int(input(\"Digite um número: \"))\n",
    "b = int(input(\"Digite um número: \"))\n",
    "c = int(input(\"Digite um número: \"))\n",
    "\n",
    "print(maior(a,b,c))"
   ]
  },
  {
   "cell_type": "code",
   "execution_count": null,
   "metadata": {
    "id": "TzWJ97or_Q_1"
   },
   "outputs": [],
   "source": []
  }
 ],
 "metadata": {
  "colab": {
   "provenance": [],
   "toc_visible": true
  },
  "kernelspec": {
   "display_name": "Python 3",
   "name": "python3"
  },
  "language_info": {
   "name": "python"
  }
 },
 "nbformat": 4,
 "nbformat_minor": 0
}
