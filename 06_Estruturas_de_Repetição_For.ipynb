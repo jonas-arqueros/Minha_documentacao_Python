{
 "cells": [
  {
   "cell_type": "markdown",
   "metadata": {
    "id": "CD5Zy566Zk_I"
   },
   "source": [
    "# Estrutura de repetição"
   ]
  },
  {
   "cell_type": "markdown",
   "metadata": {
    "id": "mg1qeEQaZr62"
   },
   "source": [
    "## For\n",
    "\n"
   ]
  },
  {
   "cell_type": "code",
   "execution_count": null,
   "metadata": {
    "id": "_ReaPc_1ans2"
   },
   "outputs": [],
   "source": [
    "for <elemento> in range(inicio, fim, salto): # inclui o início, não incluindo o final do intervalo\n"
   ]
  },
  {
   "cell_type": "code",
   "execution_count": 3,
   "metadata": {
    "colab": {
     "base_uri": "https://localhost:8080/"
    },
    "id": "QatTJ2aZawy2",
    "outputId": "de21f4eb-fd8c-404d-e411-bbacde617b9d"
   },
   "outputs": [
    {
     "name": "stdout",
     "output_type": "stream",
     "text": [
      "1\n",
      "2\n",
      "3\n",
      "4\n",
      "5\n",
      "6\n",
      "7\n",
      "8\n",
      "9\n"
     ]
    }
   ],
   "source": [
    "for i in range(1,10):\n",
    "    print(i)"
   ]
  },
  {
   "cell_type": "code",
   "execution_count": null,
   "metadata": {
    "colab": {
     "base_uri": "https://localhost:8080/"
    },
    "id": "9xrziDlFbX_a",
    "outputId": "31bf2448-e054-4258-fdf6-950df6a450d0"
   },
   "outputs": [
    {
     "name": "stdout",
     "output_type": "stream",
     "text": [
      "1\n",
      "3\n",
      "5\n",
      "7\n",
      "9\n"
     ]
    }
   ],
   "source": [
    "for j in range(1,10,2):\n",
    "    print(j)"
   ]
  },
  {
   "cell_type": "code",
   "execution_count": null,
   "metadata": {
    "colab": {
     "base_uri": "https://localhost:8080/"
    },
    "id": "Msi955UjcAc1",
    "outputId": "0736a2f0-f820-4e4a-b048-dad41364991f"
   },
   "outputs": [
    {
     "name": "stdout",
     "output_type": "stream",
     "text": [
      "5\n",
      "4\n",
      "3\n",
      "2\n",
      "1\n",
      "0\n"
     ]
    }
   ],
   "source": [
    "inicio = 5\n",
    "fim    = -1\n",
    "salto  = -1\n",
    "\n",
    "for i in range(inicio,fim,salto):\n",
    "    print(i)"
   ]
  },
  {
   "cell_type": "code",
   "execution_count": 4,
   "metadata": {
    "colab": {
     "base_uri": "https://localhost:8080/"
    },
    "id": "KpssvLJ6cbsd",
    "outputId": "fc81b39b-b3ef-4449-b6d1-13a1f5822b55"
   },
   "outputs": [
    {
     "name": "stdout",
     "output_type": "stream",
     "text": [
      "1 | PROGRAMAÇÃO\n",
      "2 | PROGRAMAÇÃO\n",
      "3 | PROGRAMAÇÃO\n",
      "4 | PROGRAMAÇÃO\n",
      "5 | PROGRAMAÇÃO\n"
     ]
    }
   ],
   "source": [
    "for i in range(5):\n",
    "    print(f\"{i+1} | PROGRAMAÇÃO\")"
   ]
  },
  {
   "cell_type": "code",
   "execution_count": null,
   "metadata": {
    "colab": {
     "base_uri": "https://localhost:8080/"
    },
    "id": "GBY66n5mdPMd",
    "outputId": "b719ab4c-cf60-480d-adf0-0731db462369"
   },
   "outputs": [
    {
     "name": "stdout",
     "output_type": "stream",
     "text": [
      "P\n",
      "Y\n",
      "T\n",
      "H\n",
      "O\n",
      "N\n"
     ]
    }
   ],
   "source": [
    "texto = \"PYTHON\"\n",
    "\n",
    "for letra in texto:\n",
    "    print(letra)"
   ]
  },
  {
   "cell_type": "code",
   "execution_count": null,
   "metadata": {
    "colab": {
     "base_uri": "https://localhost:8080/"
    },
    "id": "JMqsBmYYdd-8",
    "outputId": "2871f268-e70b-4fca-b43f-39043c9d7373"
   },
   "outputs": [
    {
     "name": "stdout",
     "output_type": "stream",
     "text": [
      "P - Y - T - H - O - N - "
     ]
    }
   ],
   "source": [
    "texto = \"PYTHON\"\n",
    "for letra in texto:\n",
    "    print(letra, end=\" - \") # end muda o final do print"
   ]
  },
  {
   "cell_type": "markdown",
   "metadata": {
    "id": "7IIra0UjgJHi"
   },
   "source": [
    "### Break"
   ]
  },
  {
   "cell_type": "code",
   "execution_count": null,
   "metadata": {
    "colab": {
     "base_uri": "https://localhost:8080/"
    },
    "id": "GDK86I4YeG-M",
    "outputId": "bc636534-84ef-45cd-b70e-370275152eb8"
   },
   "outputs": [
    {
     "name": "stdout",
     "output_type": "stream",
     "text": [
      "0-1-2-3-4-5-6-7-8-9-Acabou\n"
     ]
    }
   ],
   "source": [
    "for i in range(50):\n",
    "    if i >= 10:\n",
    "        print(\"Acabou\")\n",
    "        break # interrompe o laço\n",
    "    print(i, end=\"-\")"
   ]
  },
  {
   "cell_type": "markdown",
   "metadata": {
    "id": "EeBfsuPLgOUj"
   },
   "source": [
    "### Continue"
   ]
  },
  {
   "cell_type": "code",
   "execution_count": null,
   "metadata": {
    "colab": {
     "base_uri": "https://localhost:8080/"
    },
    "id": "Rv2uOfrcgN7D",
    "outputId": "48d689da-692e-4907-f5e6-2f76ce4e3423"
   },
   "outputs": [
    {
     "name": "stdout",
     "output_type": "stream",
     "text": [
      "1-10-20-40-50-"
     ]
    }
   ],
   "source": [
    "lista = [1,10,20,30,40,50]\n",
    "\n",
    "for num in lista:\n",
    "    if num == 30:\n",
    "        continue # não executa a instrução depois do continue dentro do laço\n",
    "    print(num, end=\"-\")"
   ]
  },
  {
   "cell_type": "markdown",
   "metadata": {
    "id": "8QKPgIV_dFaF"
   },
   "source": [
    "# Desafios"
   ]
  },
  {
   "cell_type": "markdown",
   "metadata": {
    "id": "K6WGO6Kohb7z"
   },
   "source": [
    "## 01\n",
    "\n",
    "Faça um programa que mostre na tela uma contagem regressiva para\n",
    "o estouro de fogos de artificio, indo de 10 até 0, com uma pausa\n",
    "de 1 segundo entre eles.\n",
    "Utilizar a Biblioteca TIME\n",
    "\n",
    "time.sleep(segundos)"
   ]
  },
  {
   "cell_type": "code",
   "execution_count": null,
   "metadata": {
    "colab": {
     "base_uri": "https://localhost:8080/"
    },
    "id": "JmvM0d6WdFBV",
    "outputId": "d7966c4e-a6c8-40bf-e318-dd35515a01de"
   },
   "outputs": [
    {
     "name": "stdout",
     "output_type": "stream",
     "text": [
      "____________10____________\n",
      "____________9_____________\n",
      "____________8_____________\n",
      "____________7_____________\n",
      "____________6_____________\n",
      "____________5_____________\n",
      "____________4_____________\n",
      "____________3_____________\n",
      "____________2_____________\n",
      "____________1_____________\n",
      "____________0_____________\n",
      "\n",
      "\u001b[1;33m🎆🎇 Feliz Ano Novo ✨🎉\n"
     ]
    }
   ],
   "source": [
    "#V1\n",
    "import time\n",
    "\n",
    "for t in range(10,-1,-1):\n",
    "    time.sleep(1)\n",
    "    print(f\"{t}\".center(26,\"_\"))\n",
    "    if t == 0:\n",
    "        print(f\"\\n\\033[1;33m🎆🎇 Feliz Ano Novo ✨🎉\".center(25,\"-\"))"
   ]
  },
  {
   "cell_type": "code",
   "execution_count": null,
   "metadata": {
    "colab": {
     "base_uri": "https://localhost:8080/"
    },
    "id": "vAT_-h1Nh0ek",
    "outputId": "cc7d0a9b-4230-4ff2-e09b-878c42cfc899"
   },
   "outputs": [
    {
     "name": "stdout",
     "output_type": "stream",
     "text": [
      "\n",
      "\u001b[1;35m🎆🎇 Feliz Ano Novo ✨🎉\n"
     ]
    }
   ],
   "source": [
    "#V2\n",
    "from google.colab import output\n",
    "import time\n",
    "\n",
    "for t in range(10,-1,-1):\n",
    "    print(f\"{t}\".center(26,\"_\"))\n",
    "    time.sleep(1)\n",
    "    output.clear()\n",
    "    if t == 0:\n",
    "        print(f\"\\n\\033[1;35m🎆🎇 Feliz Ano Novo ✨🎉\".center(25,\"-\"))"
   ]
  },
  {
   "cell_type": "markdown",
   "metadata": {
    "id": "bVpgZS9CCZaD"
   },
   "source": [
    "## 02\n",
    "\n",
    "Crie um programa que mostre na tela todos os números pares que estão\n",
    "no intervalo entre 1 e 50."
   ]
  },
  {
   "cell_type": "code",
   "execution_count": null,
   "metadata": {
    "colab": {
     "base_uri": "https://localhost:8080/"
    },
    "id": "CtSkaclqCeJL",
    "outputId": "9c66cb67-573b-45a5-86de-bb504e124f01"
   },
   "outputs": [
    {
     "name": "stdout",
     "output_type": "stream",
     "text": [
      "\u001b[1m0 - \u001b[1m2 - \u001b[1m4 - \u001b[1m6 - \u001b[1m8 - \u001b[1m10 - \u001b[1m12 - \u001b[1m14 - \u001b[1m16 - \u001b[1m18 - \u001b[1m20 - \u001b[1m22 - \u001b[1m24 - \u001b[1m26 - \u001b[1m28 - \u001b[1m30 - \u001b[1m32 - \u001b[1m34 - \u001b[1m36 - \u001b[1m38 - \u001b[1m40 - \u001b[1m42 - \u001b[1m44 - \u001b[1m46 - \u001b[1m48 - \u001b[1m50 - "
     ]
    }
   ],
   "source": [
    "for j in range(0,51,2):\n",
    "    print(f\"\\033[1m{j}\", end=\" - \")\n"
   ]
  },
  {
   "cell_type": "markdown",
   "metadata": {
    "id": "-mZnnv0G7xnM"
   },
   "source": [
    "## 03\n",
    "\n",
    "Faça um programa que calcule a soma entre todos os números ímpares\n",
    "que são múltiplos de três e que se encontram no intervalo de 1 até 500."
   ]
  },
  {
   "cell_type": "code",
   "execution_count": null,
   "metadata": {
    "colab": {
     "base_uri": "https://localhost:8080/"
    },
    "id": "dLMPQW20lgvD",
    "outputId": "95167948-3ef6-49d1-deb7-87029e8c3bee"
   },
   "outputs": [
    {
     "name": "stdout",
     "output_type": "stream",
     "text": [
      "\n",
      "A soma dos números é 20667.\n"
     ]
    }
   ],
   "source": [
    "soma = 0\n",
    "for n in range(1,501,2):\n",
    "    if (n % 3 == 0):\n",
    "    #if (n % 2 != 0) and (n % 3 == 0):\n",
    "        soma += n\n",
    "        #print(n, end=\"-\")\n",
    "print(f\"\\nA soma dos números é {soma}.\")"
   ]
  },
  {
   "cell_type": "markdown",
   "metadata": {
    "id": "aZ9uGgvZ7zsz"
   },
   "source": [
    "## 04\n",
    "\n",
    "Mostre a tabuada de um número que o usuário escolher.\n"
   ]
  },
  {
   "cell_type": "code",
   "execution_count": null,
   "metadata": {
    "colab": {
     "base_uri": "https://localhost:8080/"
    },
    "id": "xZOoQZc-8FV8",
    "outputId": "4a16cf5b-1849-4cdf-eb1a-7e379ad3dbdc"
   },
   "outputs": [
    {
     "name": "stdout",
     "output_type": "stream",
     "text": [
      "Digite um número inteiro:111\n",
      "\u001b[1m 1  x 111 = 111\n",
      "\u001b[1m 2  x 111 = 222\n",
      "\u001b[1m 3  x 111 = 333\n",
      "\u001b[1m 4  x 111 = 444\n",
      "\u001b[1m 5  x 111 = 555\n",
      "\u001b[1m 6  x 111 = 666\n",
      "\u001b[1m 7  x 111 = 777\n",
      "\u001b[1m 8  x 111 = 888\n",
      "\u001b[1m 9  x 111 = 999\n",
      "\u001b[1m10  x 111 = 1110\n"
     ]
    }
   ],
   "source": [
    "numero = int(input(\"Digite um número inteiro:\"))\n",
    "for i in range(1,11):\n",
    "    print(f\"\\033[1m{i:^3} x {numero:^3} = {i*numero:^3}\")"
   ]
  },
  {
   "cell_type": "markdown",
   "metadata": {
    "id": "2ZAWkUd0IA3T"
   },
   "source": [
    "## 05\n",
    "\n",
    "Desenvolva um programa que leia seis números inteiros e mostre a soma apenas daqueles que forem pares. Se o valor digitado for impar desconsidere-o.\n"
   ]
  },
  {
   "cell_type": "code",
   "execution_count": null,
   "metadata": {
    "colab": {
     "base_uri": "https://localhost:8080/"
    },
    "id": "WKAWlRL3-DXE",
    "outputId": "e76bfadc-3cd4-43f4-f272-7bcde5297fb3"
   },
   "outputs": [
    {
     "name": "stdout",
     "output_type": "stream",
     "text": [
      "Digite o 1º número inteiro: 156\n",
      "Digite o 2º número inteiro: 68465\n",
      "Digite o 3º número inteiro: 5648\n",
      "Digite o 4º número inteiro: 8651\n",
      "Digite o 5º número inteiro: 23\n",
      "Digite o 6º número inteiro: 31\n",
      "\n",
      "A soma dos números pares é 5804.\n"
     ]
    }
   ],
   "source": [
    "soma = 0\n",
    "for i in range(1,7):\n",
    "    numero = int(input(f\"Digite o {i}º número inteiro: \"))\n",
    "    if numero % 2 ==0:\n",
    "        soma += numero\n",
    "print(f\"\\nA soma dos números pares é {soma}.\")"
   ]
  },
  {
   "cell_type": "markdown",
   "metadata": {
    "id": "mKtYP-U2OZeR"
   },
   "source": [
    "## 06\n",
    "\n",
    "Desenvolva um programa que leia o primeiro termo e a razão de uma PA.\n",
    "No final, mostre os 10 primeiros termos dessa progressão.6"
   ]
  },
  {
   "cell_type": "code",
   "execution_count": null,
   "metadata": {
    "colab": {
     "base_uri": "https://localhost:8080/"
    },
    "id": "zi9Z3dHXIqaD",
    "outputId": "64e20766-3c6c-4841-a39e-300765e26cd9"
   },
   "outputs": [
    {
     "name": "stdout",
     "output_type": "stream",
     "text": [
      "Digite o primeiro termo da PA:10\n",
      "Digite a razão da PA:2\n",
      "10, 12, 14, 16, 18, 20, 22, 24, 26, 28, "
     ]
    }
   ],
   "source": [
    "#V1\n",
    "termo1    = int(input(\"Digite o primeiro termo da PA:\"))\n",
    "razao = int(input(\"Digite a razão da PA:\"))\n",
    "\n",
    "for i in range(10):\n",
    "    print(f\"{termo1}\", end=\", \")\n",
    "    termo1 += razao"
   ]
  },
  {
   "cell_type": "code",
   "execution_count": null,
   "metadata": {
    "colab": {
     "base_uri": "https://localhost:8080/"
    },
    "id": "DvTuTmjjPLrB",
    "outputId": "39f85a69-1207-4d2f-a659-b93f84a7b840"
   },
   "outputs": [
    {
     "name": "stdout",
     "output_type": "stream",
     "text": [
      "Digite o primeiro termo da PA:10\n",
      "Digite a razão da PA:10\n",
      "10, 20, 30, 40, 50, 60, 70, 80, 90, 100, "
     ]
    }
   ],
   "source": [
    "#V2\n",
    "termo1    = int(input(\"Digite o primeiro termo da PA:\"))\n",
    "razao = int(input(\"Digite a razão da PA:\"))\n",
    "\n",
    "for i in range(termo1,(1+termo1+(10-1)*razao),razao):\n",
    "    print(f\"{i}\", end=\", \")\n"
   ]
  },
  {
   "cell_type": "markdown",
   "metadata": {
    "id": "mIaeD4PocH97"
   },
   "source": [
    "## 07\n",
    "\n",
    "Crie um programa que leia o ano de nascimento de sete pessoas. No final, mostre quantas pessoas ainda não atingiram a maioridade e quantas já são maiores."
   ]
  },
  {
   "cell_type": "code",
   "execution_count": null,
   "metadata": {
    "colab": {
     "base_uri": "https://localhost:8080/"
    },
    "id": "4W0TaKLZTwlh",
    "outputId": "65467767-7a4a-4e82-ffa6-e1e169895d47"
   },
   "outputs": [
    {
     "name": "stdout",
     "output_type": "stream",
     "text": [
      "Digite o 1º ano: 2005\n",
      "Digite o 2º ano: 2006\n",
      "Digite o 3º ano: 2007\n",
      "Digite o 4º ano: 2008\n",
      "Digite o 5º ano: 2000\n",
      "Digite o 6º ano: 2004\n",
      "Digite o 7º ano: 2002\n",
      "\n",
      "2 pessoa(s) não atingiram a maioridade e 5 já atingiram.\n"
     ]
    }
   ],
   "source": [
    "menor = 0\n",
    "maior = 0\n",
    "for i in range(1,8):\n",
    "    ano = int(input(f\"Digite o {i}º ano: \"))\n",
    "    if 2024-ano < 18:\n",
    "        menor += 1\n",
    "    else:\n",
    "        maior += 1\n",
    "print(f\"\\n{menor} pessoa(s) não atingiram a maioridade e {maior} já atingiram.\")"
   ]
  },
  {
   "cell_type": "markdown",
   "metadata": {
    "id": "6A9Q9bq-g-3l"
   },
   "source": [
    "## 08\n",
    "\n",
    "Faça um programa que leia um número inteiro e diga se ele é ou não um numero primo."
   ]
  },
  {
   "cell_type": "code",
   "execution_count": null,
   "metadata": {
    "colab": {
     "base_uri": "https://localhost:8080/"
    },
    "id": "kpU8d0e0c5m4",
    "outputId": "761d359c-e5e7-4e0b-ce6c-cd2ef8cd1021"
   },
   "outputs": [
    {
     "name": "stdout",
     "output_type": "stream",
     "text": [
      "Digite um número inteiro: 9\n",
      "\n",
      "\u001b[1;32mÉ um número primo!\n"
     ]
    }
   ],
   "source": [
    "#V1\n",
    "num = int(input(\"Digite um número inteiro: \"))\n",
    "\n",
    "match num:\n",
    "    case 2 | 3 | 5 | 7 | 9:\n",
    "        print(\"\\n\\033[1;32mÉ um número primo!\")\n",
    "    case _ if num % 2 != 0 and num % 3 != 0 and num % 5 != 0 and num % 7 != 0 and num % 9 != 0:\n",
    "        print(\"\\n\\033[1;32mÉ um número primo!\")\n",
    "    case _:\n",
    "        print(\"\\n\\033[1;31mNâo é um número primo!\")"
   ]
  },
  {
   "cell_type": "code",
   "execution_count": null,
   "metadata": {
    "colab": {
     "base_uri": "https://localhost:8080/"
    },
    "id": "rKZSfCPERecP",
    "outputId": "905e5dea-cbe8-4a08-a050-10f594db5785"
   },
   "outputs": [
    {
     "name": "stdout",
     "output_type": "stream",
     "text": [
      "Digite um número inteiro: 19\n",
      "\n",
      "\u001b[1;32mÉ um número primo!\n"
     ]
    }
   ],
   "source": [
    "#V2 feito pelo professor Leandro\n",
    "primo = True\n",
    "num = int(input(\"Digite um número inteiro: \"))\n",
    "\n",
    "for i in range (2,num):\n",
    "    if num % i == 0:\n",
    "        primo = False\n",
    "        break\n",
    "\n",
    "if primo:\n",
    "    print(\"\\n\\033[1;32mÉ um número primo!\")\n",
    "else:\n",
    "    print(\"\\n\\033[1;31mNâo é um número primo!\")\n"
   ]
  },
  {
   "cell_type": "markdown",
   "metadata": {
    "id": "OPmJsIeOhCeW"
   },
   "source": [
    "## 09\n",
    "\n",
    "Faça um programa que leia o peso de cinco pessoas. No final, mostre qual foi o maior e o menor peso lidos.\n"
   ]
  },
  {
   "cell_type": "code",
   "execution_count": null,
   "metadata": {
    "colab": {
     "base_uri": "https://localhost:8080/"
    },
    "id": "TptupH1GhFRu",
    "outputId": "89e0be3a-f97b-4598-fe73-a9bf0f17ea1d"
   },
   "outputs": [
    {
     "name": "stdout",
     "output_type": "stream",
     "text": [
      "Digite o 1º peso: 44\n",
      "Digite o 2º peso: 55\n",
      "Digite o 3º peso: 66\n",
      "Digite o 4º peso: 77\n",
      "Digite o 5º peso: 88\n",
      "\n",
      "O maior peso é 88.0kg e o menor é 44.0kg.\n"
     ]
    }
   ],
   "source": [
    "#V1\n",
    "lista = []\n",
    "for i in range(1,6):\n",
    "    peso = float(input(f\"Digite o {i}º peso: \"))\n",
    "    lista.append(peso)\n",
    "    #print(lista)\n",
    "print(f\"\\nO maior peso é {max(lista)}kg e o menor é {min(lista)}kg.\")\n",
    "\n",
    "#print(f\"\\n{max} pessoa(s) não atingiram a maioridade e {maior} já atingiram.\")"
   ]
  },
  {
   "cell_type": "code",
   "execution_count": null,
   "metadata": {
    "colab": {
     "base_uri": "https://localhost:8080/"
    },
    "id": "3wVrS8gOmFZd",
    "outputId": "348a105a-a56d-4bdf-c0aa-14d29ed3f08f"
   },
   "outputs": [
    {
     "name": "stdout",
     "output_type": "stream",
     "text": [
      "Digite o 1º peso: 22\n",
      "Digite o 2º peso: 22\n",
      "Digite o 3º peso: 22\n",
      "Digite o 4º peso: 22\n",
      "Digite o 5º peso: 22\n",
      "\n",
      "O maior peso é 22.0kg e o menor é 22.0kg.\n"
     ]
    }
   ],
   "source": [
    "#V2\n",
    "menor = float(\"inf\") # número infinito, bom para comparações\n",
    "maior = 0\n",
    "for i in range(1,6):\n",
    "    peso = float(input(f\"Digite o {i}º peso: \"))\n",
    "    if peso < menor:\n",
    "        menor = peso\n",
    "    if peso > maior:\n",
    "        maior = peso\n",
    "\n",
    "print(f\"\\nO maior peso é {maior}kg e o menor é {menor}kg.\")"
   ]
  },
  {
   "cell_type": "markdown",
   "metadata": {
    "id": "uusxx4t4uXF-"
   },
   "source": [
    "## 10\n",
    "\n",
    "Desenvolva um programa que leia o nome, idade e sexo de 4 pessoas. No final  do programa mostre:\n",
    "\tA média de idade do grupo\n",
    "\tQual é o nome do homem mais velho\n",
    "\tQuantas mulheres tem menos de 20 anos"
   ]
  },
  {
   "cell_type": "code",
   "execution_count": null,
   "metadata": {
    "colab": {
     "base_uri": "https://localhost:8080/"
    },
    "id": "IknC5uVxqP8t",
    "outputId": "c0120a43-748f-4fc5-95df-1ffe40621ed2"
   },
   "outputs": [
    {
     "name": "stdout",
     "output_type": "stream",
     "text": [
      "Digite o 1º nome: Jonas\n",
      "Digite a idade do(a) Jonas: 35\n",
      "Digite o sexo do(a) Jonas: m\n",
      "\n",
      "Digite o 2º nome: Maria\n",
      "Digite a idade do(a) Maria: 18\n",
      "Digite o sexo do(a) Maria: f\n",
      "\n",
      "Digite o 3º nome: Jose\n",
      "Digite a idade do(a) Jose: 50\n",
      "Digite o sexo do(a) Jose: m\n",
      "\n",
      "Digite o 4º nome: Marta\n",
      "Digite a idade do(a) Marta: 20\n",
      "Digite o sexo do(a) Marta: f\n",
      "\n",
      "\n",
      "\u001b[1mA média de idade das pessoas é 30.8 .\n",
      "\u001b[1mO homem mais velho é o Jose.\n",
      "\u001b[1m1 mulher(es) tem menos de 20 anos.\n"
     ]
    }
   ],
   "source": [
    "soma_idade = 0\n",
    "maior_idade = 0\n",
    "pessoa_maior_idade = \"\"\n",
    "contador_f = 0\n",
    "\n",
    "for i in range(1,5):\n",
    "    nome = input(f\"Digite o {i}º nome: \")\n",
    "    idade = int(input(f\"Digite a idade do(a) {nome}: \"))\n",
    "    sexo = input(f\"Digite o sexo do(a) {nome}: \").lower()\n",
    "    print(\"\")\n",
    "    soma_idade += idade\n",
    "    if idade > maior_idade and (sexo == \"m\" or sexo == \"masculino\"):\n",
    "        maior_idade = idade\n",
    "        pessoa_maior_idade = nome\n",
    "    if idade < 20 and (sexo == \"f\" or sexo == \"feminino\"):\n",
    "        contador_f += 1\n",
    "\n",
    "print(f\"\\n\\033[1mA média de idade das pessoas é {soma_idade/i:.1f} anos.\")\n",
    "if pessoa_maior_idade != \"\":\n",
    "    print(f\"\\033[1mO homem mais velho é o {pessoa_maior_idade}.\")\n",
    "if contador_f != 0:\n",
    "    print(f\"\\033[1m{contador_f} mulher(es) tem menos de 20 anos.\")\n"
   ]
  },
  {
   "cell_type": "code",
   "execution_count": null,
   "metadata": {
    "id": "BWCykq21TyxP"
   },
   "outputs": [],
   "source": []
  }
 ],
 "metadata": {
  "colab": {
   "provenance": [],
   "toc_visible": true
  },
  "kernelspec": {
   "display_name": "Python 3",
   "name": "python3"
  },
  "language_info": {
   "codemirror_mode": {
    "name": "ipython",
    "version": 3
   },
   "file_extension": ".py",
   "mimetype": "text/x-python",
   "name": "python",
   "nbconvert_exporter": "python",
   "pygments_lexer": "ipython3",
   "version": "3.12.1"
  }
 },
 "nbformat": 4,
 "nbformat_minor": 0
}
