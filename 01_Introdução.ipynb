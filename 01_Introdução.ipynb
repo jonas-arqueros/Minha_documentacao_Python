{
 "cells": [
  {
   "cell_type": "markdown",
   "metadata": {
    "id": "uvyylXDbY9BQ"
   },
   "source": [
    "# Introdução"
   ]
  },
  {
   "cell_type": "markdown",
   "metadata": {
    "id": "coL3vzfU3STb"
   },
   "source": [
    "## Função print()"
   ]
  },
  {
   "cell_type": "code",
   "execution_count": null,
   "metadata": {
    "colab": {
     "base_uri": "https://localhost:8080/"
    },
    "id": "gvwXfY-zXKCy",
    "outputId": "e0663fad-fc53-4373-836b-7c961208cc8c"
   },
   "outputs": [
    {
     "name": "stdout",
     "output_type": "stream",
     "text": [
      "Olá mundo!\n"
     ]
    }
   ],
   "source": [
    "print(\"Olá mundo!\")"
   ]
  },
  {
   "cell_type": "code",
   "execution_count": null,
   "metadata": {
    "colab": {
     "base_uri": "https://localhost:8080/"
    },
    "id": "KrZ5bQ3bZHuw",
    "outputId": "691566ea-bcc8-41e1-b7ab-be91cb15989a"
   },
   "outputs": [
    {
     "name": "stdout",
     "output_type": "stream",
     "text": [
      "Jonas\n"
     ]
    }
   ],
   "source": [
    "print(\"Jonas\")"
   ]
  },
  {
   "cell_type": "markdown",
   "metadata": {
    "id": "8Nu5cikw3bDx"
   },
   "source": [
    "# [Literais](https://docs.python.org/pt-br/3/reference/lexical_analysis.html#literals)\n",
    "\n",
    "Literais são notações para representar alguns valores fixos no código. Python tem vários tipos de literais como strings, booleanos, inteiros, floats e complexos.\n",
    "\n"
   ]
  },
  {
   "cell_type": "markdown",
   "metadata": {
    "id": "GpkTmBzo3efR"
   },
   "source": [
    "## Inteiros (int)\n",
    "\n",
    "- inteiros, ou seja, aqueles que são desprovidos da parte fracionária"
   ]
  },
  {
   "cell_type": "code",
   "execution_count": null,
   "metadata": {
    "colab": {
     "base_uri": "https://localhost:8080/"
    },
    "id": "ZwlP45jd3hLK",
    "outputId": "0adf8539-8e3b-42ef-e7ec-26c410593f3d"
   },
   "outputs": [
    {
     "name": "stdout",
     "output_type": "stream",
     "text": [
      "11111111\n",
      "11111111\n",
      "\n",
      "-11111111\n",
      "11111111\n"
     ]
    }
   ],
   "source": [
    "\n",
    "print(11111111)\n",
    "print(11_111_111)\n",
    "print()\n",
    "print(-11111111)\n",
    "print(+11111111)"
   ]
  },
  {
   "cell_type": "markdown",
   "metadata": {
    "id": "a2isfg6X4Adj"
   },
   "source": [
    "## Números binários, octais e hexadecimais\n",
    "\n",
    "- Se um número inteiro for precedido por um prefixo 0b ou 0B (zero-b), ele será tratado como um valor binário.\n",
    "\n",
    "- Se um número inteiro for precedido por um prefixo 0O ou 0o (zero-o), ele será tratado como um valor octal.\n",
    "\n",
    "- Números hexadecimais, esses números devem ser precedidos pelo prefixo 0x ou 0X (zero-x)."
   ]
  },
  {
   "cell_type": "code",
   "execution_count": null,
   "metadata": {
    "colab": {
     "base_uri": "https://localhost:8080/"
    },
    "id": "ibXU3eKV4Vfa",
    "outputId": "2af2bdab-d67e-4a8e-c481-06ffa4d44ae3"
   },
   "outputs": [
    {
     "name": "stdout",
     "output_type": "stream",
     "text": [
      "11\n",
      "3\n",
      "9\n",
      "17\n"
     ]
    }
   ],
   "source": [
    "print(11)   #decimal\n",
    "print(0b11) #binário\n",
    "print(0o11) #octal\n",
    "print(0x11) #hexadecimal"
   ]
  },
  {
   "cell_type": "markdown",
   "metadata": {
    "id": "iI-4MoQy8plM"
   },
   "source": [
    "## Números de ponto flutuante (float)\n",
    "\n",
    "São números que contêm (ou são capazes de conter) um componente fracionário."
   ]
  },
  {
   "cell_type": "code",
   "execution_count": null,
   "metadata": {
    "colab": {
     "base_uri": "https://localhost:8080/"
    },
    "id": "eWg-NzpV81Rl",
    "outputId": "401c1fdc-a812-482a-8a68-f263d198e526"
   },
   "outputs": [
    {
     "name": "stdout",
     "output_type": "stream",
     "text": [
      "4.0\n",
      "0.4\n",
      "4.0\n"
     ]
    }
   ],
   "source": [
    "print(4.0)\n",
    "print(.4)\n",
    "print(4.)"
   ]
  },
  {
   "cell_type": "markdown",
   "metadata": {
    "id": "vwWwH3MX9Ccs"
   },
   "source": [
    "## Notação científica\n",
    "\n",
    "- o expoente (o valor após o E) tem que ser um número inteiro;\n",
    "- a base (o valor na frente do E) pode ser um número inteiro ou um valor flutuante."
   ]
  },
  {
   "cell_type": "code",
   "execution_count": null,
   "metadata": {
    "colab": {
     "base_uri": "https://localhost:8080/"
    },
    "id": "SBbUfYxz9QhT",
    "outputId": "67ccdccf-3312-42b6-8c32-67cf0101458f"
   },
   "outputs": [
    {
     "name": "stdout",
     "output_type": "stream",
     "text": [
      "300000000\n",
      "300000000.0\n",
      "\n",
      "6.62607e-34\n"
     ]
    }
   ],
   "source": [
    "print(300000000) #c, velocidade da luz\n",
    "print(3E8)\n",
    "print()\n",
    "# Uma constante física chamada constante de Planck, tem o valor de: 6,62607 x 10-34.\n",
    "print(6.62607E-34)"
   ]
  },
  {
   "cell_type": "markdown",
   "metadata": {
    "id": "TeqsQDZU-V0s"
   },
   "source": [
    "## Números complexos (i)"
   ]
  },
  {
   "cell_type": "code",
   "execution_count": null,
   "metadata": {
    "colab": {
     "base_uri": "https://localhost:8080/"
    },
    "id": "v89F4Jbh-abk",
    "outputId": "bae61e96-d14f-49c6-9058-e91a1b9b1c94"
   },
   "outputs": [
    {
     "name": "stdout",
     "output_type": "stream",
     "text": [
      "(2+7j)\n",
      "(1.5+0j)\n",
      "(15+0j)\n"
     ]
    }
   ],
   "source": [
    "print(2 + 7j)\n",
    "print(1.5 - 0j)\n",
    "print(10 + 1j + 5 - 1j)"
   ]
  },
  {
   "cell_type": "markdown",
   "metadata": {
    "id": "smiA7NkjOGeZ"
   },
   "source": [
    "## Valores Booleanos\n",
    "\n",
    "Valores booleanos são os dois objetos constantes True e False usados para representar valores de verdade (em contextos numéricos, 1 é True, enquanto 0 é False.\n",
    "\n"
   ]
  },
  {
   "cell_type": "code",
   "execution_count": null,
   "metadata": {
    "colab": {
     "base_uri": "https://localhost:8080/"
    },
    "id": "r_1W4NAoOJmg",
    "outputId": "f44727e9-52a1-43a8-94e6-3f9cf0d03b29"
   },
   "outputs": [
    {
     "name": "stdout",
     "output_type": "stream",
     "text": [
      "True\n",
      "False\n"
     ]
    }
   ],
   "source": [
    "print(True)\n",
    "print(False)"
   ]
  },
  {
   "cell_type": "code",
   "execution_count": null,
   "metadata": {
    "colab": {
     "base_uri": "https://localhost:8080/"
    },
    "id": "K3ak4Ie9OhqB",
    "outputId": "02803612-aebe-4f49-a133-c886e0caf70d"
   },
   "outputs": [
    {
     "name": "stdout",
     "output_type": "stream",
     "text": [
      "True\n",
      "False\n"
     ]
    }
   ],
   "source": [
    "print(True > False)\n",
    "print(True < False)"
   ]
  },
  {
   "cell_type": "markdown",
   "metadata": {
    "id": "C9RgslguOzyY"
   },
   "source": [
    "# Operadores Lógicos\n",
    "Álgebra Booleana"
   ]
  },
  {
   "cell_type": "code",
   "execution_count": null,
   "metadata": {
    "colab": {
     "base_uri": "https://localhost:8080/"
    },
    "id": "IalzyLS8yVgo",
    "outputId": "32b25707-6d20-4e85-ba7a-d7345b661c1f"
   },
   "outputs": [
    {
     "name": "stdout",
     "output_type": "stream",
     "text": [
      "False\n",
      "True\n",
      "False\n"
     ]
    }
   ],
   "source": [
    "a = True\n",
    "b = False#\n",
    "\n",
    "print(a and b)  # False\n",
    "print(a or b)   # True\n",
    "print(not a)    # False"
   ]
  },
  {
   "cell_type": "code",
   "execution_count": null,
   "metadata": {
    "colab": {
     "base_uri": "https://localhost:8080/"
    },
    "id": "p8FKdlhjO4rt",
    "outputId": "ab520a66-79dd-4b0b-a45f-91adbced20fc"
   },
   "outputs": [
    {
     "name": "stdout",
     "output_type": "stream",
     "text": [
      "False\n",
      "True\n",
      "False\n"
     ]
    }
   ],
   "source": [
    "a = True\n",
    "b = False\n",
    "\n",
    "print(a and b)\n",
    "print(a or b)\n",
    "print(not a)"
   ]
  },
  {
   "cell_type": "code",
   "execution_count": null,
   "metadata": {
    "colab": {
     "base_uri": "https://localhost:8080/"
    },
    "id": "RC7ggTOWPhmJ",
    "outputId": "e7bba892-eb95-4359-b2a1-4ac6c3ddd17f"
   },
   "outputs": [
    {
     "name": "stdout",
     "output_type": "stream",
     "text": [
      "Aprovado\n"
     ]
    }
   ],
   "source": [
    "# Exemplo 1\n",
    "\n",
    "nota = 70\n",
    "freq = 11\n",
    "\n",
    "if nota >= 50 and freq <= 15:\n",
    "    print(\"Aprovado\")\n",
    "else:\n",
    "    print(\"Reprovado\")"
   ]
  },
  {
   "cell_type": "code",
   "execution_count": null,
   "metadata": {
    "colab": {
     "base_uri": "https://localhost:8080/"
    },
    "id": "OtcTxDQ2SM9Z",
    "outputId": "7733d4ed-e53a-401f-e8d0-f8060fc91f6e"
   },
   "outputs": [
    {
     "name": "stdout",
     "output_type": "stream",
     "text": [
      "Pode votar\n"
     ]
    }
   ],
   "source": [
    "# Exemplo 2\n",
    "\n",
    "idade = 20\n",
    "\n",
    "if idade >= 16:\n",
    "    print(\"Pode votar\")\n",
    "else:\n",
    "    print(\"Não pode votar\")"
   ]
  },
  {
   "cell_type": "code",
   "execution_count": null,
   "metadata": {
    "colab": {
     "base_uri": "https://localhost:8080/"
    },
    "id": "14ZrdaDaUQSZ",
    "outputId": "722e8233-12c3-4269-e057-afb019f90a47"
   },
   "outputs": [
    {
     "name": "stdout",
     "output_type": "stream",
     "text": [
      "Digite o ano de nascimento: 1999\n",
      "\n",
      "Maior de idade. O usuário tem 25 anos.\n"
     ]
    }
   ],
   "source": [
    "# Exemplo Idade\n",
    "\n",
    "nasc = int(input(\"Digite o ano de nascimento: \"))\n",
    "idade = 2024 - nasc\n",
    "\n",
    "if idade >= 18:\n",
    "    print(f\"\\nMaior de idade. O usuário tem {idade} anos.\")\n",
    "else:\n",
    "    print(f\"\\nMenor de idade. O usuário tem {idade} anos.\")"
   ]
  },
  {
   "cell_type": "code",
   "execution_count": null,
   "metadata": {
    "colab": {
     "base_uri": "https://localhost:8080/"
    },
    "id": "_eW76ScgYL9P",
    "outputId": "d9014b0f-762e-48c0-c380-309c99b7e445"
   },
   "outputs": [
    {
     "name": "stdout",
     "output_type": "stream",
     "text": [
      "Digite a nota 1: 8\n",
      "Digite a nota 2: 0\n",
      "\n",
      "Reprovado com média 4.0.\n"
     ]
    }
   ],
   "source": [
    "# Exemplo Média\n",
    "\n",
    "n1 = float(input(\"Digite a nota 1: \"))\n",
    "n2 = float(input(\"Digite a nota 2: \"))\n",
    "\n",
    "media = (n1 + n2)/2\n",
    "\n",
    "if media >= 5:\n",
    "    print(f\"\\nAprovado com média {media}.\")\n",
    "else:\n",
    "    print(f\"\\nReprovado com média {media}.\")"
   ]
  },
  {
   "cell_type": "markdown",
   "metadata": {
    "id": "Unsn8enJtPrp"
   },
   "source": [
    "# Operadores Aritméticos"
   ]
  },
  {
   "cell_type": "code",
   "execution_count": null,
   "metadata": {
    "colab": {
     "base_uri": "https://localhost:8080/"
    },
    "id": "dpUQEgnJf3h9",
    "outputId": "d3030838-43d3-4cc5-939b-5db69f708647"
   },
   "outputs": [
    {
     "name": "stdout",
     "output_type": "stream",
     "text": [
      "13\n",
      "8\n",
      "30\n",
      "3.3333333333333335\n",
      "3\n",
      "1\n",
      "1000\n"
     ]
    }
   ],
   "source": [
    "a = 10\n",
    "b = 3\n",
    "\n",
    "print(a +  b)   #adição\n",
    "print(a -  c)   #subtração\n",
    "print(a *  b)   #multiplicação\n",
    "print(a /  b)   #divisão\n",
    "print(a // b)   #divisão inteira\n",
    "print(a %  b)   #resto da divisão\n",
    "print(a ** b)   #exponenciação ou radiciação"
   ]
  },
  {
   "cell_type": "markdown",
   "metadata": {
    "id": "_FDTvOOLvirQ"
   },
   "source": [
    "# Operadores Relacionais"
   ]
  },
  {
   "cell_type": "code",
   "execution_count": null,
   "metadata": {
    "colab": {
     "base_uri": "https://localhost:8080/"
    },
    "id": "19HKWqc-wupM",
    "outputId": "b234f7fc-5b01-46f7-a053-5fa4067923f7"
   },
   "outputs": [
    {
     "name": "stdout",
     "output_type": "stream",
     "text": [
      "False\n",
      "True\n",
      "True\n",
      "False\n",
      "True\n",
      "False\n"
     ]
    }
   ],
   "source": [
    "a = 10\n",
    "b = 3\n",
    "\n",
    "print(a == b)  # False  Igual\n",
    "print(a != b)  # True   Diferente\n",
    "print(a >  b)  # True   Maior\n",
    "print(a <  b)  # False  Menor\n",
    "print(a >= b)  # True   Maior ou igual\n",
    "print(a <= b)  # False  Menor ou igual"
   ]
  },
  {
   "cell_type": "code",
   "execution_count": null,
   "metadata": {
    "id": "txX0EiFsxUOn"
   },
   "outputs": [],
   "source": []
  },
  {
   "cell_type": "markdown",
   "metadata": {
    "id": "X7R34D9dyihI"
   },
   "source": [
    "# Operadores de Atribuição"
   ]
  },
  {
   "cell_type": "code",
   "execution_count": null,
   "metadata": {
    "colab": {
     "base_uri": "https://localhost:8080/"
    },
    "id": "10F1B0CGyles",
    "outputId": "02ab1709-036d-45bc-d39b-850dc353ac3a"
   },
   "outputs": [
    {
     "name": "stdout",
     "output_type": "stream",
     "text": [
      "12\n",
      "8\n",
      "100\n",
      "5.0\n",
      "100\n",
      "5\n",
      "0\n"
     ]
    }
   ],
   "source": [
    "#   =\n",
    "#  +=\n",
    "#  -=\n",
    "#  *=\n",
    "#  /=\n",
    "# **=\n",
    "# //=\n",
    "#  %=\n",
    "\n",
    "a = 10\n",
    "a += 2  # a = a + 2\n",
    "print(a) # 12\n",
    "\n",
    "b = 10\n",
    "b -= 2  # b = b - 2\n",
    "print(b) # 8\n",
    "\n",
    "c = 10\n",
    "c *= c  # c = c * c\n",
    "print(c) # 100\n",
    "\n",
    "d = 10\n",
    "d /= 2 # d = d / 2\n",
    "print(d) # 5.0\n",
    "\n",
    "d = 10\n",
    "d **= 2 # d = d ** 2\n",
    "print(d) # 100\n",
    "\n",
    "d = 10\n",
    "d //= 2\n",
    "print(d) # 5.0\n",
    "\n",
    "d = 10\n",
    "d %= 2\n",
    "print(d) # 0.0"
   ]
  },
  {
   "cell_type": "markdown",
   "metadata": {
    "id": "EmOYafXsGl57"
   },
   "source": [
    "# Troca de valores simultânea"
   ]
  },
  {
   "cell_type": "code",
   "execution_count": null,
   "metadata": {
    "id": "jhZLN1E9yse8"
   },
   "outputs": [],
   "source": [
    "a = 5\n",
    "b = 2\n",
    "\n",
    "print(a,b)\n",
    "print()\n",
    "\n",
    "a,b = b,a\n",
    "print(a,b)"
   ]
  }
 ],
 "metadata": {
  "colab": {
   "provenance": [],
   "toc_visible": true
  },
  "kernelspec": {
   "display_name": "Python 3",
   "name": "python3"
  },
  "language_info": {
   "name": "python"
  }
 },
 "nbformat": 4,
 "nbformat_minor": 0
}
