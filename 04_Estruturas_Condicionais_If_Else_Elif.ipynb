{
 "cells": [
  {
   "cell_type": "markdown",
   "metadata": {
    "id": "7vrS8Hh2XC-Z"
   },
   "source": [
    "# Estruturas Condicionais\n",
    "https://docs.python.org/pt-br/3/tutorial/controlflow.html"
   ]
  },
  {
   "cell_type": "markdown",
   "metadata": {
    "id": "X1WRW8nHXj2S"
   },
   "source": [
    "## If"
   ]
  },
  {
   "cell_type": "code",
   "execution_count": null,
   "metadata": {
    "colab": {
     "base_uri": "https://localhost:8080/"
    },
    "id": "okGT9HedXSGR",
    "outputId": "4c8c2c45-f885-4842-863c-485987aef42c"
   },
   "outputs": [
    {
     "name": "stdout",
     "output_type": "stream",
     "text": [
      "É maior que 5.\n"
     ]
    }
   ],
   "source": [
    "\"\"\"\n",
    "Operadores relacionais\n",
    "\n",
    ">  MAIOR\n",
    "<  MENOR\n",
    ">= MAIOR OU IGUAL\n",
    "<= MENOR OU IGUAL\n",
    "== IGUAL\n",
    "!= DIFERENTE\n",
    "\"\"\"\n",
    "\n",
    "x = 8\n",
    "\n",
    "if x > 5:\n",
    "    print(\"É maior que 5.\")\n",
    "    if x < 8:\n",
    "        print(\"É menor que 8.\")\n",
    "\n",
    "if x == 10:\n",
    "    print(\"É igual a 10.\")"
   ]
  },
  {
   "cell_type": "markdown",
   "metadata": {
    "id": "aISIOcM9bcgo"
   },
   "source": [
    "## If Else"
   ]
  },
  {
   "cell_type": "code",
   "execution_count": null,
   "metadata": {
    "colab": {
     "base_uri": "https://localhost:8080/"
    },
    "id": "YAZD7wZZaiBB",
    "outputId": "2d7d95e9-28b8-4e7e-e515-5bb2d2934332"
   },
   "outputs": [
    {
     "name": "stdout",
     "output_type": "stream",
     "text": [
      "É igual.\n"
     ]
    }
   ],
   "source": [
    "if x != 8:\n",
    "    print(\"É diferente.\")\n",
    "else:\n",
    "    print(\"É igual.\")"
   ]
  },
  {
   "cell_type": "markdown",
   "metadata": {
    "id": "ybbtwHguty0Z"
   },
   "source": [
    "## Elif\n",
    "\n"
   ]
  },
  {
   "cell_type": "code",
   "execution_count": null,
   "metadata": {
    "id": "LKqlnl3kt2up"
   },
   "outputs": [],
   "source": [
    "if x != 8:\n",
    "    print(\"É diferente.\")\n",
    "elif x == 10:\n",
    "    print(\"É igual a 10.\")\n",
    "else:\n",
    "    print(\"É igual.\")"
   ]
  },
  {
   "cell_type": "markdown",
   "metadata": {
    "id": "a5y2uOePcXUv"
   },
   "source": [
    "# Desafios"
   ]
  },
  {
   "cell_type": "markdown",
   "metadata": {
    "id": "VUG4if_zchn4"
   },
   "source": [
    "## 01\n",
    "\n",
    "Crie um programa que leia o nome de um bairro e diga se\n",
    "ele começa ou não com o nome Santo."
   ]
  },
  {
   "cell_type": "code",
   "execution_count": null,
   "metadata": {
    "colab": {
     "base_uri": "https://localhost:8080/"
    },
    "id": "eRTk6rAPcZ9f",
    "outputId": "45be6782-f796-416b-bf66-00e7a6621bb3"
   },
   "outputs": [
    {
     "name": "stdout",
     "output_type": "stream",
     "text": [
      "Digite o bairro: \n",
      "Santo\n",
      "\n",
      "Este bairro começa com Santo no nome\n"
     ]
    }
   ],
   "source": [
    "bairro = input(\"Digite o bairro: \\n\").lower().split()\n",
    "\n",
    "if bairro[0] == \"santo\":\n",
    "    print(\"\\nEste bairro começa com Santo no nome.\")\n",
    "else:\n",
    "    print(\"\\nEste bairro não começa com Santo no nome.\")\n",
    "\n"
   ]
  },
  {
   "cell_type": "markdown",
   "metadata": {
    "id": "DZf8Hzhxds0D"
   },
   "source": [
    "## 02\n",
    "Crie um programa que leia o nome de uma pessoa e diga se ela\n",
    "tem \"Silva\" no nome."
   ]
  },
  {
   "cell_type": "code",
   "execution_count": null,
   "metadata": {
    "colab": {
     "base_uri": "https://localhost:8080/"
    },
    "id": "WtN8E4tddAHA",
    "outputId": "b5657c00-bf23-4294-886d-a63b77756b5c"
   },
   "outputs": [
    {
     "name": "stdout",
     "output_type": "stream",
     "text": [
      "Digite o nome completo: silva\n",
      "Tem Silva no nome.\n"
     ]
    }
   ],
   "source": [
    "nome = input(\"Digite o nome completo: \").lower()\n",
    "\n",
    "if nome.find(\"silva\") >= 0:\n",
    "    print(\"\\nTem Silva no nome.\")\n",
    "else:\n",
    "    print(\"Não tem Silva no nome.\")"
   ]
  },
  {
   "cell_type": "code",
   "execution_count": null,
   "metadata": {
    "colab": {
     "base_uri": "https://localhost:8080/"
    },
    "id": "qJywPISNnIEj",
    "outputId": "cf5fe2a1-cbb0-4487-f39b-c7929c8bcb86"
   },
   "outputs": [
    {
     "name": "stdout",
     "output_type": "stream",
     "text": [
      "Digite o nome completo: silvaaa\n",
      "\n",
      "Tem Silva no nome.\n"
     ]
    }
   ],
   "source": [
    "nome = input(\"Digite o nome completo: \").lower()\n",
    "\n",
    "if \"silva\" in nome:\n",
    "    print(\"\\nTem Silva no nome.\")\n",
    "else:\n",
    "    print(\"Não tem Silva no nome.\")"
   ]
  },
  {
   "cell_type": "markdown",
   "metadata": {
    "id": "dIS25wShqjFU"
   },
   "source": [
    "## 03\n",
    "\n",
    "\n",
    "Escreva um programa que faça o computador sortear um\n",
    "número inteiro entre 1 e 5 e peça para o usuário tentar\n",
    "descobrir qual foi o número escolhido pelo computador.\n",
    "\n",
    "O programa deverá escrever na tela se o usuário venceu ou\n",
    "perdeu.\n",
    "\n",
    "Biblioteca necessária:\n",
    "\n",
    "import random\n",
    "\n",
    "random.randint(0,1000)"
   ]
  },
  {
   "cell_type": "code",
   "execution_count": null,
   "metadata": {
    "colab": {
     "base_uri": "https://localhost:8080/"
    },
    "id": "lLwNyLeDpvXc",
    "outputId": "0455d87e-3d16-40b2-cc3f-a890d3b3ec4c"
   },
   "outputs": [
    {
     "name": "stdout",
     "output_type": "stream",
     "text": [
      "Tente adivinhar o número entre 1 e 5: 4\n",
      "\n",
      "\u001b[1;32mVenceu!!!\u001b[0m\n"
     ]
    }
   ],
   "source": [
    "import random\n",
    "n = random.randint(1,5)\n",
    "\n",
    "numero = int(input(\"Tente adivinhar o número entre 1 e 5: \"))\n",
    "\n",
    "if numero == n:\n",
    "    print(\"\\n\\033[1;32mVenceu!!!\\033[0m\")\n",
    "else:\n",
    "    print(\"\\n\\033[1;31mPerdeu.\\033[0m\")\n",
    "    print(f\"O número correto era {n}.\")\n",
    "\n"
   ]
  },
  {
   "cell_type": "code",
   "execution_count": null,
   "metadata": {
    "colab": {
     "base_uri": "https://localhost:8080/"
    },
    "id": "IPh2A6Mxq3Yb",
    "outputId": "2c1fbcb9-3f49-46ed-f1ff-08c80f883c84"
   },
   "outputs": [
    {
     "name": "stdout",
     "output_type": "stream",
     "text": [
      "Tente adivinhar o número entre 1 e 5: 5\n",
      "\n",
      "\u001b[1;31mPerdeu.\u001b[0m\n"
     ]
    }
   ],
   "source": [
    "# V2\n",
    "import random\n",
    "\n",
    "if int(input(\"Tente adivinhar o número entre 1 e 5: \")) == random.randint(1,5):\n",
    "    print(\"\\n\\033[1;32mVenceu!!!\\033[0m\")\n",
    "else:\n",
    "    print(\"\\n\\033[1;31mPerdeu.\\033[0m\")"
   ]
  },
  {
   "cell_type": "code",
   "execution_count": null,
   "metadata": {
    "colab": {
     "base_uri": "https://localhost:8080/"
    },
    "id": "Ngb9bh9mvMmK",
    "outputId": "90b558c3-dc53-4f7f-c25e-706d11ff9e6f"
   },
   "outputs": [
    {
     "name": "stdout",
     "output_type": "stream",
     "text": [
      "Tente adivinhar o número entre 1 e 5: 1\n",
      "\n",
      "\u001b[1;32mVenceu!!!\u001b[0m😁\n"
     ]
    }
   ],
   "source": [
    "# V3 (operador ternário)\n",
    "import random\n",
    "\n",
    "numero = int(input(\"Tente adivinhar o número entre 1 e 5: \"))\n",
    "# Operador ternário <valor se True> if <condição> else <valor se False>\n",
    "print(\"\\n\\033[1;32mVenceu!!!\\033[0m😁\" if numero == random.randint(1,5) else\"\\n\\033[1;31mPerdeu.\\033[0m😥,\")\n",
    "\n",
    "\n"
   ]
  },
  {
   "cell_type": "markdown",
   "metadata": {
    "id": "yR_Fg_6pyMWR"
   },
   "source": [
    "## 04\n",
    "Escreva um programa que leia a velocidade de um carro.\n",
    "\n",
    "Se ele ultrapassar 80km/h, mostre uma mensagem dizendo que\n",
    "ele foi multado.\n",
    "\n",
    "A multa custará R$ 7,00 por cada Km acima do limite.\n"
   ]
  },
  {
   "cell_type": "code",
   "execution_count": null,
   "metadata": {
    "colab": {
     "base_uri": "https://localhost:8080/"
    },
    "id": "f4y2-HSYw2ZK",
    "outputId": "9212661f-3163-4b03-ec7f-c9779a1995f0"
   },
   "outputs": [
    {
     "name": "stdout",
     "output_type": "stream",
     "text": [
      "Qual a velocidade do carro? 88\n",
      "\n",
      "\u001b[1;31mO carro foi multado em R$56.00 .🤬\n"
     ]
    }
   ],
   "source": [
    "v = int(input(\"Qual a velocidade do carro? \"))\n",
    "\n",
    "if v > 80:\n",
    "    print(f\"\\n\\033[1;31mO carro foi multado em R${(v-80)*7:,.2f} .🤬\")\n",
    "else:\n",
    "    print(f\"\\n\\033[1;34mO carro não foi multado.😎\")\n"
   ]
  },
  {
   "cell_type": "markdown",
   "metadata": {
    "id": "QQnWC-GULLDV"
   },
   "source": [
    "## 05\n",
    "Crie um programa que leia um número inteiro e mostre na tela\n",
    "se ele é PAR ou IMPAR."
   ]
  },
  {
   "cell_type": "code",
   "execution_count": null,
   "metadata": {
    "colab": {
     "base_uri": "https://localhost:8080/"
    },
    "id": "k-Is1WH4y4Bp",
    "outputId": "8e0d18b5-b5c6-4c7d-9222-a9e73e0d71ea"
   },
   "outputs": [
    {
     "name": "stdout",
     "output_type": "stream",
     "text": [
      "Digite um número inteiro: 5\n",
      "\n",
      "\u001b[1mO número 5 é impar.\n"
     ]
    }
   ],
   "source": [
    "numero = int(input(\"Digite um número inteiro: \"))\n",
    "\n",
    "if (numero % 2) == 0:\n",
    "    print(f\"\\n\\033[1mO número {numero} é par.\")\n",
    "else:\n",
    "    print(f\"\\n\\033[1mO número {numero} é ímpar.\")"
   ]
  },
  {
   "cell_type": "markdown",
   "metadata": {
    "id": "ZqJp5NquO3RZ"
   },
   "source": [
    "## 06\n",
    "Escreva um programa que pergunte o salário de um funcionário\n",
    "e calcule o valor do seu aumento.\n",
    "\n",
    "Para salários superiores a R$ 1.250,00, calcule um aumento de\n",
    "10%.\n",
    "\n",
    "Para salários inferiores ou iguais, o aumento é de 15%.\n"
   ]
  },
  {
   "cell_type": "code",
   "execution_count": null,
   "metadata": {
    "colab": {
     "base_uri": "https://localhost:8080/"
    },
    "id": "sZtIQC03MHyK",
    "outputId": "6cee8053-f3e9-4065-aeff-0ef6b389cca0"
   },
   "outputs": [
    {
     "name": "stdout",
     "output_type": "stream",
     "text": [
      "Digite o valor do salário: 1500\n",
      "\n",
      "\u001b[1mSeu novo salário é R$1,650.00 .\n"
     ]
    }
   ],
   "source": [
    "salario = float(input(\"Digite o valor do salário: \"))\n",
    "\n",
    "if salario > 1250:\n",
    "    print(f\"\\n\\033[1mSeu novo salário é R${salario*1.1:,.2f} .\")\n",
    "else:\n",
    "    print(f\"\\n\\033[1mSeu novo salário é R${salario*1.15:,.2f} .\")"
   ]
  },
  {
   "cell_type": "markdown",
   "metadata": {
    "id": "bqj8brEyUiDQ"
   },
   "source": [
    "## 07\n",
    "Desenvolva um programa que pergunte a distância de uma\n",
    "viagem em Km. Calcule o preço da passagem cobrando\n",
    "0,50 por Km para viagens de até 200 Km e 0,45 para\n",
    "viagens mais longas.\n"
   ]
  },
  {
   "cell_type": "code",
   "execution_count": null,
   "metadata": {
    "colab": {
     "base_uri": "https://localhost:8080/"
    },
    "id": "Je4MFwkEPcJ6",
    "outputId": "6006658c-b38c-44d9-fca9-fa1eb3c2a8ae"
   },
   "outputs": [
    {
     "name": "stdout",
     "output_type": "stream",
     "text": [
      "Digite a distância da viagem em Km: 2000\n",
      "\n",
      "\u001b[1mO preço da viagem é R$900.00 .\n"
     ]
    }
   ],
   "source": [
    "km = float(input(\"Digite a distância da viagem em Km: \"))\n",
    "\n",
    "if km > 200:\n",
    "    print(f\"\\n\\033[1mO preço da viagem é R${km*0.45:,.2f} .\")\n",
    "else:\n",
    "    print(f\"\\n\\033[1mO preço da viagem é R${km*0.5:,.2f} .\")"
   ]
  },
  {
   "cell_type": "markdown",
   "metadata": {
    "id": "jxF4NTzXZ0JW"
   },
   "source": [
    "## 08\n",
    "Faça um programa que leia um ano qualquer e mostre se ele é\n",
    "BISSEXTO.\n",
    "O ano bissexto ocorre a cada 4 anos (exceto em anos múltiplos\n",
    "de 100 que não são múltiplos de 400)"
   ]
  },
  {
   "cell_type": "code",
   "execution_count": null,
   "metadata": {
    "colab": {
     "base_uri": "https://localhost:8080/"
    },
    "id": "0aPeoqbfVSOg",
    "outputId": "d2a706d3-96f8-47a3-d8fe-d4ddaad104cb"
   },
   "outputs": [
    {
     "name": "stdout",
     "output_type": "stream",
     "text": [
      "Digite o ano: 2000\n",
      "\n",
      "\u001b[1;37mO ano de 2000 é bissexto!\n"
     ]
    }
   ],
   "source": [
    "ano = int(input(\"Digite o ano: \"))\n",
    "\n",
    "if (ano % 4 == 0 and ano % 100 != 0) or (ano % 400) == 0:\n",
    "    print(f\"\\n\\033[1;37mO ano de {ano} é bissexto!\")\n",
    "else:\n",
    "    print(f\"\\n\\033[1;37mO ano de {ano} não é bissexto!\")"
   ]
  },
  {
   "cell_type": "markdown",
   "metadata": {
    "id": "StnC3vlShL0y"
   },
   "source": [
    "## 09\n",
    "Faça um programa que leia três números e mostre qual é o\n",
    "maior e qual é o menor."
   ]
  },
  {
   "cell_type": "code",
   "execution_count": null,
   "metadata": {
    "colab": {
     "base_uri": "https://localhost:8080/"
    },
    "id": "GLgMbW96a7pv",
    "outputId": "f10e1782-a288-49bb-9436-596cd8d36f36"
   },
   "outputs": [
    {
     "name": "stdout",
     "output_type": "stream",
     "text": [
      "Digite o 1° número: 4\n",
      "Digite o 2° número: 5\n",
      "Digite o 3° número: 10\n",
      "\n",
      "O número 10 é o maior.\n",
      "\n",
      "O número 4 é o menor.\n"
     ]
    }
   ],
   "source": [
    "#V1\n",
    "n1 = int(input(\"Digite o 1° número: \"))\n",
    "n2 = int(input(\"Digite o 2° número: \"))\n",
    "n3 = int(input(\"Digite o 3° número: \"))\n",
    "\n",
    "if n1 > n2 and n1 > n3:\n",
    "    print(f\"\\nO número {n1} é o maior.\")\n",
    "elif n2 > n1 and n2 > n3:\n",
    "    print(f\"\\nO número {n2} é o maior.\")\n",
    "else:\n",
    "    print(f\"\\nO número {n3} é o maior.\")\n",
    "\n",
    "if n1 < n2 and n1 < n3:\n",
    "    print(f\"O número {n1} é o menor.\")\n",
    "elif n2 < n1 and n2 < n3:\n",
    "    print(f\"O número {n2} é o menor.\")\n",
    "else:\n",
    "    print(f\"O número {n3} é o menor.\")\n"
   ]
  },
  {
   "cell_type": "code",
   "execution_count": null,
   "metadata": {
    "colab": {
     "base_uri": "https://localhost:8080/"
    },
    "id": "7Thpi-l_mxUT",
    "outputId": "6feb1ebe-7089-49ce-a9ff-5f9330aa27e7"
   },
   "outputs": [
    {
     "name": "stdout",
     "output_type": "stream",
     "text": [
      "Digite o 1° número: 2\n",
      "Digite o 2° número: 3\n",
      "Digite o 3° número: 5\n",
      "\n",
      "O número 5 é o maior.\n",
      "O número 2 é o menor.\n"
     ]
    }
   ],
   "source": [
    "#V2\n",
    "\n",
    "n1 = int(input(\"Digite o 1° número: \"))\n",
    "n2 = int(input(\"Digite o 2° número: \"))\n",
    "n3 = int(input(\"Digite o 3° número: \"))\n",
    "\n",
    "print(f\"\\nO número {max(n1,n2,n3)} é o maior.\")\n",
    "print(f\"O número {min(n1,n2,n3)} é o menor.\")"
   ]
  },
  {
   "cell_type": "markdown",
   "metadata": {
    "id": "KlkTXlbtvAAQ"
   },
   "source": [
    "## 10\n",
    "Desenvolva um programa que leia o comprimento de três retas\n",
    "e diga ao usuário se elas podem ou não formar um triângulo.\n",
    "\n",
    "Condições Necessárias:\n",
    "\n",
    "a + b > c\n",
    "\n",
    "a + c > b\n",
    "\n",
    "b + c > a"
   ]
  },
  {
   "cell_type": "code",
   "execution_count": null,
   "metadata": {
    "colab": {
     "base_uri": "https://localhost:8080/"
    },
    "id": "7l5gZaCauaqw",
    "outputId": "b51d6d4a-3c4d-4d93-8422-4454787dc0dd"
   },
   "outputs": [
    {
     "name": "stdout",
     "output_type": "stream",
     "text": [
      "Digite o comprimento da reta A: 0\n",
      "Digite o comprimento da reta B: 0\n",
      "Digite o comprimento da reta C: 1\n",
      "\n",
      "\u001b[1;31mEstas retas não podem formar um triângulo!\n"
     ]
    }
   ],
   "source": [
    "a = float(input(\"Digite o comprimento da reta A: \"))\n",
    "b = float(input(\"Digite o comprimento da reta B: \"))\n",
    "c = float(input(\"Digite o comprimento da reta C: \"))\n",
    "\n",
    "if (a+b)>c and (a+c)>b and (b+c)>a:\n",
    "    print(f\"\\n\\033[1;32mEstas retas podem formar um triângulo!\")\n",
    "else:\n",
    "    print(f\"\\n\\033[1;31mEstas retas não podem formar um triângulo!\")"
   ]
  },
  {
   "cell_type": "markdown",
   "metadata": {
    "id": "ATL9KsgovHaY"
   },
   "source": [
    "## 11\n",
    "Escreva um programa para aprovar um empréstimo bancário\n",
    "para a compra de uma casa. O programa vai perguntar o valor\n",
    "da casa, o salário do comprador e em quantos anos ele vai\n",
    "pagar.\n",
    "\n",
    "Calcule o valor da prestação mensal, sabendo que ela não\n",
    "pode exceder 30% do salário ou então o empréstimo será\n",
    "negado."
   ]
  },
  {
   "cell_type": "code",
   "execution_count": null,
   "metadata": {
    "colab": {
     "base_uri": "https://localhost:8080/"
    },
    "id": "yOfvFTRNvJYf",
    "outputId": "34af1bd1-de5b-40ee-e9c0-e0fa5173d82a"
   },
   "outputs": [
    {
     "name": "stdout",
     "output_type": "stream",
     "text": [
      "Qual o valor da casa: 100000\n",
      "Qual o valor do salário: 500\n",
      "Qaul o tempo em anos que irá pagar: 5\n",
      "\n",
      "\u001b[1;31mO valor da parcela R$1,666.67 não é compatível com seu orçamento.\n"
     ]
    }
   ],
   "source": [
    "casa = float(input(\"Qual o valor da casa: \"))\n",
    "salario = float(input(\"Qual o valor do salário: \"))\n",
    "ano = int(input(\"Qaul o tempo em anos que irá pagar: \"))\n",
    "\n",
    "if casa/(ano*12) <= salario*0.3:\n",
    "    print(f\"\\n\\033[1;32mO valor da parcela R${casa/(ano*12):,.2f} é compatível com seu orçamento.\")\n",
    "else:\n",
    "    print(f\"\\n\\033[1;31mO valor da parcela R${casa/(ano*12):,.2f} não é compatível com seu orçamento.\")"
   ]
  },
  {
   "cell_type": "markdown",
   "metadata": {
    "id": "wQElfMjCyaoP"
   },
   "source": [
    "## 12\n",
    "Escreva um programa que leia um número inteiro e peça para o\n",
    "usuário escolher qual será a base de conversão:\n",
    "\n",
    "1 para binário bin()\n",
    "\n",
    "2 para octal oct()\n",
    "\n",
    "3 para hexadecimal hex()"
   ]
  },
  {
   "cell_type": "code",
   "execution_count": null,
   "metadata": {
    "colab": {
     "base_uri": "https://localhost:8080/"
    },
    "id": "PYxAjYhTxWL2",
    "outputId": "a0ad1926-c353-4f0c-da1f-53cbc384b030"
   },
   "outputs": [
    {
     "name": "stdout",
     "output_type": "stream",
     "text": [
      "\n",
      "Escolha a operação:\n",
      "\n",
      "[1] Binário\n",
      "[2] Octal\n",
      "[3] Hexadecimal\n",
      "\n",
      "5\n",
      "Digite o número a ser convertido: 2\n",
      "\n",
      "\u001b[1;31mEscolher somente entre 1 e 3!\n"
     ]
    }
   ],
   "source": [
    "escolha = int(input(\"\"\"\n",
    "Escolha a operação:\n",
    "\n",
    "[1] Binário\n",
    "[2] Octal\n",
    "[3] Hexadecimal\\n\n",
    "\"\"\"))\n",
    "numero = int(input(\"Digite o número a ser convertido: \"))\n",
    "\n",
    "if escolha == 1:\n",
    "    print(f\"\\n\\033[1mBinário: {bin(numero)}\")\n",
    "elif escolha == 2:\n",
    "    print(f\"\\n\\033[1mOctal: {oct(numero)}\")\n",
    "elif escolha == 3:\n",
    "    print(f\"\\n\\033[1mHexadecimal: {hex(numero)}\")\n",
    "else:\n",
    "    print(\"\\n\\033[1;31mEscolher somente entre 1 e 3!\")"
   ]
  },
  {
   "cell_type": "code",
   "execution_count": null,
   "metadata": {
    "id": "KvMqMV7pznRv"
   },
   "outputs": [],
   "source": []
  },
  {
   "cell_type": "markdown",
   "metadata": {
    "id": "DvTW0jRSyiN3"
   },
   "source": [
    "## 13\n",
    "Escreva um programa que leia dois números inteiros e\n",
    "compare- os, mostrando na tela uma mensagem:\n",
    "\n",
    "O primeiro valor é maior\n",
    "\n",
    "O segundo valor é maior\n",
    "\n",
    "Não existe valor maior, os dois são iguais"
   ]
  },
  {
   "cell_type": "code",
   "execution_count": null,
   "metadata": {
    "colab": {
     "base_uri": "https://localhost:8080/"
    },
    "id": "H89eRezAyk6f",
    "outputId": "fe3c170b-8946-4f1f-cb0b-e9579cd461ea"
   },
   "outputs": [
    {
     "name": "stdout",
     "output_type": "stream",
     "text": [
      "Digite o 1° número: 0\n",
      "Digite o 2° número: 0\n",
      "\n",
      "\u001b[1mNão existe valor maior, os dois são iguais.\n"
     ]
    }
   ],
   "source": [
    "n1 = int(input(\"Digite o 1° número: \"))\n",
    "n2 = int(input(\"Digite o 2° número: \"))\n",
    "\n",
    "if n1 > n2:\n",
    "    print(\"\\n\\033[1mO Primeiro valor é maior.\")\n",
    "elif n2 > n1:\n",
    "    print(\"\\n\\033[1mO segundo valor é maior.\")\n",
    "else:\n",
    "    print(\"\\n\\033[1mNão existe valor maior, os dois são iguais.\")"
   ]
  },
  {
   "cell_type": "markdown",
   "metadata": {
    "id": "JClyDjvy2Ocu"
   },
   "source": [
    "## 14\n",
    "\n",
    "Faça um programa que leia o ano de nascimento de um jovem\n",
    "e informe, de acordo com sua idade:\n",
    "\n",
    "Se ele ainda vai se alistar ao serviço militar;\n",
    "\n",
    "Se é a hora de se alistar;\n",
    "\n",
    "Se já passou o tempo do alistamento;\n",
    "\n",
    "Seu programa também deverá mostrar o tempo que falta ou\n",
    "que passou do prazo."
   ]
  },
  {
   "cell_type": "code",
   "execution_count": null,
   "metadata": {
    "colab": {
     "base_uri": "https://localhost:8080/"
    },
    "id": "Ptowdodf0OpH",
    "outputId": "e7d86355-5344-41b5-c53e-ec28f3106846"
   },
   "outputs": [
    {
     "name": "stdout",
     "output_type": "stream",
     "text": [
      "Digite o ano de nascimento: 2000\n",
      "\n",
      "\u001b[1mJá passou o tempo do alistamento, foi a 6 ano(s) atrás.\n"
     ]
    }
   ],
   "source": [
    "ano = int(input(\"Digite o ano de nascimento: \"))\n",
    "\n",
    "if 2024-ano > 18:\n",
    "    print(f\"\\n\\033[1mJá passou o tempo do alistamento, foi a {2024-ano-18} ano(s) atrás.\")\n",
    "elif 2024-ano < 18:\n",
    "    print(f\"\\n\\033[1mAinda não chegou o tempo do alistamento, será daqui {18-(2024-ano)} ano(s).\")\n",
    "else:\n",
    "    print(\"\\n\\033[1mÉ a hora de se alistar!\")"
   ]
  },
  {
   "cell_type": "markdown",
   "metadata": {
    "id": "gtqAgxV54reF"
   },
   "source": [
    "## 15\n",
    "\n",
    "Crie um programa que leia duas notas entre 0 a 10 de um aluno\n",
    "e calcule sua média, mostrando uma mensagem no final, de\n",
    "acordo com a média atingida.\n",
    "\n",
    "Média abaixo de 5.0: REPROVADO;\n",
    "\n",
    "Média entre 5.0 a 6.9: RECUPERAÇÃO;\n",
    "\n",
    "Média igual ou superior a 7.0: APROVADO."
   ]
  },
  {
   "cell_type": "code",
   "execution_count": null,
   "metadata": {
    "colab": {
     "base_uri": "https://localhost:8080/"
    },
    "id": "Vu23wZP5242d",
    "outputId": "7426e0ae-9224-4660-827c-3c89b9ff8a64"
   },
   "outputs": [
    {
     "name": "stdout",
     "output_type": "stream",
     "text": [
      "Digite a nota 1: 4\n",
      "Digite a nota 2: 4\n",
      "\n",
      "\u001b[1;31mReprovado, com média 4.0.\n"
     ]
    }
   ],
   "source": [
    "nota1 = float(input(\"Digite a nota 1: \"))\n",
    "nota2 = float(input(\"Digite a nota 2: \"))\n",
    "\n",
    "media = (nota1 + nota2)/2\n",
    "\n",
    "if media < 5:\n",
    "    print(f\"\\n\\033[1;31mReprovado, com média {media}.\")\n",
    "elif media >= 7:\n",
    "    print(f\"\\n\\033[1;32mAprovado, com média {media}.\")\n",
    "else:\n",
    "    print(f\"\\n\\033[1;34mRecuperação, com média {media}.\")\n"
   ]
  },
  {
   "cell_type": "markdown",
   "metadata": {
    "id": "6enZjdBa9Olz"
   },
   "source": [
    "## 16\n",
    "A confederação Nacional de Natação precisa de uma programa\n",
    "que leia o ano de nascimento de uma atleta e mostre sua\n",
    "categoria, de acordo com a idade.\n",
    "\n",
    "Até 9 anos: MIRIM\n",
    "\n",
    "Até 14 anos: INFANTIL\n",
    "\n",
    "Até 19 anos: JUNIOR\n",
    "\n",
    "Até 24 anos: SÊNIOR\n",
    "\n",
    "Acima: MASTER"
   ]
  },
  {
   "cell_type": "code",
   "execution_count": null,
   "metadata": {
    "colab": {
     "base_uri": "https://localhost:8080/"
    },
    "id": "tfcFZLs45Aqv",
    "outputId": "51320997-be66-4d15-fa31-35eab1a21058"
   },
   "outputs": [
    {
     "name": "stdout",
     "output_type": "stream",
     "text": [
      "Digite o ano de nascimento: 2008\n",
      "\n",
      "Junior.\n"
     ]
    }
   ],
   "source": [
    "ano = int(input(\"Digite o ano de nascimento: \"))\n",
    "\n",
    "if 2024-ano <= 9:\n",
    "    print(f\"\\nMirim.\")\n",
    "elif 2024-ano <= 14:\n",
    "    print(f\"\\nInfantil.\")\n",
    "elif 2024-ano <= 19:\n",
    "    print(f\"\\nJunior.\")\n",
    "elif 2024-ano <= 24:\n",
    "    print(f\"\\nSênior.\")\n",
    "else:\n",
    "    print(\"\\nMaster.\")"
   ]
  },
  {
   "cell_type": "markdown",
   "metadata": {
    "id": "hlWpl1Q79ROG"
   },
   "source": [
    "## 17\n",
    "Refaça o 10 dos triângulos, acrescentando o recurso\n",
    "de mostrar que tipo de triângulo será formado:\n",
    "\n",
    "Equilátero: Todos os lados iguais\n",
    "\n",
    "Isósceles: Dois lados iguais\n",
    "\n",
    "Escaleno: Todos os lados diferentes"
   ]
  },
  {
   "cell_type": "code",
   "execution_count": null,
   "metadata": {
    "colab": {
     "base_uri": "https://localhost:8080/"
    },
    "id": "UVUbvdKk9UsH",
    "outputId": "f2112d4d-bf88-47c1-f8d7-105786b79910"
   },
   "outputs": [
    {
     "name": "stdout",
     "output_type": "stream",
     "text": [
      "Digite o comprimento da reta A: 3\n",
      "Digite o comprimento da reta B: 3\n",
      "Digite o comprimento da reta C: 3\n",
      "\n",
      "\u001b[1;32mEstas retas podem formar um triângulo!\n",
      "Equilátero\n"
     ]
    }
   ],
   "source": [
    "a = float(input(\"Digite o comprimento da reta A: \"))\n",
    "b = float(input(\"Digite o comprimento da reta B: \"))\n",
    "c = float(input(\"Digite o comprimento da reta C: \"))\n",
    "\n",
    "if (a+b)>c and (a+c)>b and (b+c)>a:\n",
    "    print(f\"\\n\\033[1;32mEstas retas podem formar um triângulo!\")\n",
    "    if a == b == c:\n",
    "        print(\"Equilátero\")\n",
    "    elif a == b or a == c or b == c:\n",
    "        print(\"Isósceles\")\n",
    "    else:\n",
    "        print(\"Escaleno\")\n",
    "else:\n",
    "    print(f\"\\n\\033[1;31mEstas retas não podem formar um triângulo!\\033[0m\")\n",
    "\n"
   ]
  },
  {
   "cell_type": "markdown",
   "metadata": {
    "id": "xK2JTWpQ9Wv3"
   },
   "source": [
    "## 18\n",
    "Desenvolva uma lógica que leia o peso e a altura de uma\n",
    "pessoa, calcule seu IMC e mostre seu status, de acordo com a\n",
    "tabela abaixo:\n",
    "\n",
    "Abaixo de 18.5: Abaixo do Peso\n",
    "\n",
    "Entre 18.5 e 25: Peso ideal\n",
    "\n",
    "Entre 25 e 30: Sobrepeso\n",
    "\n",
    "Entre 30 e 40: Obesidade\n",
    "\n",
    "Acima de 40: Obesidade Mórbida"
   ]
  },
  {
   "cell_type": "code",
   "execution_count": null,
   "metadata": {
    "colab": {
     "base_uri": "https://localhost:8080/"
    },
    "id": "r1-tZ_Yj9Z0_",
    "outputId": "d1e331fb-8ca3-45ab-eb9a-6c9c4cdc0bc4"
   },
   "outputs": [
    {
     "name": "stdout",
     "output_type": "stream",
     "text": [
      "Digite o peso em kg: 100\n",
      "Digite a altura em metros: 1.82\n",
      "\n",
      "O IMC é 30.19kg/m².\n",
      "Obesidade.\n"
     ]
    }
   ],
   "source": [
    "peso = float(input(\"Digite o peso em kg: \"))\n",
    "altura = float(input(\"Digite a altura em metros: \"))\n",
    "\n",
    "imc = peso/(altura*altura)\n",
    "print(f\"\\nO IMC é {imc:.2f}kg/m².\")\n",
    "if imc < 18.5:\n",
    "    print(f\"Abaixo do Peso.\")\n",
    "elif imc < 25:\n",
    "    print(f\"Peso ideal.\")\n",
    "elif imc < 30:\n",
    "    print(f\"Sobrepeso.\")\n",
    "elif imc < 40:\n",
    "    print(f\"Obesidade.\")\n",
    "else:\n",
    "    print(\"Obesidade Mórbida.\")"
   ]
  },
  {
   "cell_type": "code",
   "execution_count": null,
   "metadata": {
    "id": "dg19uXWuyGUE"
   },
   "outputs": [],
   "source": []
  }
 ],
 "metadata": {
  "colab": {
   "provenance": [],
   "toc_visible": true
  },
  "kernelspec": {
   "display_name": "Python 3",
   "name": "python3"
  },
  "language_info": {
   "name": "python"
  }
 },
 "nbformat": 4,
 "nbformat_minor": 0
}
