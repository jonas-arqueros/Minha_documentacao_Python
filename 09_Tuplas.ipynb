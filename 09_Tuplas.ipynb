{
 "cells": [
  {
   "cell_type": "markdown",
   "metadata": {
    "id": "P5F6prKum8Qf"
   },
   "source": [
    "# Tuplas"
   ]
  },
  {
   "cell_type": "markdown",
   "metadata": {
    "id": "dcBosl7RrzRE"
   },
   "source": [
    "## Criar Tuplas"
   ]
  },
  {
   "cell_type": "code",
   "execution_count": null,
   "metadata": {
    "colab": {
     "base_uri": "https://localhost:8080/"
    },
    "id": "GkqD73PKm2XO",
    "outputId": "35274d96-ca18-4799-9337-637bc97f5afa"
   },
   "outputs": [
    {
     "name": "stdout",
     "output_type": "stream",
     "text": [
      "('Assembly', 'Java', 'Python', 'C#')\n",
      "('Assembly', 'Java', 'Python', 'C#')\n",
      "<class 'tuple'> <class 'tuple'>\n"
     ]
    }
   ],
   "source": [
    "linguagens = (\"Assembly\", \"Java\", \"Python\", \"C#\")\n",
    "print(linguagens)\n",
    "\n",
    "linguagens2 = \"Assembly\", \"Java\", \"Python\", \"C#\"\n",
    "print(linguagens2)\n",
    "\n",
    "print(type(linguagens),type(linguagens2) )"
   ]
  },
  {
   "cell_type": "markdown",
   "metadata": {
    "id": "1Qhugf1sqgPf"
   },
   "source": [
    "## Seleção de itens na Tuplas"
   ]
  },
  {
   "cell_type": "code",
   "execution_count": null,
   "metadata": {
    "colab": {
     "base_uri": "https://localhost:8080/"
    },
    "id": "0P4HBSxWoJpH",
    "outputId": "e433f992-6dac-429a-9b8e-1d0ba62f87c9"
   },
   "outputs": [
    {
     "name": "stdout",
     "output_type": "stream",
     "text": [
      "Hamburguer\n",
      "Pizza\n",
      "('Pastel', 'Coxinha')\n",
      "('Pastel', 'Coxinha', 'Pizza')\n",
      "('Hamburguer', 'Pastel')\n",
      "\n",
      "Hamburguer\n",
      "Pastel\n",
      "Coxinha\n",
      "Pizza\n",
      "\n",
      "Hamburguer\n",
      "Pastel\n",
      "Coxinha\n",
      "Pizza\n"
     ]
    }
   ],
   "source": [
    "lanches = (\"Hamburguer\", \"Pastel\", \"Coxinha\", \"Pizza\")\n",
    "\n",
    "print(lanches[0])   #Primeiro item\n",
    "print(lanches[-1])  #Último item\n",
    "print(lanches[1:3]) #Intervalo de itens\n",
    "print(lanches[1:])  #A partir do segundo item\n",
    "print(lanches[:2])  #Até o segundo item\n",
    "print(\"\")\n",
    "for i in lanches:\n",
    "    print(i)\n",
    "\n",
    "print(\"\")\n",
    "for i in range(len(lanches)):\n",
    "    print(lanches[i])"
   ]
  },
  {
   "cell_type": "markdown",
   "metadata": {
    "id": "i8fWJso7sX8N"
   },
   "source": [
    "## Enumerate"
   ]
  },
  {
   "cell_type": "code",
   "execution_count": null,
   "metadata": {
    "colab": {
     "base_uri": "https://localhost:8080/"
    },
    "id": "ukWLci7wpDPn",
    "outputId": "fa0abd1b-514d-49f5-967f-86c98efedc12"
   },
   "outputs": [
    {
     "name": "stdout",
     "output_type": "stream",
     "text": [
      "Vamos comer Hamburguer na posição 1.\n",
      "Vamos comer Pastel na posição 2.\n",
      "Vamos comer Coxinha na posição 3.\n",
      "Vamos comer Pizza na posição 4.\n"
     ]
    }
   ],
   "source": [
    "lanches = (\"Hamburguer\", \"Pastel\", \"Coxinha\", \"Pizza\")\n",
    "for posicao, comida in enumerate(lanches):\n",
    "    print(f\"Vamos comer {comida} na posição {posicao+1}.\")"
   ]
  },
  {
   "cell_type": "markdown",
   "metadata": {
    "id": "cWX1Py2dssF9"
   },
   "source": [
    "## Converter Lista em Tupla"
   ]
  },
  {
   "cell_type": "code",
   "execution_count": null,
   "metadata": {
    "colab": {
     "base_uri": "https://localhost:8080/"
    },
    "id": "RVLVm0e8svBl",
    "outputId": "84ef4cf9-afa3-4f5c-b223-446dc78e8dec"
   },
   "outputs": [
    {
     "name": "stdout",
     "output_type": "stream",
     "text": [
      "(1, 2, 3, 4, 5)\n"
     ]
    }
   ],
   "source": [
    "lista = [1,2,3,4,5]\n",
    "\n",
    "tupla = tuple(lista)\n",
    "\n",
    "print(tupla)"
   ]
  },
  {
   "cell_type": "markdown",
   "metadata": {
    "id": "sB1Gp9YstiAc"
   },
   "source": [
    "## Sorted"
   ]
  },
  {
   "cell_type": "code",
   "execution_count": null,
   "metadata": {
    "colab": {
     "base_uri": "https://localhost:8080/"
    },
    "id": "LhzZySw2sQlV",
    "outputId": "aec9b26c-f811-47ed-cae9-5318250085b1"
   },
   "outputs": [
    {
     "name": "stdout",
     "output_type": "stream",
     "text": [
      "['Coxinha', 'Hamburguer', 'Pastel', 'Pizza']\n"
     ]
    }
   ],
   "source": [
    "lanches = (\"Hamburguer\", \"Pastel\", \"Coxinha\", \"Pizza\")\n",
    "ordenar = sorted(lanches)\n",
    "print(ordenar)"
   ]
  },
  {
   "cell_type": "markdown",
   "metadata": {
    "id": "W5-RiM13t6NM"
   },
   "source": [
    "## Del"
   ]
  },
  {
   "cell_type": "code",
   "execution_count": null,
   "metadata": {
    "id": "8s75L7OWttYl"
   },
   "outputs": [],
   "source": [
    "lanches = (\"Hamburguer\", \"Pastel\", \"Coxinha\", \"Pizza\")\n",
    "del(lanches)"
   ]
  },
  {
   "cell_type": "markdown",
   "metadata": {
    "id": "anmTpiMNuNUU"
   },
   "source": [
    "## Concatenar Tuplas"
   ]
  },
  {
   "cell_type": "code",
   "execution_count": null,
   "metadata": {
    "colab": {
     "base_uri": "https://localhost:8080/"
    },
    "id": "IaEMDz4kuFaW",
    "outputId": "aea56e7d-4dc5-4d8d-f020-d7ba7e37d926"
   },
   "outputs": [
    {
     "name": "stdout",
     "output_type": "stream",
     "text": [
      "('Hamburguer', 'Pastel', 'Coxinha', 'Pizza', 'Pudim', 'Bolo', 'Sorvete')\n"
     ]
    }
   ],
   "source": [
    "lanches = (\"Hamburguer\", \"Pastel\", \"Coxinha\", \"Pizza\")\n",
    "doces = (\"Pudim\", \"Bolo\", \"Sorvete\")\n",
    "\n",
    "unificada = lanches + doces\n",
    "print(unificada)"
   ]
  },
  {
   "cell_type": "code",
   "execution_count": null,
   "metadata": {
    "id": "Nf0A1LUVuklX"
   },
   "outputs": [],
   "source": []
  },
  {
   "cell_type": "markdown",
   "metadata": {
    "id": "h6crf5cVu2hW"
   },
   "source": [
    "# Desafios"
   ]
  },
  {
   "cell_type": "markdown",
   "metadata": {
    "id": "9n4qggqGu8WF"
   },
   "source": [
    "## 01\n",
    "\n",
    "Crie um programa que tenha uma tupla totalmente preenchida com\n",
    "uma contagem por extenso, de zero até vinte.\n",
    "\n",
    "Seu programa deverá ler um número pelo teclado (entre 0 e 20) e\n",
    "mostra-lo por extenso."
   ]
  },
  {
   "cell_type": "code",
   "execution_count": null,
   "metadata": {
    "colab": {
     "base_uri": "https://localhost:8080/"
    },
    "id": "2yuZXkTQu42V",
    "outputId": "835a9a99-af4e-49c3-e580-da85a67f5325"
   },
   "outputs": [
    {
     "name": "stdout",
     "output_type": "stream",
     "text": [
      "Digite um número entre 0 e 20: 5\n",
      "\n",
      "\u001b[1mCinco\n"
     ]
    }
   ],
   "source": [
    "numerosExtenso = (\n",
    "    'Zero',\n",
    "    'Um',\n",
    "    'Dois',\n",
    "    'Três',\n",
    "    'Quatro',\n",
    "    'Cinco',\n",
    "    'Seis',\n",
    "    'Sete',\n",
    "    'Oito',\n",
    "    'Nove',\n",
    "    'Dez',\n",
    "    'Onze',\n",
    "    'Doze',\n",
    "    'Treze',\n",
    "    'Quatorze',\n",
    "    'Quinze',\n",
    "    'Dezesseis',\n",
    "    'Dezessete',\n",
    "    'Dezoito',\n",
    "    'Dezenove',\n",
    "    'Vinte'\n",
    ")\n",
    "\n",
    "num = int(input(\"Digite um número entre 0 e 20: \"))\n",
    "print(f\"\\n\\033[1m{numerosExtenso[num]}\")"
   ]
  },
  {
   "cell_type": "markdown",
   "metadata": {
    "id": "cuYKJGzzF5ms"
   },
   "source": [
    "## 02\n",
    "Crie um programa que gere cinco números aleatórios para uma tupla.\n",
    "Mostre a listagem de números gerados, indique o menor e o maior valor."
   ]
  },
  {
   "cell_type": "code",
   "execution_count": null,
   "metadata": {
    "colab": {
     "base_uri": "https://localhost:8080/"
    },
    "id": "87XsXS4evon1",
    "outputId": "97c62ba0-aee3-4a51-a0f8-69a0a579c569"
   },
   "outputs": [
    {
     "name": "stdout",
     "output_type": "stream",
     "text": [
      "Lista de números: (79, 38, 476, 107, 451)\n",
      "Maior 476, menor 38\n"
     ]
    }
   ],
   "source": [
    "import random\n",
    "lista = []\n",
    "for i in range(5):\n",
    "    lista.append(random.randint(0,1000))\n",
    "\n",
    "lista = tuple(lista)\n",
    "print(f\"Lista de números: {lista}\")\n",
    "print(f\"Maior {max(lista)}, menor {min(lista)}\")\n"
   ]
  },
  {
   "cell_type": "code",
   "execution_count": null,
   "metadata": {
    "colab": {
     "base_uri": "https://localhost:8080/"
    },
    "id": "07Cz2ZtpRB7n",
    "outputId": "2b222a5c-7274-4c71-d750-c2f3f89294a8"
   },
   "outputs": [
    {
     "name": "stdout",
     "output_type": "stream",
     "text": [
      "Lista de números: (34, 20, 11, 79, 53)\n",
      "Maior 79, menor 11\n"
     ]
    }
   ],
   "source": [
    "import random\n",
    "lista = tuple(random.randint(0,100) for i in range(5))\n",
    "\n",
    "print(f\"Lista de números: {lista}\")\n",
    "print(f\"Maior {max(lista)}, menor {min(lista)}\")"
   ]
  },
  {
   "cell_type": "markdown",
   "metadata": {
    "id": "IwEZSNLgF9-U"
   },
   "source": [
    "## 03\n",
    "Desenvolva um programa que leia quatro números inteiros pelo teclado e guarde-os em uma tupla. No final, mostre:\n",
    "\n",
    "    A) Quantas vezes apareceu o valor 9.\n",
    "\n",
    "    B) Em que posição foi digitado o primeiro valor 3.\n",
    "    \n",
    "    C) Quais foram os números pares."
   ]
  },
  {
   "cell_type": "code",
   "execution_count": null,
   "metadata": {
    "colab": {
     "base_uri": "https://localhost:8080/"
    },
    "id": "G7AP4tjfGA21",
    "outputId": "d0da1f93-ce97-4139-ab44-2378cd1b6e5b"
   },
   "outputs": [
    {
     "name": "stdout",
     "output_type": "stream",
     "text": [
      "Digite o 1º número inteiro: 4\n",
      "Digite o 2º número inteiro: 5\n",
      "Digite o 3º número inteiro: 9\n",
      "Digite o 4º número inteiro: 3\n",
      "\n",
      "Há 1 número(s) 9.\n",
      "O primeiro número 3 está na 4º posição.\n",
      "4 "
     ]
    }
   ],
   "source": [
    "lista = []\n",
    "for i in range(4):\n",
    "    num = int(input(f\"Digite o {i+1}º número inteiro: \"))\n",
    "    lista.append(num)\n",
    "print()\n",
    "tupla = tuple(lista)\n",
    "\n",
    "print(f\"Há {tupla.count(9)} número(s) 9.\")\n",
    "if 3 in tupla:\n",
    "    print(f\"O primeiro número 3 está na {tupla.index(3)+1}º posição.\")\n",
    "for j in tupla:\n",
    "    if j % 2 == 0:\n",
    "        print(j, end=\" \")"
   ]
  },
  {
   "cell_type": "markdown",
   "metadata": {
    "id": "X9xzSTOpGCxs"
   },
   "source": [
    "## 04\n",
    "Crie um programa que tenha uma tupla única com 4 produtos e seus respectivos preços em sequência.\n",
    "Mostre uma listagem com os nomes e preços, organizando os dados em forma tabular."
   ]
  },
  {
   "cell_type": "code",
   "execution_count": null,
   "metadata": {
    "colab": {
     "base_uri": "https://localhost:8080/"
    },
    "id": "iAtIH2XAGGBV",
    "outputId": "03a10017-bf42-4ff2-83e8-980db58e560b"
   },
   "outputs": [
    {
     "name": "stdout",
     "output_type": "stream",
     "text": [
      "- Hamburguer       R$15\n",
      "- Pastel       R$10\n",
      "- Coxinha        R$5\n",
      "- Pizza        R$8\n"
     ]
    }
   ],
   "source": [
    "#V1\n",
    "produtos = (\"Hamburguer\", 15, \"Pastel\", 10, \"Coxinha\", 5, \"Pizza\", 8)\n",
    "\n",
    "for i in range(8):\n",
    "    if i % 2 == 0:\n",
    "        print(f\"- {produtos[i]}\", end=\" \")\n",
    "    else:\n",
    "        print(f\"R${produtos[i]}\".rjust(10))"
   ]
  },
  {
   "cell_type": "code",
   "execution_count": null,
   "metadata": {
    "colab": {
     "base_uri": "https://localhost:8080/"
    },
    "id": "Vw4VBaVza6xy",
    "outputId": "0916c9e9-56f8-4de7-c78f-3da6cda8ff99"
   },
   "outputs": [
    {
     "name": "stdout",
     "output_type": "stream",
     "text": [
      "- Hamburguer   R$ 15.00\n",
      "- Pastel       R$ 10.00\n",
      "- Coxinha      R$ 5.00\n",
      "- Pizza        R$ 8.00\n"
     ]
    }
   ],
   "source": [
    "#V2\n",
    "produtos = (\"Hamburguer\", 15, \"Pastel\", 10, \"Coxinha\", 5, \"Pizza\", 8)\n",
    "\n",
    "for i in range(7):\n",
    "    if i % 2 == 0:\n",
    "        print(f\"- {produtos[i]:<12} R$ {produtos[i+1]:.2f}\".rjust(10))\n"
   ]
  },
  {
   "cell_type": "code",
   "execution_count": null,
   "metadata": {
    "id": "AHmOiNXPeLsY"
   },
   "outputs": [],
   "source": [
    "#V3\n",
    "produtos = ('Camiseta', 50, 'Calça', 79, 'Bermuda', 40, 'Blusa', 100)\n",
    "for x, item in enumerate(produtos):\n",
    "    if x%2 == 0:\n",
    "        print(f\"{item:<12}\", end='')\n",
    "    else:\n",
    "        print(f\"R$ {item:,.2f}\".rjust(10))"
   ]
  },
  {
   "cell_type": "markdown",
   "metadata": {
    "id": "pWuV6CWhGGxM"
   },
   "source": [
    "## 05\n",
    "Crie um programa que tenha uma tupla com 5 palavras (não usar acentos).\n",
    "Mostre para cada palavra quais são as suas vogais."
   ]
  },
  {
   "cell_type": "code",
   "execution_count": null,
   "metadata": {
    "colab": {
     "base_uri": "https://localhost:8080/"
    },
    "id": "kqS-8mdLGJeU",
    "outputId": "f74f6dd9-f3b5-432b-ed4a-e05d167e99a0"
   },
   "outputs": [
    {
     "name": "stdout",
     "output_type": "stream",
     "text": [
      "Vogais:\n",
      " \n",
      "a u u e  \n",
      "a e  \n",
      "o i a  \n",
      "i a  \n",
      "u i  \n",
      "o o  \n",
      "o e e "
     ]
    }
   ],
   "source": [
    "palavras = (\"Hamburguer\", \"Pastel\", \"Coxinha\", \"Pizza\", \"Pudim\", \"Bolo\", \"Sorvete\")\n",
    "print(\"Vogais:\")\n",
    "for i in palavras:\n",
    "    i = i.lower()\n",
    "    print(\" \")\n",
    "    for j in i:\n",
    "        if  j == \"a\" or j == \"e\" or j == \"i\" or j == \"o\" or j == \"u\":\n",
    "            print(j, end=\" \")"
   ]
  },
  {
   "cell_type": "markdown",
   "metadata": {
    "id": "okTuynMSGKG0"
   },
   "source": [
    "## 06\n",
    "\n",
    "Crie uma tupla preenchida com os 20 primeiros colocados da Tabela do Campeonato Brasileiro Serie B de Futebol, na ordem de colocação.\n",
    "Depois mostre:\n",
    "\n",
    "\tA) Apenas os 5 primeiros colocados.\n",
    "\n",
    "\tB) Os últimos 4 colocados da tabela.\n",
    "\n",
    "    C) Em qual posição na tabela está o time do Santos.\n",
    "\n",
    "\tD) Uma lista com os times em ordem alfabética."
   ]
  },
  {
   "cell_type": "code",
   "execution_count": null,
   "metadata": {
    "colab": {
     "base_uri": "https://localhost:8080/"
    },
    "id": "Si_0kniGGO1k",
    "outputId": "7d8b38d1-80de-4829-d88b-4654900939c5"
   },
   "outputs": [
    {
     "name": "stdout",
     "output_type": "stream",
     "text": [
      "\n",
      "Primeiros colocados ['Guarani', 'Santos', 'Amazonas', 'Operário-PR', 'Botafogo']\n",
      "\n",
      "Zona de Rebaixamento ['Paysandu', 'Vila Nova', 'Goiás', 'Ituano']\n",
      "\n",
      "Posição do Santos: 2 º\n",
      "\n",
      "Amazonas\n",
      "América-MG\n",
      "Avaí\n",
      "Botafogo\n",
      "Brusque\n",
      "CRB\n",
      "Ceará\n",
      "Chapecoense\n",
      "Coritiba\n",
      "Goiás\n",
      "Guarani\n",
      "Ituano\n",
      "Mirassol\n",
      "Novorizontino\n",
      "Operário-PR\n",
      "Paysandu\n",
      "Ponte Preta\n",
      "Santos\n",
      "Sport\n",
      "Vila Nova\n"
     ]
    }
   ],
   "source": [
    "import random\n",
    "times = ('Novorizontino', 'Santos', 'Mirassol', 'Vila Nova', 'Ceará', 'Sport', 'América-MG', 'Avaí', 'Amazonas', 'Coritiba',\n",
    "         'Goiás', 'Operário-PR', 'Botafogo', 'Ponte Preta', 'Paysandu', 'Ituano', 'CRB', 'Chapecoense', 'Brusque', 'Guarani')\n",
    "timesLista = list(times)\n",
    "random.shuffle(timesLista)\n",
    "print(\"\\nPrimeiros colocados\",timesLista[:5])\n",
    "print(\"\\nZona de Rebaixamento\",timesLista[-4:])\n",
    "print(\"\\nPosição do Santos:\",timesLista.index(\"Santos\")+1,\"º\\n\")\n",
    "\n",
    "timesLista.sort()\n",
    "for i in timesLista:\n",
    "    print(i)\n"
   ]
  },
  {
   "cell_type": "code",
   "execution_count": null,
   "metadata": {
    "id": "So7cOXYrTfte"
   },
   "outputs": [],
   "source": []
  }
 ],
 "metadata": {
  "colab": {
   "provenance": [],
   "toc_visible": true
  },
  "kernelspec": {
   "display_name": "Python 3",
   "name": "python3"
  },
  "language_info": {
   "name": "python"
  }
 },
 "nbformat": 4,
 "nbformat_minor": 0
}
