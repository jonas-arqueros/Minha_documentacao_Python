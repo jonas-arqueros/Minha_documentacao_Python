{
 "cells": [
  {
   "cell_type": "markdown",
   "metadata": {
    "id": "epLfBodFOx04"
   },
   "source": [
    "# Tratamento de Erros"
   ]
  },
  {
   "cell_type": "markdown",
   "metadata": {
    "id": "U7TuhAivPxR_"
   },
   "source": [
    "Try e Except"
   ]
  },
  {
   "cell_type": "code",
   "execution_count": null,
   "metadata": {
    "colab": {
     "base_uri": "https://localhost:8080/"
    },
    "id": "8qBFkwAYOy2h",
    "outputId": "48265a68-dfb0-40fc-b1e9-1719b4950fc7"
   },
   "outputs": [
    {
     "name": "stdout",
     "output_type": "stream",
     "text": [
      "Digite um número: 0.0000000001\n",
      "\n",
      "Digite um número válido.\n",
      "\n",
      "Encerrando o programa...\n"
     ]
    }
   ],
   "source": [
    "try:\n",
    "    # Código que pode apresentar erro\n",
    "    numero = int(input(\"Digite um número: \"))\n",
    "    resultado = 10/numero\n",
    "except (ValueError, TypeError):\n",
    "    # Trata erros de ValueError e TypeError\n",
    "    print(\"\\nDigite um número válido.\")\n",
    "except (ZeroDivisionError):\n",
    "    # Trata erros de ZeroDivisionError\n",
    "    print(\"\\nNão é possível dividir por zero.\")\n",
    "else:\n",
    "    # Executa se não houver erro\n",
    "    print(f\"Resultado {resultado}\")\n",
    "finally:\n",
    "    # Sempre é executado\n",
    "    print(f\"\\nEncerrando o programa...\")"
   ]
  },
  {
   "cell_type": "code",
   "execution_count": null,
   "metadata": {
    "colab": {
     "base_uri": "https://localhost:8080/"
    },
    "id": "Yq4uhGJ8QTbg",
    "outputId": "9a99c194-ed1e-49a7-9853-b4a370cc058b"
   },
   "outputs": [
    {
     "name": "stdout",
     "output_type": "stream",
     "text": [
      "Digite o numerador: 7\n",
      "Digite o denominador: 8\n",
      "\n",
      "0.875\n",
      "\n",
      "\u001b[1mVolte sempre.\n"
     ]
    }
   ],
   "source": [
    "try:\n",
    "    numerador = int(input(\"Digite o numerador: \"))\n",
    "    denominador = int(input(\"Digite o denominador: \"))\n",
    "    razao = numerador / denominador\n",
    "except Exception as erro:\n",
    "    print(f\"\\n\\033[1;31mErro encontrado: {erro.__class__}\\033[0m\")\n",
    "else:\n",
    "    print(f\"\\n{razao}\")\n",
    "finally:\n",
    "    print(\"\\n\\033[1mVolte sempre.\")"
   ]
  },
  {
   "cell_type": "code",
   "execution_count": null,
   "metadata": {
    "id": "ug3JKnKRSvSn"
   },
   "outputs": [],
   "source": []
  }
 ],
 "metadata": {
  "colab": {
   "provenance": [],
   "toc_visible": true
  },
  "kernelspec": {
   "display_name": "Python 3",
   "name": "python3"
  },
  "language_info": {
   "name": "python"
  }
 },
 "nbformat": 4,
 "nbformat_minor": 0
}
