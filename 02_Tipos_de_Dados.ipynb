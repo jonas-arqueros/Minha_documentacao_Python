{
 "cells": [
  {
   "cell_type": "markdown",
   "metadata": {
    "id": "Q5YnjShO3I2V"
   },
   "source": [
    "# Tipos de Dados"
   ]
  },
  {
   "cell_type": "markdown",
   "metadata": {
    "id": "MnyWp49K3hPb"
   },
   "source": [
    "**Tipos primitivos:**\n",
    "\n",
    "Numéricos\n",
    "\n",
    "Caracteres\n",
    "\n",
    "Lógicos\n"
   ]
  },
  {
   "cell_type": "code",
   "execution_count": null,
   "metadata": {
    "id": "5uxn0yix3LfG"
   },
   "outputs": [],
   "source": [
    "# Tipo numérico (int|float|complex)\n",
    "x = 10     # inteiro\n",
    "y = -1     # inteiro negativo\n",
    "pi = 3.14  # float\n",
    "z = -5.29  # float negativo\n",
    "w = 4 + 3j # complexo"
   ]
  },
  {
   "cell_type": "code",
   "execution_count": null,
   "metadata": {
    "id": "veFNcPWB4GB-"
   },
   "outputs": [],
   "source": [
    "# Tipo Caractere (str)\n",
    "\n",
    "# index começando do 0...\n",
    "nome = \"Jonas\"\n",
    "dia = \"Segunda-feira\""
   ]
  },
  {
   "cell_type": "code",
   "execution_count": null,
   "metadata": {
    "id": "9f6qZjY35bLL"
   },
   "outputs": [],
   "source": [
    "# Tipo Lógico (bool)\n",
    "\n",
    "continuar = True\n",
    "parar = False\n",
    "casado = True"
   ]
  },
  {
   "cell_type": "markdown",
   "metadata": {
    "id": "AbHi6tbNxBko"
   },
   "source": [
    "# Declaração de variáveis"
   ]
  },
  {
   "cell_type": "code",
   "execution_count": null,
   "metadata": {
    "colab": {
     "base_uri": "https://localhost:8080/"
    },
    "id": "-uxc7bq7xDRv",
    "outputId": "ee706e52-b0a5-4aad-9916-7f9330b6b217"
   },
   "outputs": [
    {
     "name": "stdout",
     "output_type": "stream",
     "text": [
      "2\n",
      "2\n",
      "3\n",
      "3\n",
      "3.0\n",
      "(3+0j)\n",
      "False\n"
     ]
    }
   ],
   "source": [
    "texto   = \"2\"        # Declaração de variável string\n",
    "texto1  = str(2)     # Declaração de variável do tipo String\n",
    "numero  = 3          # Declaração de variável numérica, podendo ser inteira o real\n",
    "numero1 = int(3)     # Declaração de variável numérica, do tipo inteiro\n",
    "numero2 = float(3)   # Declaração de variável numérica, do tipo real\n",
    "numero3 = complex(3) # Declaração de variável numérica, do tipo complexo\n",
    "logico  = bool(0)    # Atribuição de variável lógica, do tipo booleana\n",
    "\n",
    "print(texto)\n",
    "print(texto1)\n",
    "print(numero)\n",
    "print(numero1)\n",
    "print(numero2)\n",
    "print(numero3)\n",
    "print(logico)"
   ]
  },
  {
   "cell_type": "code",
   "execution_count": null,
   "metadata": {
    "colab": {
     "base_uri": "https://localhost:8080/"
    },
    "id": "3_MJeKs_LNG4",
    "outputId": "f1089ec0-7248-4876-c9af-018a17aad655"
   },
   "outputs": [
    {
     "name": "stdout",
     "output_type": "stream",
     "text": [
      "Eu gosto \"Monty Python\"\n",
      "Eu gosto \"Monty Python\"\n"
     ]
    }
   ],
   "source": [
    "# Duas maneiras diferentes de apresentar texto com aspas\n",
    "print(\"Eu gosto \\\"Monty Python\\\"\")\n",
    "print('Eu gosto \"Monty Python\"')"
   ]
  },
  {
   "cell_type": "code",
   "execution_count": null,
   "metadata": {
    "colab": {
     "base_uri": "https://localhost:8080/"
    },
    "id": "nqoFACpbLhzY",
    "outputId": "a9bd0983-c671-4dda-9a6b-e98e09c8e7c7"
   },
   "outputs": [
    {
     "name": "stdout",
     "output_type": "stream",
     "text": [
      "I'm Monty Python.\n",
      "I'm Monty Python.\n"
     ]
    }
   ],
   "source": [
    "# Adicionando apostrofo no texto\n",
    "print('I\\'m Monty Python.')\n",
    "print(\"I'm Monty Python.\")"
   ]
  },
  {
   "cell_type": "markdown",
   "metadata": {
    "id": "QDfX6PvUGRQ-"
   },
   "source": [
    "## Troca simultânea de variáveis"
   ]
  },
  {
   "cell_type": "code",
   "execution_count": null,
   "metadata": {
    "id": "YmIT2PdtGVvx"
   },
   "outputs": [],
   "source": [
    "lista[j],lista[i] = lista[i],lista[j]\n",
    "a , b = b , a"
   ]
  },
  {
   "cell_type": "code",
   "execution_count": null,
   "metadata": {
    "colab": {
     "base_uri": "https://localhost:8080/"
    },
    "id": "bMW7uRFQOVjr",
    "outputId": "526e043d-961a-4cca-9946-7174944f874c"
   },
   "outputs": [
    {
     "name": "stdout",
     "output_type": "stream",
     "text": [
      "4 0\n",
      "0 4\n"
     ]
    }
   ],
   "source": [
    "a = 4\n",
    "b = 0\n",
    "print(a,b)\n",
    "a , b = b , a\n",
    "print(a,b)"
   ]
  },
  {
   "cell_type": "markdown",
   "metadata": {},
   "source": [
    "## Escape"
   ]
  },
  {
   "cell_type": "code",
   "execution_count": 1,
   "metadata": {
    "id": "VXXlbvALZR9u"
   },
   "outputs": [
    {
     "ename": "SyntaxError",
     "evalue": "invalid syntax (116991780.py, line 3)",
     "output_type": "error",
     "traceback": [
      "\u001b[1;36m  Cell \u001b[1;32mIn[1], line 3\u001b[1;36m\u001b[0m\n\u001b[1;33m    '\\'' - Adiciona apóstrofo\u001b[0m\n\u001b[1;37m                    ^\u001b[0m\n\u001b[1;31mSyntaxError\u001b[0m\u001b[1;31m:\u001b[0m invalid syntax\n"
     ]
    }
   ],
   "source": [
    "# Escape no Python\n",
    "'' - Espaço\n",
    "'\\'' - Adiciona apóstrofo\n",
    "'\\ t' - Aba horizontal\n",
    "'\\ n' - Nova linha\n",
    "'\\ v' - Guia vertical\n",
    "'\\ f' - Feed\n",
    "'\\ r' - Retorno de carro"
   ]
  },
  {
   "cell_type": "markdown",
   "metadata": {
    "id": "SbBsMKe0zCCm"
   },
   "source": [
    "# Ler valores inseridos pelo usuário"
   ]
  },
  {
   "cell_type": "code",
   "execution_count": null,
   "metadata": {
    "colab": {
     "base_uri": "https://localhost:8080/"
    },
    "id": "abIJhqLPzDUH",
    "outputId": "15d4026a-25ef-4588-feac-8159758ab61d"
   },
   "outputs": [
    {
     "name": "stdout",
     "output_type": "stream",
     "text": [
      "Digite um número inteiro: 4\n",
      "Digite um número Decimal: 3.0\n",
      "Digite um número complexo: 2\n",
      "Digite um valor Booleano: True\n",
      "Digite um texto: Ola\n",
      "4\n",
      "3.0\n",
      "(2+0j)\n",
      "True\n",
      "Ola\n",
      "<class 'int'>\n",
      "<class 'float'>\n",
      "<class 'complex'>\n",
      "<class 'bool'>\n",
      "<class 'str'>\n"
     ]
    }
   ],
   "source": [
    "\n",
    "# Atribui dados digitados pelo usuário e converte em Número Inteiro\n",
    "numeroInteiro  = int(input(\"Digite um número inteiro: \"))\n",
    "\n",
    "# Atribui dados digitados pelo usuário e converte em Número Decimal\n",
    "numeroReal     = float(input(\"Digite um número decimal: \"))\n",
    "\n",
    "# Atribui dados digitados pelo usuário e converte em Número Complexo\n",
    "numeroComplexo = complex(input(\"Digite um número complexo: \"))\n",
    "\n",
    "# Atribui dados digitados pelo usuário e converte em Bool\n",
    "booleano       = bool(input(\"Digite um valor booleano: \"))\n",
    "\n",
    "# Atribui dados digitados pelo usuário e converte em Texto\n",
    "string         = str(input(\"Digite um texto: \"))\n",
    "\n",
    "print(numeroInteiro)\n",
    "print(numeroReal)\n",
    "print(numeroComplexo)\n",
    "print(booleano)\n",
    "print(string)\n",
    "\n",
    "print(type(numeroInteiro))\n",
    "print(type(numeroReal))\n",
    "print(type(numeroComplexo))\n",
    "print(type(booleano))\n",
    "print(type(string))\n"
   ]
  },
  {
   "cell_type": "markdown",
   "metadata": {
    "id": "jZi1HUe1DqAn"
   },
   "source": [
    "# Cores e Estilos\n"
   ]
  },
  {
   "cell_type": "code",
   "execution_count": null,
   "metadata": {
    "colab": {
     "base_uri": "https://localhost:8080/"
    },
    "id": "QwoHa7JZEyVH",
    "outputId": "28a20ffc-97db-434a-fed6-5ebf3a2e251e"
   },
   "outputs": [
    {
     "name": "stdout",
     "output_type": "stream",
     "text": [
      "\u001b[30m Cinza\n",
      "\u001b[31m Vermelho\n",
      "\u001b[32m Verde\n",
      "\u001b[33m Amarelo\n",
      "\u001b[34m Cian\n",
      "\u001b[35m Magenta\n",
      "\u001b[36m Azul\n",
      "\u001b[37m Branco\n"
     ]
    }
   ],
   "source": [
    "print(\"\\033[30m Cinza\")\n",
    "print(\"\\033[31m Vermelho\")\n",
    "print(\"\\033[32m Verde\")\n",
    "print(\"\\033[33m Amarelo\")\n",
    "print(\"\\033[34m Cian\")\n",
    "print(\"\\033[35m Magenta\")\n",
    "print(\"\\033[36m Azul\")\n",
    "print(\"\\033[37m Branco\")"
   ]
  },
  {
   "cell_type": "code",
   "execution_count": null,
   "metadata": {
    "colab": {
     "base_uri": "https://localhost:8080/"
    },
    "id": "oBji5IA2FPYg",
    "outputId": "860ab880-65b1-464f-b80b-12c623b6c8c5"
   },
   "outputs": [
    {
     "name": "stdout",
     "output_type": "stream",
     "text": [
      "\u001b[40m Cinza\n",
      "\u001b[41m Vermelho\n",
      "\u001b[42m Verde\n",
      "\u001b[43m Amarelo\n",
      "\u001b[44m Cian\n",
      "\u001b[45m Magenta\n",
      "\u001b[46m Azul\n",
      "\u001b[47m Branco\n"
     ]
    }
   ],
   "source": [
    "print(\"\\033[40m Cinza\")\n",
    "print(\"\\033[41m Vermelho\")\n",
    "print(\"\\033[42m Verde\")\n",
    "print(\"\\033[43m Amarelo\")\n",
    "print(\"\\033[44m Cian\")\n",
    "print(\"\\033[45m Magenta\")\n",
    "print(\"\\033[46m Azul\")\n",
    "print(\"\\033[47m Branco\")"
   ]
  },
  {
   "cell_type": "code",
   "execution_count": null,
   "metadata": {
    "colab": {
     "base_uri": "https://localhost:8080/"
    },
    "id": "fx6GHGuxDwj_",
    "outputId": "219ce85c-8494-4199-c24e-e14a9cb741e6"
   },
   "outputs": [
    {
     "name": "stdout",
     "output_type": "stream",
     "text": [
      "\u001b[1;32;47mTexto\n",
      "\u001b[0;30;41mTeste\u001b[0m\n",
      "\u001b[4;33;44mTeste\u001b[0m\n",
      "\u001b[1;35;43mTeste\u001b[0m\n",
      "\u001b[30;42mTeste\u001b[0m\n",
      "\u001b[mTeste\u001b[0m (padrão do terminal)\n",
      "\u001b[7;30mTeste\u001b[0m (letra preta)\n"
     ]
    }
   ],
   "source": [
    "# \\033[ESTILO;FONTE;FUNDOm\n",
    "# contra barra + 033 + abrir colchetes e fechar o código com a letra \"m\"\n",
    "# ESTILO: 0 1 4 7\n",
    "# COR   : 30 ao 37\n",
    "# FUNDO : 40 ao 47\n",
    "\n",
    "print(\"\\033[1;32;47mTexto\")\n",
    "\n",
    "'''\n",
    "ALGUNS CODIGOS PARA STYLE SÃO:\n",
    "0 = None (sem estilo)\n",
    "*esse primeiro código é opcional caso você queria deixar sua fonte normal, pode colocar ou não o \"0\", deixando v.\n",
    "1 = Bolde (Negrito)\n",
    "2 = Fraco\n",
    "3 = Itálico\n",
    "4 = Underline (Sublinhado)\n",
    "7 = Negative (Inverter as configurações Fundo vai pra letra e letra fundo)\n",
    "\n",
    "ALGUNS CODIGOS PARA TEXT SÃO (30 a 37):\n",
    "30 = Branco\n",
    "31 = Vermelho\n",
    "32 = Verde\n",
    "33 = Amarelo\n",
    "34 = Azul\n",
    "35 = Magenta\n",
    "36 = Ciano\n",
    "37 = Cinza\n",
    "\n",
    "ALGUNS CODIGOS PARA BACK SÃO (40 a 47):\n",
    "40 = Branco\n",
    "41 = Vermelho\n",
    "42 = Verde\n",
    "43 = Amarelo\n",
    "44 = Azul\n",
    "45 = Magenta\n",
    "46 = Ciano\n",
    "47 = Cinza\n",
    "'''\n",
    "\n",
    "print(\"\\033[0;30;41mTeste\\033[0m\")\n",
    "print(\"\\033[4;33;44mTeste\\033[0m\")\n",
    "print(\"\\033[1;35;43mTeste\\033[0m\")\n",
    "print(\"\\033[30;42mTeste\\033[0m\")\n",
    "print(\"\\033[mTeste\\033[0m (padrão do terminal)\")\n",
    "print(\"\\033[7;30mTeste\\033[0m (letra preta)\")\n",
    "\n",
    "# \\033[0m no final é pra limitar"
   ]
  },
  {
   "cell_type": "markdown",
   "metadata": {
    "id": "goBnvsk5XsSP"
   },
   "source": [
    "# Teste de Strings"
   ]
  },
  {
   "cell_type": "code",
   "execution_count": null,
   "metadata": {
    "colab": {
     "base_uri": "https://localhost:8080/"
    },
    "id": "zAoVzMCFXxLH",
    "outputId": "1300ed62-807a-4e99-bc94-f905c8786fb4"
   },
   "outputs": [
    {
     "name": "stdout",
     "output_type": "stream",
     "text": [
      "False\n",
      "False\n",
      "True\n",
      "False\n",
      "True\n",
      "False\n",
      "False\n",
      "False\n"
     ]
    }
   ],
   "source": [
    "n = '5t'\n",
    "# retornam True ou False\n",
    "print(n.isnumeric()) # é número decimal, fração, romano, etc...?\n",
    "print(n.isalpha())   # é alfabético?\n",
    "print(n.isalnum())   # é alfanumérico?\n",
    "print(n.isupper())   # é maiúscula?\n",
    "print(n.islower())   # é minúscula?\n",
    "print(n.istitle())   # é titulada?\n",
    "print(n.isdecimal()) # é número decimal?\n",
    "print(n.isspace())   # há espaço?"
   ]
  },
  {
   "cell_type": "markdown",
   "metadata": {
    "id": "QnTSfzXjLWj7"
   },
   "source": [
    "# Colunas com preenchimento e alinhamento"
   ]
  },
  {
   "cell_type": "code",
   "execution_count": null,
   "metadata": {
    "colab": {
     "base_uri": "https://localhost:8080/"
    },
    "id": "CBDs944NLf2C",
    "outputId": "0060527d-868c-42b6-9c3d-a2530495fae1"
   },
   "outputs": [
    {
     "name": "stdout",
     "output_type": "stream",
     "text": [
      "-------- Centralizado --------\n",
      "--------------------- Direita \n",
      " Esquerda --------------------\n"
     ]
    }
   ],
   "source": [
    "print(\" Centralizado \".center(30,\"-\")) # número de colunas, e completar com caracter\n",
    "print(\" Direita \".rjust(30,\"-\"))\n",
    "print(\" Esquerda \".ljust(30,\"-\"))"
   ]
  },
  {
   "cell_type": "markdown",
   "metadata": {
    "id": "pfT_tuUBMf9T"
   },
   "source": [
    "## Alinhamento para F-strings"
   ]
  },
  {
   "cell_type": "code",
   "execution_count": null,
   "metadata": {
    "colab": {
     "base_uri": "https://localhost:8080/"
    },
    "id": "6_PV7OOUMlqj",
    "outputId": "7427492d-eb27-46b6-dd46-a0ae2e3856d6"
   },
   "outputs": [
    {
     "name": "stdout",
     "output_type": "stream",
     "text": [
      "|             Unidade|          5          |\n",
      "|      Unidade       |          5          |\n",
      "|Unidade             |          5          |\n"
     ]
    }
   ],
   "source": [
    "print(f\"|{'Unidade':>20}|{'5':^21}|\") # alinhando a direita(>) em 20 colunas\n",
    "print(f\"|{'Unidade':^20}|{'5':^21}|\") # alinhando centralizado(^) em 20 colunas\n",
    "print(f\"|{'Unidade':<20}|{'5':^21}|\") # alinhando a esquerda(<) em 20 colunas"
   ]
  },
  {
   "cell_type": "markdown",
   "metadata": {
    "id": "XIVF8lcB0-x6"
   },
   "source": [
    "# Desafios"
   ]
  },
  {
   "cell_type": "markdown",
   "metadata": {
    "id": "oXmIfrLn1RzJ"
   },
   "source": [
    "## 01\n",
    "Crie um programa para efetuar a leitura de um número inteiro e\n",
    "apresentar o resultado do quadrado desse número\n"
   ]
  },
  {
   "cell_type": "code",
   "execution_count": null,
   "metadata": {
    "colab": {
     "base_uri": "https://localhost:8080/"
    },
    "id": "eLrttwux1BcC",
    "outputId": "fd56517d-40d9-48ae-b95d-99e0e9d66ca0"
   },
   "outputs": [
    {
     "name": "stdout",
     "output_type": "stream",
     "text": [
      "Digite um número inteiro: 7\n",
      "\n",
      "O quadrado de 7 é: 49\n"
     ]
    }
   ],
   "source": [
    "#V1\n",
    "numero = int(input(\"Digite um número inteiro: \"))\n",
    "quadrado = numero*numero\n",
    "\n",
    "print(\"\\nO quadrado de {} é: {}\".format(numero,quadrado))"
   ]
  },
  {
   "cell_type": "code",
   "execution_count": null,
   "metadata": {
    "colab": {
     "base_uri": "https://localhost:8080/"
    },
    "id": "z173Zig51x6J",
    "outputId": "b1818f8b-f4ac-4b06-ab3f-7e8a021c69b1"
   },
   "outputs": [
    {
     "name": "stdout",
     "output_type": "stream",
     "text": [
      "Digite um número inteiro: 45\n",
      "O quadrado do número é : 2025\n"
     ]
    }
   ],
   "source": [
    "#V2\n",
    "numero = int(input(\"Digite um número inteiro: \"))\n",
    "\n",
    "print(f\"O quadrado do número é: {numero**2}\")"
   ]
  },
  {
   "cell_type": "code",
   "execution_count": null,
   "metadata": {
    "colab": {
     "base_uri": "https://localhost:8080/"
    },
    "id": "SmTj14813Gd7",
    "outputId": "a51bbd35-652b-4db0-ed76-55c6d60e31fd"
   },
   "outputs": [
    {
     "name": "stdout",
     "output_type": "stream",
     "text": [
      "Digite um número inteiro: 77\n",
      "\n",
      "O quadrado do número é: 5929\n"
     ]
    }
   ],
   "source": [
    "#V3\n",
    "numero = int(input(\"Digite um número inteiro: \"))\n",
    "\n",
    "print(\"\\nO quadrado do número é:\", numero*numero)"
   ]
  },
  {
   "cell_type": "code",
   "execution_count": null,
   "metadata": {
    "colab": {
     "base_uri": "https://localhost:8080/"
    },
    "id": "Txr-Qbh93MLs",
    "outputId": "fe17fac3-02ee-4705-c543-8579dc477e16"
   },
   "outputs": [
    {
     "name": "stdout",
     "output_type": "stream",
     "text": [
      "Digite um número inteiro: 1000\n",
      "O quadrado do número é : 1000000\n"
     ]
    }
   ],
   "source": [
    "#V4\n",
    "print(\"O quadrado do número é:\",int(input(\"Digite um número inteiro: \"))**2)"
   ]
  },
  {
   "cell_type": "code",
   "execution_count": null,
   "metadata": {
    "colab": {
     "base_uri": "https://localhost:8080/"
    },
    "id": "d7hG526D5Xvl",
    "outputId": "b307f317-dcde-4442-b20c-e5c6ae3ee5b4"
   },
   "outputs": [
    {
     "name": "stdout",
     "output_type": "stream",
     "text": [
      "Digite um número inteiro: 35\n",
      "Jonas diz que o quadrado de 35 é: 1225\n"
     ]
    }
   ],
   "source": [
    "#V5\n",
    "numero = int(input(\"Digite um número inteiro: \"))\n",
    "quadrado = numero*numero\n",
    "nome = \"Jonas\"\n",
    "print(\"%s diz que o quadrado de %d é: %d\"%(nome,numero,quadrado)) # %d para int, %f para float, %s para string"
   ]
  },
  {
   "cell_type": "code",
   "execution_count": null,
   "metadata": {
    "colab": {
     "base_uri": "https://localhost:8080/"
    },
    "id": "82jxx1it82o1",
    "outputId": "efa74fac-979a-4001-850a-bb86f9d37132"
   },
   "outputs": [
    {
     "name": "stdout",
     "output_type": "stream",
     "text": [
      "Digite um número inteiro: 55\n",
      "Jonas diz que o quadrado de 55 é: 3025\n"
     ]
    }
   ],
   "source": [
    "#V6\n",
    "numero = int(input(\"Digite um número inteiro: \"))\n",
    "quadrado = numero*numero\n",
    "nome = \"Jonas\"\n",
    "print(f\"{nome} diz que o quadrado de {numero} é: {quadrado}\")"
   ]
  },
  {
   "cell_type": "markdown",
   "metadata": {
    "id": "-VVaNJ_V-rHG"
   },
   "source": [
    "## 02\n",
    "Escreva um programa que leia dois caracteres e imprima-os na tela da seguinte forma:\n",
    "O usuário digitou {caractere1} e {caractere2}!."
   ]
  },
  {
   "cell_type": "code",
   "execution_count": null,
   "metadata": {
    "colab": {
     "base_uri": "https://localhost:8080/"
    },
    "id": "q5pdbXwf-tb9",
    "outputId": "588c0794-758f-4331-8a3c-c4e1e560d549"
   },
   "outputs": [
    {
     "name": "stdout",
     "output_type": "stream",
     "text": [
      "Digite o primeiro caractere: °\n",
      "Digite o segundo caractere: @\n",
      "\n",
      "O usuário digitou (°) e (@)!\n"
     ]
    }
   ],
   "source": [
    "c1 = input(\"Digite o primeiro caractere: \")\n",
    "c2 = input(\"Digite o segundo caractere: \")\n",
    "\n",
    "print(f\"\\nO usuário digitou ({c1}) e ({c2})!\")"
   ]
  },
  {
   "cell_type": "markdown",
   "metadata": {
    "id": "3YORATnaCp2o"
   },
   "source": [
    "## 03\n",
    "Crie um programa que leia um número inteiro e imprimir seu sucessor e seu antecessor."
   ]
  },
  {
   "cell_type": "code",
   "execution_count": null,
   "metadata": {
    "colab": {
     "base_uri": "https://localhost:8080/"
    },
    "id": "qP_nmkKVCunY",
    "outputId": "cf756240-6f56-4b43-8eb9-ecd24518f5ae"
   },
   "outputs": [
    {
     "name": "stdout",
     "output_type": "stream",
     "text": [
      "Digite um número inteiro: 1000\n",
      "\n",
      "O antecessor é 999 e o seu sucessor é 1001.\n"
     ]
    }
   ],
   "source": [
    "numero = int(input(\"Digite um número inteiro: \"))\n",
    "\n",
    "print(f\"\\nO antecessor é {numero-1} e o seu sucessor é {numero+1}.\")"
   ]
  },
  {
   "cell_type": "markdown",
   "metadata": {
    "id": "SIPkZJ5uILPy"
   },
   "source": [
    "## 04\n",
    "Crie um programa para entrar com e a base a altura de um retângulo e imprimir respectivamente o perímetro e a área correspondente."
   ]
  },
  {
   "cell_type": "code",
   "execution_count": null,
   "metadata": {
    "colab": {
     "base_uri": "https://localhost:8080/"
    },
    "id": "oA3dG9HWIRmb",
    "outputId": "c3e1be37-cedd-4b6b-9e22-553a27002d15"
   },
   "outputs": [
    {
     "name": "stdout",
     "output_type": "stream",
     "text": [
      "Digite a base do retângulo: 5\n",
      "Digite a altura do retângulo: 4\n",
      "\n",
      "O perímetro do retângulo é 18.0 m e sua área é 20.0 m².\n"
     ]
    }
   ],
   "source": [
    "base = float(input(\"Digite a base do retângulo: \"))\n",
    "altura = float(input(\"Digite a altura do retângulo: \"))\n",
    "\n",
    "print(f\"\\nO perímetro do retângulo é {(base*2)+(altura*2)} m e sua área é {base*altura} m².\")"
   ]
  },
  {
   "cell_type": "markdown",
   "metadata": {
    "id": "S4XYuDoXSmNX"
   },
   "source": [
    "## 05\n",
    "Crie um programa que dados o valor, a taxa e o tempo, efetuar o cálculo do valor de\n",
    "uma prestação em atraso.\n",
    "FÓRMULA: valor da prestação + (valor da prestação * (taxa / 100) * tempo)"
   ]
  },
  {
   "cell_type": "code",
   "execution_count": null,
   "metadata": {
    "colab": {
     "base_uri": "https://localhost:8080/"
    },
    "id": "6Cq8oDoYSugQ",
    "outputId": "db9bf612-23f3-41c2-c086-9e57b4533748"
   },
   "outputs": [
    {
     "name": "stdout",
     "output_type": "stream",
     "text": [
      "Digite o valor da prestação: 1500\n",
      "Digite a taxa de juros mensal: 2\n",
      "Digite os meses em atraso: 2\n",
      "\n",
      "O valor total a ser pago pelo atraso é R$ 1,560.00\n"
     ]
    }
   ],
   "source": [
    "# V1\n",
    "valor = float(input(\"Digite o valor da prestação: \"))\n",
    "taxa = float(input(\"Digite a taxa de juros mensal: \"))\n",
    "tempo = int(input(\"Digite os meses em atraso: \"))\n",
    "\n",
    "print(f\"\\nO valor total a ser pago pelo atraso é R$ {valor+(valor*(taxa/100)*tempo):,.2f}\") # formatando números com , e ."
   ]
  },
  {
   "cell_type": "code",
   "execution_count": null,
   "metadata": {
    "colab": {
     "base_uri": "https://localhost:8080/"
    },
    "id": "S34CVnJ8ZMvh",
    "outputId": "e441b1a9-5b5c-4bfa-b2c2-bbcf1302f960"
   },
   "outputs": [
    {
     "name": "stdout",
     "output_type": "stream",
     "text": [
      "Digite o valor da prestação: 1500\n",
      "Digite a taxa de juros mensal: 2\n",
      "Digite os meses em atraso: 2\n",
      "\n",
      "O valor total a ser pago pelo atraso é R$ 1560.00\n"
     ]
    }
   ],
   "source": [
    "# V2\n",
    "valor = float(input(\"Digite o valor da prestação: \"))\n",
    "taxa = float(input(\"Digite a taxa de juros mensal: \"))\n",
    "tempo = int(input(\"Digite os meses em atraso: \"))\n",
    "\n",
    "prestacao = valor+(valor*(taxa/100)*tempo)\n",
    "\n",
    "print(f\"\\nO valor total a ser pago pelo atraso é R$ {prestacao:,.2f}\") # duas casas decimais e virgula no milhar"
   ]
  },
  {
   "cell_type": "markdown",
   "metadata": {
    "id": "_idsCt5HaOBb"
   },
   "source": [
    "## 06\n",
    "\n",
    "Dado a nota das provas P1, P2 e P3, calcular a média (aritmética) das notas do aluno."
   ]
  },
  {
   "cell_type": "code",
   "execution_count": null,
   "metadata": {
    "colab": {
     "base_uri": "https://localhost:8080/"
    },
    "id": "IoNkPHxpaVmZ",
    "outputId": "5e6c8e99-a5d3-47dc-c3f4-d39b610607e4"
   },
   "outputs": [
    {
     "name": "stdout",
     "output_type": "stream",
     "text": [
      "Digite a nota da Prova 1: 8\n",
      "Digite a nota da Prova 2: 7.1\n",
      "Digite a nota da Prova 3: 3.2\n",
      "\n",
      "A média final do aluno é 6.1.\n"
     ]
    }
   ],
   "source": [
    "p1 = float(input(\"Digite a nota da Prova 1: \"))\n",
    "p2 = float(input(\"Digite a nota da Prova 2: \"))\n",
    "p3 = float(input(\"Digite a nota da Prova 3: \"))\n",
    "\n",
    "print(f\"\\nA média final do aluno é {(p1+p2+p3)/3:.1f}.\") # Arredondado para uma casa decimal"
   ]
  },
  {
   "cell_type": "markdown",
   "metadata": {
    "id": "Ph3VrnovdHik"
   },
   "source": [
    "## 07\n",
    "\n",
    "Escreva um código que calcule a hipotenusa de um triângulo retângulo, cujos catetos são:\n",
    "a = 4\n",
    "b = 3"
   ]
  },
  {
   "cell_type": "code",
   "execution_count": null,
   "metadata": {
    "colab": {
     "base_uri": "https://localhost:8080/"
    },
    "id": "jUE7_qtIdPrD",
    "outputId": "159b02b7-b4d4-431f-f674-e628ad8e5b85"
   },
   "outputs": [
    {
     "name": "stdout",
     "output_type": "stream",
     "text": [
      "Digite o cateto A: 3\n",
      "Digite o cateto B: 4\n",
      "\n",
      "A hipotenusa do triângulo retângulo é 5.0.\n"
     ]
    }
   ],
   "source": [
    "a = float(input(\"Digite o cateto A: \"))\n",
    "b = float(input(\"Digite o cateto B: \"))\n",
    "\n",
    "hipotenusa = (a**2 + b **2)**(1/2)\n",
    "print(f\"\\nA hipotenusa do triângulo retângulo é {hipotenusa:.1f}.\")"
   ]
  },
  {
   "cell_type": "markdown",
   "metadata": {
    "id": "faCxs_tegNuW"
   },
   "source": [
    "## 08\n",
    "\n",
    "Solicite ao usuário o valor do salário atual, em seguida solicite o\n",
    "percentual de aumento e imprima o valor do salário atualizado."
   ]
  },
  {
   "cell_type": "code",
   "execution_count": null,
   "metadata": {
    "colab": {
     "base_uri": "https://localhost:8080/"
    },
    "id": "vw8I1cxLgPdO",
    "outputId": "493f188a-d495-49d4-acd0-35876192cbd8"
   },
   "outputs": [
    {
     "name": "stdout",
     "output_type": "stream",
     "text": [
      "Digite o valor do salário: 1000\n",
      "Digite o percentual de aumento: 10\n",
      "\n",
      "O novo valor do salário com aumento é R$1,100.00.\n"
     ]
    }
   ],
   "source": [
    "sal = float(input(\"Digite o valor do salário: \"))\n",
    "taxa = float(input(\"Digite o percentual de aumento: \"))\n",
    "\n",
    "novo_sal = sal+(sal*taxa/100)\n",
    "print(f\"\\nO novo valor do salário com aumento é R${novo_sal:,.2f}.\")"
   ]
  },
  {
   "cell_type": "markdown",
   "metadata": {
    "id": "jYt3FwXu3eSg"
   },
   "source": [
    "## 09\n",
    "\n",
    "Crie um programa e declare uma constante PI utilizando 4 casas\n",
    "decimais. Dados o raio e a altura, calcule e apresente o volume de um objeto cilíndrico.\n",
    "Fórmula: volume = PI * r² * altura"
   ]
  },
  {
   "cell_type": "code",
   "execution_count": null,
   "metadata": {
    "colab": {
     "base_uri": "https://localhost:8080/"
    },
    "id": "C_o-PV2qgzWK",
    "outputId": "bb194693-7bcd-4e5f-95c9-fa72c4f56be6"
   },
   "outputs": [
    {
     "name": "stdout",
     "output_type": "stream",
     "text": [
      "Digite o valor do raio do cilindro: 2\n",
      "Digite o valor da altura do cilindro: 10\n",
      "\n",
      "O volume do cilindro é 125.66 cm³.\n"
     ]
    }
   ],
   "source": [
    "PI = 3.1415\n",
    "raio = float(input(\"Digite o valor do raio do cilindro: \"))\n",
    "altura = float(input(\"Digite o valor da altura do cilindro: \"))\n",
    "\n",
    "print(f\"\\nO volume do cilindro é {PI*raio*raio*altura:,.2f} cm³.\")"
   ]
  },
  {
   "cell_type": "markdown",
   "metadata": {
    "id": "P2fFUXO07oVS"
   },
   "source": [
    "## 10\n",
    "Imprima uma árvore de Natal como no exemplo utilizando a multiplicação de Strings.\n",
    "\n"
   ]
  },
  {
   "cell_type": "code",
   "execution_count": null,
   "metadata": {
    "id": "6RSFFpR94KgM"
   },
   "outputs": [],
   "source": [
    "\"\"\"\n",
    "          *\n",
    "         ***\n",
    "        *****\n",
    "       *******\n",
    "      *********\n",
    "     ***********\n",
    "    *************\n",
    "   ***************\n",
    "  *****************\n",
    "         ***\n",
    "         ***\n",
    "         ***\n",
    "\"\"\""
   ]
  },
  {
   "cell_type": "code",
   "execution_count": null,
   "metadata": {
    "colab": {
     "base_uri": "https://localhost:8080/"
    },
    "id": "9mfQFvQ471b7",
    "outputId": "c4199f7f-db1c-474e-9de6-afd9052681f1"
   },
   "outputs": [
    {
     "name": "stdout",
     "output_type": "stream",
     "text": [
      "           *\n",
      "          ***\n",
      "         *****\n",
      "        *******\n",
      "       *********\n",
      "      ***********\n",
      "     *************\n",
      "    ***************\n",
      "   *****************\n",
      "          ///\n",
      "          ///\n",
      "          ///\n"
     ]
    }
   ],
   "source": [
    "x = \"*\"\n",
    "espaco = \" \"\n",
    "barra = \"/\"\n",
    "\n",
    "print(10*espaco,1*x)\n",
    "print(9*espaco,3*x)\n",
    "print(8*espaco,5*x)\n",
    "print(7*espaco,7*x)\n",
    "print(6*espaco,9*x)\n",
    "print(5*espaco,11*x)\n",
    "print(4*espaco,13*x)\n",
    "print(3*espaco,15*x)\n",
    "print(2*espaco,17*x)\n",
    "print(9*espaco,3*barra)\n",
    "print(9*espaco,3*barra)\n",
    "print(9*espaco,3*barra)"
   ]
  },
  {
   "cell_type": "markdown",
   "metadata": {
    "id": "USTFdmRGGnk3"
   },
   "source": [
    "## 11\n",
    "Com base no desafio 10, faça a coloração da árvore de Natal, sendo sua copa verde e base vermelha."
   ]
  },
  {
   "cell_type": "code",
   "execution_count": null,
   "metadata": {
    "colab": {
     "base_uri": "https://localhost:8080/"
    },
    "id": "o5UEdVSiGm9M",
    "outputId": "c083d46b-11b7-4a80-8cdf-1b140cb66587"
   },
   "outputs": [
    {
     "name": "stdout",
     "output_type": "stream",
     "text": [
      "           \u001b[32m*\n",
      "          \u001b[32m*\u001b[32m*\u001b[32m*\n",
      "         \u001b[32m*\u001b[32m*\u001b[32m*\u001b[32m*\u001b[32m*\n",
      "        \u001b[32m*\u001b[32m*\u001b[32m*\u001b[32m*\u001b[32m*\u001b[32m*\u001b[32m*\n",
      "       \u001b[32m*\u001b[32m*\u001b[32m*\u001b[32m*\u001b[32m*\u001b[32m*\u001b[32m*\u001b[32m*\u001b[32m*\n",
      "      \u001b[32m*\u001b[32m*\u001b[32m*\u001b[32m*\u001b[32m*\u001b[32m*\u001b[32m*\u001b[32m*\u001b[32m*\u001b[32m*\u001b[32m*\n",
      "     \u001b[32m*\u001b[32m*\u001b[32m*\u001b[32m*\u001b[32m*\u001b[32m*\u001b[32m*\u001b[32m*\u001b[32m*\u001b[32m*\u001b[32m*\u001b[32m*\u001b[32m*\n",
      "    \u001b[32m*\u001b[32m*\u001b[32m*\u001b[32m*\u001b[32m*\u001b[32m*\u001b[32m*\u001b[32m*\u001b[32m*\u001b[32m*\u001b[32m*\u001b[32m*\u001b[32m*\u001b[32m*\u001b[32m*\n",
      "   \u001b[32m*\u001b[32m*\u001b[32m*\u001b[32m*\u001b[32m*\u001b[32m*\u001b[32m*\u001b[32m*\u001b[32m*\u001b[32m*\u001b[32m*\u001b[32m*\u001b[32m*\u001b[32m*\u001b[32m*\u001b[32m*\u001b[32m*\n",
      "          \u001b[31m/\u001b[31m/\u001b[31m/\n",
      "          \u001b[31m/\u001b[31m/\u001b[31m/\n",
      "          \u001b[31m/\u001b[31m/\u001b[31m/\n",
      "\u001b[1;33;45m #### FELIZ NATAL #### \n"
     ]
    }
   ],
   "source": [
    "x = \"\\033[32m*\"\n",
    "espaco = \" \"\n",
    "barra = \"\\033[31m/\"\n",
    "\n",
    "print(10*espaco,1*x)\n",
    "print(9*espaco,3*x)\n",
    "print(8*espaco,5*x)\n",
    "print(7*espaco,7*x)\n",
    "print(6*espaco,9*x)\n",
    "print(5*espaco,11*x)\n",
    "print(4*espaco,13*x)\n",
    "print(3*espaco,15*x)\n",
    "print(2*espaco,17*x)\n",
    "print(9*espaco,3*barra)\n",
    "print(9*espaco,3*barra)\n",
    "print(9*espaco,3*barra)\n",
    "\n",
    "print(\"\\033[1;33;45m\",\" FELIZ NATAL \".center(21,\"#\"),\"\")\n"
   ]
  },
  {
   "cell_type": "markdown",
   "metadata": {
    "id": "kSLSX0qDOQ6s"
   },
   "source": [
    "## 12\n",
    "\n",
    "Construir um cardápio utilizando colunas e autopreenchimento."
   ]
  },
  {
   "cell_type": "code",
   "execution_count": null,
   "metadata": {
    "colab": {
     "base_uri": "https://localhost:8080/"
    },
    "id": "CsDlB7768heZ",
    "outputId": "494559c3-2562-4ab2-d968-97b19afe9b69"
   },
   "outputs": [
    {
     "name": "stdout",
     "output_type": "stream",
     "text": [
      "\u001b[1;33;41m ************* CARDÁPIO ************* \u001b[0m\n",
      "\n",
      "PASTEL........................ R$ 6,50\n",
      "COXINHA....................... R$ 5,50\n",
      "RISOLE........................ R$ 7,50\n"
     ]
    }
   ],
   "source": [
    "print(\"\\033[1;33;41m\",\" CARDÁPIO \".center(36,\"*\"),\"\\033[0m\\n\")\n",
    "\n",
    "print(\"PASTEL\".ljust(30,\".\"),\"R$ 6,50\")\n",
    "print(\"COXINHA\".ljust(30,\".\"),\"R$ 5,50\")\n",
    "print(\"RISOLE\".ljust(30,\".\"),\"R$ 7,50\")\n",
    "\n"
   ]
  },
  {
   "cell_type": "code",
   "execution_count": null,
   "metadata": {
    "id": "BtvRJhdrOsPk"
   },
   "outputs": [],
   "source": []
  }
 ],
 "metadata": {
  "colab": {
   "provenance": [],
   "toc_visible": true
  },
  "kernelspec": {
   "display_name": "Python 3",
   "name": "python3"
  },
  "language_info": {
   "codemirror_mode": {
    "name": "ipython",
    "version": 3
   },
   "file_extension": ".py",
   "mimetype": "text/x-python",
   "name": "python",
   "nbconvert_exporter": "python",
   "pygments_lexer": "ipython3",
   "version": "3.12.1"
  }
 },
 "nbformat": 4,
 "nbformat_minor": 0
}
