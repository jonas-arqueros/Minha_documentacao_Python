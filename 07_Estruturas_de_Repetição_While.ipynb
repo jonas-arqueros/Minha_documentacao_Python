{
 "cells": [
  {
   "cell_type": "markdown",
   "metadata": {
    "id": "xXRJgzjlWV0G"
   },
   "source": [
    "# Estrutura de repetição"
   ]
  },
  {
   "cell_type": "markdown",
   "metadata": {
    "id": "F90W7DNZWYI2"
   },
   "source": [
    "## While"
   ]
  },
  {
   "cell_type": "code",
   "execution_count": null,
   "metadata": {
    "id": "DdylQzniWhuu"
   },
   "outputs": [],
   "source": [
    "while <condição>:\n",
    "    <bloco de codigo>\n",
    "    <bloco de codigo>\n",
    "    <bloco de codigo>"
   ]
  },
  {
   "cell_type": "code",
   "execution_count": null,
   "metadata": {
    "colab": {
     "base_uri": "https://localhost:8080/"
    },
    "id": "g635CP-XWd83",
    "outputId": "b5b6d7de-d1b0-4a26-f5cc-8f672cd04b2a"
   },
   "outputs": [
    {
     "name": "stdout",
     "output_type": "stream",
     "text": [
      "1, 2, 3, 4, 5, 6, 7, 8, 9, 10, "
     ]
    }
   ],
   "source": [
    "x = 1\n",
    "while x <= 10:\n",
    "    print(x, end=\", \")\n",
    "    x += 1"
   ]
  },
  {
   "cell_type": "code",
   "execution_count": null,
   "metadata": {
    "colab": {
     "base_uri": "https://localhost:8080/"
    },
    "id": "Pg8idK4KW7C2",
    "outputId": "18a3538d-b0b4-4b28-ea0b-05b6258b4b78"
   },
   "outputs": [
    {
     "name": "stdout",
     "output_type": "stream",
     "text": [
      "1, 2, 3, 4, 5, 6, 7, 8, 9, 10, Acabou\n"
     ]
    }
   ],
   "source": [
    "x = 1\n",
    "while x <= 10:\n",
    "    print(x, end=\", \")\n",
    "    x += 1\n",
    "else:\n",
    "    print(\"Acabou\")"
   ]
  },
  {
   "cell_type": "code",
   "execution_count": null,
   "metadata": {
    "colab": {
     "base_uri": "https://localhost:8080/"
    },
    "id": "n-uYIV5lXgyf",
    "outputId": "27530f27-3f89-477f-c36b-3ba8cfb1cc0e"
   },
   "outputs": [
    {
     "name": "stdout",
     "output_type": "stream",
     "text": [
      "1, 2, 3, 4, 6, 7, 8, 9, 10, Acabou\n"
     ]
    }
   ],
   "source": [
    "x = 0\n",
    "while x < 10:\n",
    "    x += 1\n",
    "    if x == 5:\n",
    "        continue\n",
    "\n",
    "    print(x, end=\", \")\n",
    "else:\n",
    "    print(\"Acabou\")\n"
   ]
  },
  {
   "cell_type": "code",
   "execution_count": null,
   "metadata": {
    "colab": {
     "base_uri": "https://localhost:8080/"
    },
    "id": "JYlW96S1YQ-_",
    "outputId": "831ba9c0-0678-4f4a-f553-0af8c498678d"
   },
   "outputs": [
    {
     "name": "stdout",
     "output_type": "stream",
     "text": [
      "Sair do programa (s/n): n\n",
      "Continuando...\n",
      "Sair do programa (s/n): n\n",
      "Continuando...\n",
      "Sair do programa (s/n): n\n",
      "Continuando...\n",
      "Sair do programa (s/n): N\n",
      "Continuando...\n",
      "Sair do programa (s/n): s\n",
      "Fim\n"
     ]
    }
   ],
   "source": [
    "while True:\n",
    "    resposta = input(\"Sair do programa (s/n): \").lower()\n",
    "    if resposta == \"s\":\n",
    "        print(\"Fim\")\n",
    "        break\n",
    "    print(\"Continuando...\")"
   ]
  },
  {
   "cell_type": "code",
   "execution_count": null,
   "metadata": {
    "colab": {
     "base_uri": "https://localhost:8080/"
    },
    "id": "Mtk7Gd-gaSp3",
    "outputId": "98f5d95a-dee9-4865-cfb8-d8b1d4c18d98"
   },
   "outputs": [
    {
     "name": "stdout",
     "output_type": "stream",
     "text": [
      "Sair do programa (s/n): f\n",
      "deixa de besteira, só vale S ou N\n",
      "Sair do programa (s/n): n\n",
      "Continuando...\n",
      "Sair do programa (s/n): s\n",
      "Fim\n"
     ]
    }
   ],
   "source": [
    "while True:\n",
    "    resposta = input(\"Sair do programa (s/n): \").lower()\n",
    "    if resposta != \"s\" and resposta != \"n\":\n",
    "        print(\"deixa de besteira, só vale S ou N\")\n",
    "        continue\n",
    "    if resposta == \"s\":\n",
    "        print(\"Fim\")\n",
    "        break\n",
    "    print(\"Continuando...\")"
   ]
  },
  {
   "cell_type": "markdown",
   "metadata": {
    "id": "6CYcj6IncNDO"
   },
   "source": [
    "# Desafios"
   ]
  },
  {
   "cell_type": "markdown",
   "metadata": {
    "id": "Q-nVY5LycP2G"
   },
   "source": [
    "## 01\n",
    "\n",
    "Faça um programa que leia o sexo de uma pessoa, mas só aceite os\n",
    "valores ‘M’ ou ‘F’. Caso esteja errado, peça a digitação novamente até ter um valor correto."
   ]
  },
  {
   "cell_type": "code",
   "execution_count": null,
   "metadata": {
    "colab": {
     "base_uri": "https://localhost:8080/"
    },
    "id": "C16cCh3dbuk_",
    "outputId": "92b9f94a-dd25-413b-8b75-4791c34867e9"
   },
   "outputs": [
    {
     "name": "stdout",
     "output_type": "stream",
     "text": [
      "Digite o sexo (m/f): h\n",
      "\u001b[1;31mDado inválido.\u001b[0m\n",
      "Digite o sexo (m/f): t\n",
      "\u001b[1;31mDado inválido.\u001b[0m\n",
      "Digite o sexo (m/f): m\n",
      "\n",
      "\u001b[1;32mCadastro realizado com sucesso.\u001b[0m\n"
     ]
    }
   ],
   "source": [
    "validacao = False\n",
    "while validacao == False:\n",
    "    sexo = input(\"Digite o sexo (m/f): \").lower()\n",
    "    if sexo == \"m\" or sexo == \"f\":\n",
    "        validacao = True\n",
    "        print(\"\\n\\033[1;32mCadastro realizado com sucesso.\\033[0m\")\n",
    "    else:\n",
    "        print(\"\\033[1;31mDado inválido.\\033[0m\")\n",
    "        continue\n"
   ]
  },
  {
   "cell_type": "markdown",
   "metadata": {
    "id": "b4miLSx5cjQO"
   },
   "source": [
    "## 02\n",
    "\n",
    "Faça um programa onde o computador vai “pensar” em um número entre 0 a 10.\n",
    "O jogador vai tentar adivinhar até acertar, mostrando no final quantos palpites foram necessários para vencer."
   ]
  },
  {
   "cell_type": "code",
   "execution_count": null,
   "metadata": {
    "colab": {
     "base_uri": "https://localhost:8080/"
    },
    "id": "0638zuAicndo",
    "outputId": "402f6e57-01f5-4847-c89f-fd728983a4fd"
   },
   "outputs": [
    {
     "name": "stdout",
     "output_type": "stream",
     "text": [
      "Tente adivinhar o número entre 0 e 10: 4\n",
      "\u001b[1;31mErrou, tente novamente.\u001b[0m\n",
      "Tente adivinhar o número entre 0 e 10: 5\n",
      "\u001b[1;31mErrou, tente novamente.\u001b[0m\n",
      "Tente adivinhar o número entre 0 e 10: 8\n",
      "\n",
      "\u001b[1;32mVocê acertou o número com 3 palpite(s)!\n"
     ]
    }
   ],
   "source": [
    "import random\n",
    "n = random.randint(0,10)\n",
    "palpites = 0\n",
    "tentativa = 11\n",
    "\n",
    "while tentativa != n:\n",
    "    tentativa = int(input(\"Tente adivinhar o número entre 0 e 10: \"))\n",
    "    if n == tentativa:\n",
    "        palpites += 1\n",
    "        print(f\"\\n\\033[1;32mVocê acertou o número com {palpites} palpite(s)!\")\n",
    "    else:\n",
    "        palpites += 1\n",
    "        print(f\"\\033[1;31mErrou, tente novamente.\\033[0m\")\n",
    "        continue"
   ]
  },
  {
   "cell_type": "markdown",
   "metadata": {
    "id": "e30exP2kqL8m"
   },
   "source": [
    "## 03\n",
    "\n",
    "Crie um programa que leia dois valores e mostre um menu na tela:\n",
    "\n",
    "[1] Somar\n",
    "\n",
    "[2] Multiplicar\n",
    "\n",
    "[3] Maior\n",
    "\n",
    "[4] Novos Números\n",
    "\n",
    "[5] Sair do programa\n",
    "\n",
    "Seu programa deverá realizar a operação solicitada em cada caso."
   ]
  },
  {
   "cell_type": "code",
   "execution_count": null,
   "metadata": {
    "colab": {
     "base_uri": "https://localhost:8080/"
    },
    "id": "h2yVy7FLf0x_",
    "outputId": "ba3af271-4dd4-479a-c297-532c14903b63"
   },
   "outputs": [
    {
     "name": "stdout",
     "output_type": "stream",
     "text": [
      "\n",
      "Digite um número:55\n",
      "Digite um número:44\n",
      "\n",
      "[1] Somar\n",
      "[2] Multiplicar\n",
      "[3] Maior\n",
      "[4] Novos Números\n",
      "[5] Sair do programa\n",
      "    3\n",
      "\n",
      "\u001b[1;36m55.0 é maior do que 44.0.\u001b[0m\n",
      "\n",
      "Digite um número:44\n",
      "Digite um número:88\n",
      "\n",
      "[1] Somar\n",
      "[2] Multiplicar\n",
      "[3] Maior\n",
      "[4] Novos Números\n",
      "[5] Sair do programa\n",
      "    2\n",
      "\n",
      "\u001b[1;33mO resultado da multiplicação é 3872.0\u001b[0m\n",
      "\n",
      "Digite um número:55\n",
      "Digite um número:55\n",
      "\n",
      "[1] Somar\n",
      "[2] Multiplicar\n",
      "[3] Maior\n",
      "[4] Novos Números\n",
      "[5] Sair do programa\n",
      "    5\n",
      "\n",
      "\u001b[1;31mSaindo...\n"
     ]
    }
   ],
   "source": [
    "from google.colab import output\n",
    "\n",
    "while True:\n",
    "    n1 = float(input(\"\\nDigite um número:\"))\n",
    "    n2 = float(input(\"Digite um número:\"))\n",
    "    op = (input(\"\"\"\n",
    "[1] Somar\n",
    "[2] Multiplicar\n",
    "[3] Maior\n",
    "[4] Novos Números\n",
    "[5] Sair do programa\n",
    "    \"\"\"))\n",
    "    match op:\n",
    "        case \"1\":\n",
    "            print(f\"\\n\\033[1;32mO resultado da soma é {n1+n2}\\033[0m\")\n",
    "        case \"2\":\n",
    "            print(f\"\\n\\033[1;33mO resultado da multiplicação é {n1*n2}\\033[0m\")\n",
    "        case \"3\":\n",
    "            if n1 > n2:\n",
    "                print(f\"\\n\\033[1;36m{n1} é maior do que {n2}.\\033[0m\")\n",
    "            elif n2 > n1:\n",
    "                print(f\"\\n\\033[1;36m{n2} é maior do que {n1}.\\033[0m\")\n",
    "            else:\n",
    "                print(f\"\\n\\033[1;36mOs números são iguais.\\033[0m\")\n",
    "        case \"4\":\n",
    "            output.clear()\n",
    "            continue\n",
    "        case \"5\":\n",
    "            print(f\"\\n\\033[1;31mSaindo...\")\n",
    "            break\n",
    "        case _:\n",
    "            output.clear()\n",
    "            print(f\"\\n\\033[1;31mOpção inválida!\\033[0m\")"
   ]
  },
  {
   "cell_type": "markdown",
   "metadata": {
    "id": "9Y10lJKv31d_"
   },
   "source": [
    "## 04\n",
    "\n",
    "Faça um programa que leia um número qualquer e mostre o seu\n",
    "fatorial.\n",
    "\n",
    "Exemplo:\n",
    "\n",
    "5! = 5 x 4 x 3 x 2 x 1 = 120"
   ]
  },
  {
   "cell_type": "code",
   "execution_count": null,
   "metadata": {
    "colab": {
     "base_uri": "https://localhost:8080/"
    },
    "id": "Cx7aTB0wq8C2",
    "outputId": "41566aa8-c9f3-40d1-b4e8-6ac583022932"
   },
   "outputs": [
    {
     "name": "stdout",
     "output_type": "stream",
     "text": [
      "Digite um número inteiro+: 10\n",
      "\n",
      "\u001b[1;36m10!\u001b[0m = \u001b[30m10 X \u001b[30m9 X \u001b[30m8 X \u001b[30m7 X \u001b[30m6 X \u001b[30m5 X \u001b[30m4 X \u001b[30m3 X \u001b[30m2 X \u001b[30m1\u001b[0m \u001b[1m= 3,628,800\n"
     ]
    }
   ],
   "source": [
    "#v1\n",
    "numero = int(input(\"Digite um número inteiro+: \"))\n",
    "resultado = 1\n",
    "print(f\"\\n\\033[1;36m{numero}!\\033[0m = \", end=\"\")\n",
    "while numero != 0:\n",
    "    resultado *= numero\n",
    "    if numero > 1:\n",
    "        print(f\"\\033[30m{numero}\", end=\" X \")\n",
    "    else:\n",
    "        print(f\"\\033[30m{numero}\\033[0m\", end=\" \")\n",
    "    numero -= 1\n",
    "print(f\"\\033[1m= {resultado:,.0f}\")"
   ]
  },
  {
   "cell_type": "code",
   "execution_count": null,
   "metadata": {
    "colab": {
     "base_uri": "https://localhost:8080/"
    },
    "id": "MfhrwOtANVD8",
    "outputId": "30a4a776-3da1-46c9-bd25-6edebb4e4918"
   },
   "outputs": [
    {
     "name": "stdout",
     "output_type": "stream",
     "text": [
      "Digite um número inteiro+: 5\n",
      "\n",
      "\u001b[1;34m5! = 5 x 4 x 3 x 2 x 1 = 120\n"
     ]
    }
   ],
   "source": [
    "#v2 Concatenação feito pelo professor Leandro\n",
    "numero = int(input(\"Digite um número inteiro+: \"))\n",
    "fatorial = 1\n",
    "saida = str(numero) + \"! = \"\n",
    "while numero >= 1:\n",
    "    if numero == 1:\n",
    "        saida = saida + str(numero) + ' ='\n",
    "    else:\n",
    "        saida = saida + str(numero) + ' x '\n",
    "    fatorial *= numero\n",
    "    numero -= 1\n",
    "print(f\"\\n\\033[1;34m{saida} {fatorial:,.0f}\")\n"
   ]
  },
  {
   "cell_type": "markdown",
   "metadata": {
    "id": "CyfChbAfYtbz"
   },
   "source": [
    "## 05\n",
    "\n",
    "Lendo o primeiro termo e a razão de uma PA, mostre os 10 primeiros\n",
    "termos da progressão."
   ]
  },
  {
   "cell_type": "code",
   "execution_count": null,
   "metadata": {
    "id": "xC49-HcNYngZ"
   },
   "outputs": [],
   "source": [
    "termo = int(input(\"Digite o primeiro termo: \"))\n",
    "razao = int(input(\"Digite a razão: \"))\n",
    "cont  = 1\n",
    "print(termo, end=' ')\n",
    "while cont < 10:\n",
    "    termo+=razao\n",
    "    print(termo, end=' ')\n",
    "    cont+=1\n",
    "\n"
   ]
  },
  {
   "cell_type": "markdown",
   "metadata": {
    "id": "NNFMSYc2YvIh"
   },
   "source": [
    "## 06\n",
    "\n",
    "Melhore o DESAFIO 05, perguntando para o usuário se ele quer mostrar mais alguns termos. O programa encerra quando ele disser que quer mostrar 0 termos."
   ]
  },
  {
   "cell_type": "code",
   "execution_count": null,
   "metadata": {
    "id": "SD4Re_sqYy6B"
   },
   "outputs": [],
   "source": [
    "while True:\n",
    "    termo = int(input(\"Digite o primeiro termo: \"))\n",
    "    razao = int(input(\"Digite a razão: \"))\n",
    "    cont  = 1\n",
    "    print(termo, end=' ')\n",
    "    while cont < 10:\n",
    "        termo+=razao\n",
    "        print(termo, end=' ')\n",
    "        cont+=1\n",
    "\n",
    "    op = input(\"Deseja continuar? [0] Sair ou [1] Continuar \")\n",
    "    if op == '0':\n",
    "        print(\"Saindo...\")\n",
    "        break\n",
    "    elif op == '1':\n",
    "        print(\"Escolha outros números\")\n",
    "        continue\n",
    "    else:\n",
    "        print(\"Opção inválida, saindo do programa...\")\n",
    "        break"
   ]
  },
  {
   "cell_type": "markdown",
   "metadata": {
    "id": "K_yw4U3khdNm"
   },
   "source": [
    "## 07\n",
    "\n",
    "Crie um programa que leia vários números inteiros pelo teclado. O\n",
    "programa só vai parar quando o usuário digitar o valor 999, que é a condição de parada. No final, mostre quantos números foram\n",
    "digitados e qual foi a soma entre eles (desconsiderando o 999)."
   ]
  },
  {
   "cell_type": "code",
   "execution_count": null,
   "metadata": {
    "id": "vYxDhQfqhlDs"
   },
   "outputs": [],
   "source": [
    "soma = 0\n",
    "qtd = 0\n",
    "while True:\n",
    "    num = int(input(\"Digite um número inteiro ou 999 para finalizar: \"))\n",
    "    if num == 999:\n",
    "        break\n",
    "    qtd+=1\n",
    "    soma+=num\n",
    "print(f\"\\nVocê digitou \\033[0;31m{qtd}\\033[0m números e a soma entre eles é \\033[0;31m{soma}\\033[0m!\")"
   ]
  },
  {
   "cell_type": "markdown",
   "metadata": {
    "id": "KvjMc24WhoD1"
   },
   "source": [
    "## 08\n",
    "\n",
    "Crie um programa que leia vários números inteiros pelo teclado. No final da execução, mostre a média entre todos os valores e qual foi o maior e o menor valores lidos. O programa deve perguntar ao usuário se ele quer ou não continuar a digitar valores"
   ]
  },
  {
   "cell_type": "code",
   "execution_count": null,
   "metadata": {
    "id": "LtfLd83Ehx8N"
   },
   "outputs": [],
   "source": [
    "soma = 0\n",
    "qtd = 0\n",
    "maior = 0\n",
    "menor = float('inf')\n",
    "while True:\n",
    "    num = int(input(\"Digite um número inteiro: \"))\n",
    "    qtd+=1\n",
    "    soma+=num\n",
    "    if num > maior:\n",
    "        maior = num\n",
    "    if num < menor:\n",
    "        menor = num\n",
    "    op = input(f\"Deseja continuar? (S/N) \").upper()\n",
    "    if op == 'S':\n",
    "        continue\n",
    "    elif op == 'N':\n",
    "        print(\"\\nFinalizando...\")\n",
    "        break\n",
    "    else:\n",
    "        print(\"Opção inválida...\")\n",
    "        break\n",
    "print(f\"\\nMaior: \\033[0;31m{maior}\\033[0m\"\n",
    "      f\"\\nMenor: \\033[0;31m{menor}\\033[0m\"\n",
    "      f\"\\nMédia: \\033[0;31m{soma/qtd:,.1f}\\033[0m\")"
   ]
  },
  {
   "cell_type": "markdown",
   "metadata": {
    "id": "zUyzdYfJlvPq"
   },
   "source": [
    "## 09\n",
    "\n",
    "Escreva um programa que leia um número n inteiro qualquer e mostre na tela os n primeiros elementos de uma sequência de Fibonacci.\n",
    "Exemplo:\n",
    "\n",
    "0 –> 1 –> 1 –> 2 –> 3 –> 5 –> 8"
   ]
  },
  {
   "cell_type": "code",
   "execution_count": null,
   "metadata": {
    "colab": {
     "base_uri": "https://localhost:8080/"
    },
    "id": "YG3jgimelytd",
    "outputId": "5bb262f8-34c1-4143-bc79-eab4ad1924f1"
   },
   "outputs": [
    {
     "name": "stdout",
     "output_type": "stream",
     "text": [
      "Digite um número inteiro: 5\n",
      "\n",
      "\u001b[1m 0 -> 1 -> 1 -> 2 -> 3 -> 5"
     ]
    }
   ],
   "source": [
    "fibonacci = 1\n",
    "ant  = 0\n",
    "atual = 1\n",
    "\n",
    "num = int(input(\"Digite um número inteiro: \"))\n",
    "print(\"\\n\\033[1m\",ant, end=\" -> \")\n",
    "print(atual, end=\" -> \")\n",
    "\n",
    "while fibonacci != num:\n",
    "    novo = atual + ant\n",
    "    ant = atual\n",
    "    atual = novo\n",
    "    fibonacci += 1\n",
    "    if fibonacci != num:\n",
    "        print(novo, end=\" -> \")\n",
    "    else:\n",
    "        print(novo, end=\"\")\n"
   ]
  },
  {
   "cell_type": "code",
   "execution_count": null,
   "metadata": {
    "colab": {
     "base_uri": "https://localhost:8080/"
    },
    "id": "xJpK1Tpf0CC2",
    "outputId": "914a7746-a501-490e-e855-4e07001d24cf"
   },
   "outputs": [
    {
     "name": "stdout",
     "output_type": "stream",
     "text": [
      "Digite a quantidade de números Fibonacci deseja ver: 5\n",
      "\n",
      "\u001b[1;36m0  1  1  2  3\n"
     ]
    }
   ],
   "source": [
    "#V2  feito pelo professor Leandro\n",
    "\n",
    "anterior = 0\n",
    "atual = 1\n",
    "fibonacci = '0  1'\n",
    "n = int(input(\"Digite a quantidade de números Fibonacci deseja ver: \"))\n",
    "cont = 0\n",
    "while cont < n-2:\n",
    "    numero = anterior + atual\n",
    "    fibonacci = fibonacci + '  ' +f\"{numero:,.0f}\"\n",
    "    anterior = atual\n",
    "    atual = numero\n",
    "    cont+=1\n",
    "print(f\"\\n\\033[1;36m{fibonacci}\")"
   ]
  }
 ],
 "metadata": {
  "colab": {
   "provenance": [],
   "toc_visible": true
  },
  "kernelspec": {
   "display_name": "Python 3",
   "name": "python3"
  },
  "language_info": {
   "name": "python"
  }
 },
 "nbformat": 4,
 "nbformat_minor": 0
}
