{
 "cells": [
  {
   "cell_type": "markdown",
   "metadata": {
    "id": "0eHff7mRZgQh"
   },
   "source": [
    "# Manipulação de Strings"
   ]
  },
  {
   "cell_type": "markdown",
   "metadata": {
    "id": "Bckfme2cfQKT"
   },
   "source": [
    "## Fatiamento de Strings"
   ]
  },
  {
   "cell_type": "code",
   "execution_count": null,
   "metadata": {
    "colab": {
     "base_uri": "https://localhost:8080/"
    },
    "id": "RX-ASEycZqG4",
    "outputId": "4ff003bf-e514-4b2c-cf76-86908f3e144b"
   },
   "outputs": [
    {
     "name": "stdout",
     "output_type": "stream",
     "text": [
      "d\n"
     ]
    }
   ],
   "source": [
    "texto = \"Curso de Python\"\n",
    "\n",
    "setimaLetra = texto[6]\n",
    "print(setimaLetra)"
   ]
  },
  {
   "cell_type": "code",
   "execution_count": null,
   "metadata": {
    "colab": {
     "base_uri": "https://localhost:8080/"
    },
    "id": "P93Rc4Fpa0oR",
    "outputId": "2556d68b-8811-46bd-9e8c-129776800d98"
   },
   "outputs": [
    {
     "name": "stdout",
     "output_type": "stream",
     "text": [
      "Python\n"
     ]
    }
   ],
   "source": [
    "decimaAteDecimaQuinta = texto[9:15]\n",
    "print(decimaAteDecimaQuinta)"
   ]
  },
  {
   "cell_type": "code",
   "execution_count": null,
   "metadata": {
    "colab": {
     "base_uri": "https://localhost:8080/"
    },
    "id": "i3BNRGFaa1TA",
    "outputId": "8625a782-83f5-498f-a563-ffd6beb26894"
   },
   "outputs": [
    {
     "name": "stdout",
     "output_type": "stream",
     "text": [
      "Pto\n"
     ]
    }
   ],
   "source": [
    "decimaAteDecimaQuintaDoisEmDois = texto[9:15:2]\n",
    "print(decimaAteDecimaQuintaDoisEmDois)"
   ]
  },
  {
   "cell_type": "code",
   "execution_count": null,
   "metadata": {
    "colab": {
     "base_uri": "https://localhost:8080/"
    },
    "id": "h-Kul1libzpR",
    "outputId": "427c3f48-7cfc-4be7-8366-cb926e686850"
   },
   "outputs": [
    {
     "name": "stdout",
     "output_type": "stream",
     "text": [
      "Curso\n"
     ]
    }
   ],
   "source": [
    "ateQuinta = texto[:5]\n",
    "print(ateQuinta)"
   ]
  },
  {
   "cell_type": "code",
   "execution_count": null,
   "metadata": {
    "colab": {
     "base_uri": "https://localhost:8080/"
    },
    "id": "nTdW_Ok0cXUi",
    "outputId": "a84a90b7-4a2b-4bfb-f72d-a5595184ab3e"
   },
   "outputs": [
    {
     "name": "stdout",
     "output_type": "stream",
     "text": [
      "Python\n"
     ]
    }
   ],
   "source": [
    "aPartirDaDecima = texto[9:]\n",
    "print(aPartirDaDecima)"
   ]
  },
  {
   "cell_type": "code",
   "execution_count": null,
   "metadata": {
    "colab": {
     "base_uri": "https://localhost:8080/"
    },
    "id": "5Z0J71NodSrx",
    "outputId": "22bc09bf-094c-47ae-cbc0-07a3a3b78924"
   },
   "outputs": [
    {
     "name": "stdout",
     "output_type": "stream",
     "text": [
      "nohtyP\n"
     ]
    }
   ],
   "source": [
    "inverterTexto = texto[:8:-1]\n",
    "print(inverterTexto)"
   ]
  },
  {
   "cell_type": "code",
   "execution_count": null,
   "metadata": {
    "colab": {
     "base_uri": "https://localhost:8080/"
    },
    "id": "I2939q6XeKNz",
    "outputId": "6788a04c-7fa6-4819-b1b8-6225a4497d4e"
   },
   "outputs": [
    {
     "name": "stdout",
     "output_type": "stream",
     "text": [
      "sanoJ\n"
     ]
    }
   ],
   "source": [
    "nome = \"Jonas\"\n",
    "inverterNome = nome[::-1]\n",
    "print(inverterNome)"
   ]
  },
  {
   "cell_type": "markdown",
   "metadata": {
    "id": "FXwtUz3DfUwz"
   },
   "source": [
    "## Analise de Strings"
   ]
  },
  {
   "cell_type": "code",
   "execution_count": 1,
   "metadata": {
    "colab": {
     "base_uri": "https://localhost:8080/"
    },
    "id": "gW3ZDmiVeyTT",
    "outputId": "7fa75fd4-d664-4c31-fcc6-93cf29e825ef"
   },
   "outputs": [
    {
     "name": "stdout",
     "output_type": "stream",
     "text": [
      "16\n"
     ]
    }
   ],
   "source": [
    "frase = \"Linguagem Python\"\n",
    "\n",
    "# Tamanho\n",
    "tamanho = len(frase)\n",
    "print(tamanho)"
   ]
  },
  {
   "cell_type": "code",
   "execution_count": 3,
   "metadata": {
    "colab": {
     "base_uri": "https://localhost:8080/"
    },
    "id": "nnVOwLIrf23T",
    "outputId": "b16f0dc9-0053-4a35-ae34-4bc7be291485"
   },
   "outputs": [
    {
     "name": "stdout",
     "output_type": "stream",
     "text": [
      "1\n"
     ]
    }
   ],
   "source": [
    "# Contar caracteres\n",
    "contar = frase.count(\"y\")\n",
    "print(contar)"
   ]
  },
  {
   "cell_type": "code",
   "execution_count": 4,
   "metadata": {
    "colab": {
     "base_uri": "https://localhost:8080/"
    },
    "id": "crxlCVS1ggWT",
    "outputId": "aeca2533-ae1a-4ea4-e0d9-366ed48ba0de"
   },
   "outputs": [
    {
     "name": "stdout",
     "output_type": "stream",
     "text": [
      "10\n"
     ]
    }
   ],
   "source": [
    "# Encontrar índice (retorna -1 se não enconcontrar)\n",
    "encontrar = frase.find(\"Python\")\n",
    "print(encontrar) # retorna o indice que começa a palavra pesquisada"
   ]
  },
  {
   "cell_type": "code",
   "execution_count": 5,
   "metadata": {
    "colab": {
     "base_uri": "https://localhost:8080/"
    },
    "id": "jN6nVBsmhKsk",
    "outputId": "94c67cad-fcdf-4299-cd16-c99af52f0884"
   },
   "outputs": [
    {
     "name": "stdout",
     "output_type": "stream",
     "text": [
      "3\n"
     ]
    }
   ],
   "source": [
    "# Encontrar índice (pode gerar erro)\n",
    "encontrar2 = frase.index(\"g\")\n",
    "print(encontrar2)"
   ]
  },
  {
   "cell_type": "code",
   "execution_count": 6,
   "metadata": {
    "colab": {
     "base_uri": "https://localhost:8080/"
    },
    "id": "evxfbWdrhhwU",
    "outputId": "556cead7-0c4d-4dd4-c37c-2e3816459243"
   },
   "outputs": [
    {
     "name": "stdout",
     "output_type": "stream",
     "text": [
      "14\n"
     ]
    }
   ],
   "source": [
    "# Encontrar índice a partir da direita\n",
    "encontrarUltima = frase.rfind(\"o\")\n",
    "print(encontrarUltima)"
   ]
  },
  {
   "cell_type": "code",
   "execution_count": 7,
   "metadata": {
    "colab": {
     "base_uri": "https://localhost:8080/"
    },
    "id": "iIdlm-6niSFT",
    "outputId": "9b73207e-8a52-4ddf-b041-fb4ae9571961"
   },
   "outputs": [
    {
     "name": "stdout",
     "output_type": "stream",
     "text": [
      "True\n"
     ]
    }
   ],
   "source": [
    "# Verificar exixtência\n",
    "verificar = \"Lin\" in frase\n",
    "print(verificar)"
   ]
  },
  {
   "cell_type": "markdown",
   "metadata": {
    "id": "DMNyFPg3jNXv"
   },
   "source": [
    "## Transformação de String"
   ]
  },
  {
   "cell_type": "code",
   "execution_count": 8,
   "metadata": {
    "colab": {
     "base_uri": "https://localhost:8080/"
    },
    "id": "FRXFmuMVi2ql",
    "outputId": "f46ea351-7a38-4cd8-c6e4-d73d8f72e014"
   },
   "outputs": [
    {
     "name": "stdout",
     "output_type": "stream",
     "text": [
      "LINGUAGEM PYTHON\n",
      "linguagem python\n",
      "Linguagem python\n",
      "Linguagem Python\n"
     ]
    }
   ],
   "source": [
    "# Maiusculo\n",
    "maiusculo = frase.upper()\n",
    "print(maiusculo)\n",
    "\n",
    "# Minusculo\n",
    "minusculo = frase.lower()\n",
    "print(minusculo)\n",
    "\n",
    "# Capitalizar\n",
    "capitalizar = frase.capitalize()\n",
    "print(capitalizar)\n",
    "\n",
    "# Título\n",
    "titulo = frase.title()\n",
    "print(titulo)"
   ]
  },
  {
   "cell_type": "code",
   "execution_count": 9,
   "metadata": {
    "colab": {
     "base_uri": "https://localhost:8080/"
    },
    "id": "yQ8I4w8Iknvm",
    "outputId": "bd0cfef8-0b9f-4c04-b8c3-0838ceed49aa"
   },
   "outputs": [
    {
     "name": "stdout",
     "output_type": "stream",
     "text": [
      "Linguagem Java\n"
     ]
    }
   ],
   "source": [
    "# Substituir\n",
    "\n",
    "substituir = frase.replace(\"Python\",\"Java\")\n",
    "print(substituir)"
   ]
  },
  {
   "cell_type": "code",
   "execution_count": 10,
   "metadata": {
    "colab": {
     "base_uri": "https://localhost:8080/"
    },
    "id": "adPahg6NlAnF",
    "outputId": "6dc981ad-19e6-44bf-d2ac-8fac45e428be"
   },
   "outputs": [
    {
     "name": "stdout",
     "output_type": "stream",
     "text": [
      "Escola\n"
     ]
    }
   ],
   "source": [
    "# Limpar espaços inúteirs\n",
    "teste = \"    Escola    \"\n",
    "limpar = teste.strip() # existe rstrip e lstrip\n",
    "print(limpar)"
   ]
  },
  {
   "cell_type": "markdown",
   "metadata": {
    "id": "N8eEx6JsmrUf"
   },
   "source": [
    "## Divisão de Strings"
   ]
  },
  {
   "cell_type": "code",
   "execution_count": 11,
   "metadata": {
    "colab": {
     "base_uri": "https://localhost:8080/"
    },
    "id": "tvS4_M87leP2",
    "outputId": "ab097476-a1c9-4b64-f82c-8b0599a7fe01"
   },
   "outputs": [
    {
     "name": "stdout",
     "output_type": "stream",
     "text": [
      "L-i-n-g-u-a-g-e-m- -P-y-t-h-o-n\n"
     ]
    }
   ],
   "source": [
    "# Adicionar caracteres\n",
    "juntar = \"-\".join(frase)\n",
    "print(juntar)"
   ]
  },
  {
   "cell_type": "code",
   "execution_count": 13,
   "metadata": {
    "colab": {
     "base_uri": "https://localhost:8080/"
    },
    "id": "4N1N98KHnB6X",
    "outputId": "2f1355a2-b8de-4312-fd6f-544fb8c1a2f2"
   },
   "outputs": [
    {
     "name": "stdout",
     "output_type": "stream",
     "text": [
      "['Linguagem', 'Python']\n",
      "Python\n"
     ]
    }
   ],
   "source": [
    "# Dividir palavras em lista\n",
    "dividir = frase.split() #por padrão divide pelos espaços\n",
    "print(dividir)\n",
    "print(dividir[1])"
   ]
  },
  {
   "cell_type": "markdown",
   "metadata": {
    "id": "gY7h_1bGXN5K"
   },
   "source": [
    "## Concatenação de Strings"
   ]
  },
  {
   "cell_type": "code",
   "execution_count": 15,
   "metadata": {
    "colab": {
     "base_uri": "https://localhost:8080/"
    },
    "id": "zPfGqQ5FXRcq",
    "outputId": "20afa7c9-b31a-47a8-c7ab-ebf9fc4278ff"
   },
   "outputs": [
    {
     "name": "stdout",
     "output_type": "stream",
     "text": [
      "U S P\n"
     ]
    }
   ],
   "source": [
    "t1 = \"U\"\n",
    "t2 = \"S\"\n",
    "t3 = \"P\"\n",
    "\n",
    "texto = t1 + \" \" + t2 + \" \" + t3\n",
    "print(texto)"
   ]
  },
  {
   "cell_type": "markdown",
   "metadata": {
    "id": "iGlkRdIDoEYX"
   },
   "source": [
    "# Desafios"
   ]
  },
  {
   "cell_type": "markdown",
   "metadata": {
    "id": "_Kp1_fQ0oYVf"
   },
   "source": [
    "## 01\n",
    "\n",
    "\n",
    "Crie um programa que leia o nome completo de uma pessoa e mostre:\n",
    "\n",
    " \t-O nome com todas as letras maiúsculas\n",
    "\n",
    " \t-O nome com todas as letras minúsculas\n",
    "\n",
    " \t-Quantas letras ao todo (sem considerar espaços)\n",
    "\n",
    " \t-Quantas letras tem o primeiro nome\n",
    "    "
   ]
  },
  {
   "cell_type": "code",
   "execution_count": 17,
   "metadata": {
    "colab": {
     "base_uri": "https://localhost:8080/"
    },
    "id": "gFBedrYLnkdG",
    "outputId": "28efe16b-7c8b-411a-9c80-dba904b698f2"
   },
   "outputs": [
    {
     "name": "stdout",
     "output_type": "stream",
     "text": [
      "\n",
      "Seu nome com todas a letras maiúsculas:  JONAS RIBEIRO\n",
      "\n",
      "Seu nome com todas a letras minúsculas:  jonas ribeiro\n",
      "\n",
      "O número de letras do seu nome completo:  12\n",
      "\n",
      "O número de letras do seu primeiro nome:  5\n"
     ]
    }
   ],
   "source": [
    "nome = input(\"Digite seu nome completo: \\n\")\n",
    "print(\"\\nSeu nome com todas a letras maiúsculas: \",nome.upper())\n",
    "print(\"\\nSeu nome com todas a letras minúsculas: \",nome.lower())\n",
    "print(\"\\nO número de letras do seu nome completo: \",len(nome)-nome.count(\" \"))\n",
    "print(\"\\nO número de letras do seu primeiro nome: \",nome.find(\" \"))\n"
   ]
  },
  {
   "cell_type": "markdown",
   "metadata": {
    "id": "-_Dze24eB4XY"
   },
   "source": [
    "## 02\n",
    "\n",
    "Faça um programa que leia um numero de quatro dígitos entre 1000 a 9999 e mostre na tela cada um dos dígitos separados.\n",
    "Ex: Digite um numero: 1979\n",
    "\n",
    "Unidade: 9\n",
    "Dezena: 7\n",
    "Centena: 9\n",
    "Milhar: 1\n"
   ]
  },
  {
   "cell_type": "code",
   "execution_count": null,
   "metadata": {
    "colab": {
     "base_uri": "https://localhost:8080/"
    },
    "id": "MejEgzVioxH4",
    "outputId": "1876b199-48c4-4b29-b173-9eae24ff45c7"
   },
   "outputs": [
    {
     "name": "stdout",
     "output_type": "stream",
     "text": [
      "Digite um número com quatro digitos: 1234\n",
      "\u001b[1m\n",
      "Unidade:  4\n",
      "Dezena:  3\n",
      "Centena:  2\n",
      "Milhar:  1\n"
     ]
    }
   ],
   "source": [
    "numero = input(\"Digite um número com quatro digitos: \")\n",
    "\n",
    "print(\"\\033[1m\\nUnidade: \",numero[3])\n",
    "print(\"Dezena: \",numero[2])\n",
    "print(\"Centena: \",numero[1])\n",
    "print(\"Milhar: \",numero[0])"
   ]
  },
  {
   "cell_type": "markdown",
   "metadata": {
    "id": "ZHRLitpzCY5A"
   },
   "source": [
    "## 03\n",
    "\n",
    "Faça um programa que leia uma frase pelo teclado e mostre:\n",
    "\n",
    "Quantas vezes aparece a letra \"A\"\n",
    "Em que posição ela aparece a primeira vez\n",
    "Em que posição ela aparece a ultima vez"
   ]
  },
  {
   "cell_type": "code",
   "execution_count": null,
   "metadata": {
    "colab": {
     "base_uri": "https://localhost:8080/"
    },
    "id": "ZiDJrsdFHqLN",
    "outputId": "09bd75b2-3d09-4664-d41b-82e5ee54cf9b"
   },
   "outputs": [
    {
     "name": "stdout",
     "output_type": "stream",
     "text": [
      "Digite uma frase: AAAaaa\n",
      "\n",
      "A letra 'A' aparece 6 vezes.\n",
      "A letra 'A' aparece na posição 1 pela primeira vez e na posição 6 pela última vez.\n"
     ]
    }
   ],
   "source": [
    "frase = input(\"Digite uma frase: \").lower()\n",
    "\n",
    "a = frase.count(\"a\")\n",
    "p = frase.find(\"a\")\n",
    "u = frase.rfind(\"a\")\n",
    "print(f\"\\nA letra 'A' aparece {a} vezes.\")\n",
    "print(f\"A letra 'A' aparece na posição {p+1} pela primeira vez e na posição {u+1} pela última vez.\")\n"
   ]
  },
  {
   "cell_type": "markdown",
   "metadata": {
    "id": "DJeislEJL5nF"
   },
   "source": [
    "## 04\n",
    "\n",
    "Faça um programa que leia o nome completo de uma pessoa, mostrando em seguida o primeiro e o ultimo nome separadamente.\n",
    "\n",
    "Exemplo: Leandro Gomes Andrade\n",
    "\n",
    "Primeiro: Leandro\n",
    "\n",
    "Ultimo: Andrade"
   ]
  },
  {
   "cell_type": "code",
   "execution_count": 18,
   "metadata": {
    "colab": {
     "base_uri": "https://localhost:8080/"
    },
    "id": "RMOJa1GtIKau",
    "outputId": "d3784a3c-c366-4be6-eb32-c9d71a93a282"
   },
   "outputs": [
    {
     "name": "stdout",
     "output_type": "stream",
     "text": [
      "\n",
      "Primeiro nome:  Jonas\n",
      "Último nome:  Ribeiro\n"
     ]
    }
   ],
   "source": [
    "nome = input(\"Digite seu nome completo: \\n\").split()\n",
    "\n",
    "print(\"\\nPrimeiro nome: \",nome[0])\n",
    "print(\"Último nome: \",nome[-1])\n"
   ]
  },
  {
   "cell_type": "markdown",
   "metadata": {
    "id": "xKtHcTBzWTjK"
   },
   "source": [
    "## 05 Bônus\n",
    "\n",
    "Refazer o Desafio 03 escolhendo a letra para contar e desconsiderar espaços.\n",
    "\n",
    "\n"
   ]
  },
  {
   "cell_type": "code",
   "execution_count": null,
   "metadata": {
    "colab": {
     "base_uri": "https://localhost:8080/"
    },
    "id": "-bKfGXsWVMxa",
    "outputId": "8005df08-b02e-4735-a96a-25e0502214f3"
   },
   "outputs": [
    {
     "name": "stdout",
     "output_type": "stream",
     "text": [
      "Digite uma frase: A bala na sala\n",
      "Digite uma letra: A\n",
      "\n",
      "Letras a encontradas: 6\n",
      "1ª letra a: 1ª posição\n",
      "Última letra a: 11ª posição\n"
     ]
    }
   ],
   "source": [
    "frase = input(\"Digite uma frase: \").lower()\n",
    "frase = frase.replace(' ', '')\n",
    "letra = input(\"Digite uma letra: \").lower()\n",
    "print(f\"\\nLetras {letra} encontradas: {frase.count(letra)}\")\n",
    "print(f\"1ª letra {letra}: {frase.find(letra)+1}ª posição\")\n",
    "print(f\"Última letra {letra}: {frase.rfind(letra)+1}ª posição\")"
   ]
  },
  {
   "cell_type": "code",
   "execution_count": null,
   "metadata": {
    "id": "NN_f9kL5WcCC"
   },
   "outputs": [],
   "source": []
  }
 ],
 "metadata": {
  "colab": {
   "provenance": [],
   "toc_visible": true
  },
  "kernelspec": {
   "display_name": "Python 3",
   "name": "python3"
  },
  "language_info": {
   "codemirror_mode": {
    "name": "ipython",
    "version": 3
   },
   "file_extension": ".py",
   "mimetype": "text/x-python",
   "name": "python",
   "nbconvert_exporter": "python",
   "pygments_lexer": "ipython3",
   "version": "3.12.1"
  }
 },
 "nbformat": 4,
 "nbformat_minor": 0
}
