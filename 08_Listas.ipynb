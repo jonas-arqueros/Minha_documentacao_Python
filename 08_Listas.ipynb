{
 "cells": [
  {
   "cell_type": "markdown",
   "metadata": {
    "id": "vFoXKwkm6LJ3"
   },
   "source": [
    "# Listas"
   ]
  },
  {
   "cell_type": "markdown",
   "metadata": {
    "id": "fo8ZS-a87XST"
   },
   "source": [
    "## Criar listas"
   ]
  },
  {
   "cell_type": "code",
   "execution_count": null,
   "metadata": {
    "id": "BibWB9sv6HMt"
   },
   "outputs": [],
   "source": [
    "# criando uma lista vazia\n",
    "lista1 = []\n",
    "# ou\n",
    "lista2 = list()"
   ]
  },
  {
   "cell_type": "code",
   "execution_count": null,
   "metadata": {
    "colab": {
     "base_uri": "https://localhost:8080/"
    },
    "id": "G4-Z8C3f6XCF",
    "outputId": "da90121e-2879-4d76-a4ae-ab182e52de95"
   },
   "outputs": [
    {
     "name": "stdout",
     "output_type": "stream",
     "text": [
      "P\n",
      "y\n",
      "t\n",
      "h\n",
      "o\n",
      "n\n"
     ]
    }
   ],
   "source": [
    "texto = \"Python\"\n",
    "for x in texto:\n",
    "    print(x)"
   ]
  },
  {
   "cell_type": "code",
   "execution_count": null,
   "metadata": {
    "colab": {
     "base_uri": "https://localhost:8080/"
    },
    "id": "mUyYmsE96ZBM",
    "outputId": "f28d5d64-abcd-4b2e-ec7a-b12e837aa471"
   },
   "outputs": [
    {
     "name": "stdout",
     "output_type": "stream",
     "text": [
      "['BB', 'Caixa', 'Santander', 'Itaú', 'Bradesco']\n",
      "Caixa\n"
     ]
    }
   ],
   "source": [
    "bancos = [\"BB\", \"Caixa\", \"Santander\", \"Itaú\", \"Bradesco\"]\n",
    "print(bancos)\n",
    "print(bancos[1]) #escolhendo por index"
   ]
  },
  {
   "cell_type": "code",
   "execution_count": null,
   "metadata": {
    "colab": {
     "base_uri": "https://localhost:8080/"
    },
    "id": "PltMhzur7CDN",
    "outputId": "c4c78dd7-5552-4705-f4f8-7c20cde79004"
   },
   "outputs": [
    {
     "name": "stdout",
     "output_type": "stream",
     "text": [
      "['BB', 'ABC', 'Santander', 'Itaú', 'Bradesco']\n"
     ]
    }
   ],
   "source": [
    "bancos[1] = \"ABC\"\n",
    "print(bancos)"
   ]
  },
  {
   "cell_type": "markdown",
   "metadata": {
    "id": "l1Q2jVQL8CPj"
   },
   "source": [
    "## Substituir último valor da lista"
   ]
  },
  {
   "cell_type": "code",
   "execution_count": null,
   "metadata": {
    "colab": {
     "base_uri": "https://localhost:8080/"
    },
    "id": "8fXrLPMM7oQM",
    "outputId": "02147125-93fc-4413-8e10-0275a6f80ee5"
   },
   "outputs": [
    {
     "name": "stdout",
     "output_type": "stream",
     "text": [
      "['BB', 'ABC', 'Santander', 'Itaú', 'C6']\n"
     ]
    }
   ],
   "source": [
    "bancos[-1] = \"C6\"\n",
    "print(bancos)"
   ]
  },
  {
   "cell_type": "markdown",
   "metadata": {
    "id": "3ug91C1D8ZM7"
   },
   "source": [
    "## Agregar valores a lista"
   ]
  },
  {
   "cell_type": "code",
   "execution_count": null,
   "metadata": {
    "colab": {
     "base_uri": "https://localhost:8080/"
    },
    "id": "SV9hEpuz8Mts",
    "outputId": "012c4b23-0961-4cfa-deb3-c5a5fa6d25b0"
   },
   "outputs": [
    {
     "name": "stdout",
     "output_type": "stream",
     "text": [
      "['BB', 'ABC', 'Santander', 'Itaú', 'C6', 'Bradesco', 'Nubank']\n"
     ]
    }
   ],
   "source": [
    "bancos = bancos + [\"Bradesco\", \"Nubank\"]\n",
    "print(bancos)"
   ]
  },
  {
   "cell_type": "code",
   "execution_count": null,
   "metadata": {
    "colab": {
     "base_uri": "https://localhost:8080/"
    },
    "id": "hrvb0mpJ8lr7",
    "outputId": "77272daf-a66b-4926-e094-5b6a4dcf913b"
   },
   "outputs": [
    {
     "name": "stdout",
     "output_type": "stream",
     "text": [
      "['BB', 'ABC', 'Santander', 'Itaú', 'C6', 'Bradesco', 'Nubank', 'Safra']\n"
     ]
    }
   ],
   "source": [
    "bancos += [\"Safra\"] # += (operador de atribuição)\n",
    "print(bancos)"
   ]
  },
  {
   "cell_type": "markdown",
   "metadata": {
    "id": "rVr2OmQZ9T3s"
   },
   "source": [
    "## Métodos para Listas"
   ]
  },
  {
   "cell_type": "code",
   "execution_count": null,
   "metadata": {
    "colab": {
     "base_uri": "https://localhost:8080/"
    },
    "id": "qiUOOmwq9Qij",
    "outputId": "6e59733b-6887-4364-b060-033e02a7e270"
   },
   "outputs": [
    {
     "name": "stdout",
     "output_type": "stream",
     "text": [
      "[4, 5, 6, 7, 8]\n",
      "[4, 5, 6, 7, 8, 2]\n",
      "[4, 5, -3, 6, 7, 8, 2]\n",
      "[4, 5, -3, 6, 7, 8]\n",
      "[-3, 4, 5, 6, 7, 8]\n",
      "[8, 7, 6, 5, 4, -3]\n",
      "6\n",
      "1\n",
      "3\n",
      "-3\n",
      "[8, 7, 6, 5, 4]\n",
      "[8, 7, 5, 4]\n",
      "[]\n"
     ]
    }
   ],
   "source": [
    "lista = [4,5,6,7,8]\n",
    "print(lista)\n",
    "\n",
    "# Adicionar objetos no final da lista\n",
    "lista.append(2)\n",
    "print(lista)\n",
    "\n",
    "# Adicionar objetos com index\n",
    "lista.insert(2,-3) # (posição, objeto)\n",
    "print(lista)\n",
    "\n",
    "# Remover objetos específicados\n",
    "lista.remove(2) # (objeto)\n",
    "print(lista)\n",
    "\n",
    "# Lista em ordem crescente\n",
    "lista.sort()\n",
    "print(lista)\n",
    "\n",
    "# Lista em ordem reversa\n",
    "lista.reverse()\n",
    "print(lista)\n",
    "\n",
    "# Obter tamanho da lista\n",
    "print(len(lista))\n",
    "\n",
    "# Contar valores específicos\n",
    "print(lista.count(5))\n",
    "\n",
    "# Obter o index de um objeto\n",
    "print(lista.index(5))\n",
    "\n",
    "# Remover último item da lista\n",
    "print(lista.pop())\n",
    "print(lista)\n",
    "\n",
    "# Deletar um objeto pelo index\n",
    "del lista[2]\n",
    "print(lista)\n",
    "\n",
    "# Limpar toda a lista\n",
    "lista.clear()\n",
    "print(lista)"
   ]
  },
  {
   "cell_type": "markdown",
   "metadata": {
    "id": "rZeBLZ8-CH9S"
   },
   "source": [
    "## Listas contidas em Listas"
   ]
  },
  {
   "cell_type": "code",
   "execution_count": null,
   "metadata": {
    "colab": {
     "base_uri": "https://localhost:8080/"
    },
    "id": "hR5IYMmZ9nEs",
    "outputId": "2745f499-6746-4ef8-d39a-624f64d44610"
   },
   "outputs": [
    {
     "name": "stdout",
     "output_type": "stream",
     "text": [
      "[10.2, 3.35, 16.3, ['tomate', 'cebola', 'pimentão']]\n",
      "['tomate', 'cebola', 'pimentão']\n",
      "cebola\n",
      "A cebola custa R$ 3.35\n",
      "O pimentão custa R$ 16.30\n",
      "Total da compra R$ 29.85\n"
     ]
    }
   ],
   "source": [
    "compra = [10.2, 3.35, 16.3, [\"tomate\", \"cebola\", \"pimentão\"]]\n",
    "print(compra)\n",
    "print(compra[3])\n",
    "print(compra[3][1])\n",
    "print(f\"A {compra[3][1]} custa R$ {compra[1]:,.2f}\")\n",
    "print(f\"O {compra[3][2]} custa R$ {compra[2]:,.2f}\")\n",
    "print(f\"Total da compra R$ {sum(compra[0:3]):.2f}\")"
   ]
  },
  {
   "cell_type": "markdown",
   "metadata": {
    "id": "0Wqodp3BFqfg"
   },
   "source": [
    "## Percorrer uma lista e verificar"
   ]
  },
  {
   "cell_type": "code",
   "execution_count": null,
   "metadata": {
    "colab": {
     "base_uri": "https://localhost:8080/"
    },
    "id": "pz7F7VgUCc1b",
    "outputId": "07a0d3d6-0177-4a8b-f1d4-2c0254968e13"
   },
   "outputs": [
    {
     "name": "stdout",
     "output_type": "stream",
     "text": [
      "Informe uma letra: d\n",
      "Letra d esta na lista.\n"
     ]
    }
   ],
   "source": [
    "# in\n",
    "letras = [\"a\",\"b\",\"c\",\"d\",\"e\",\"f\"]\n",
    "\n",
    "var = input(\"Informe uma letra: \").lower()\n",
    "if var in letras:\n",
    "    print(f\"Letra {var} esta na lista.\")\n",
    "else:\n",
    "    print(f\"Letra {var} não esta na lista.\")"
   ]
  },
  {
   "cell_type": "code",
   "execution_count": null,
   "metadata": {
    "colab": {
     "base_uri": "https://localhost:8080/"
    },
    "id": "7HQwY6VwF7GE",
    "outputId": "8cd6c3ce-bb0e-48b5-ebe3-dc6929db3c56"
   },
   "outputs": [
    {
     "name": "stdout",
     "output_type": "stream",
     "text": [
      "Informe uma letra: e\n",
      "Letra e esta na lista.\n"
     ]
    }
   ],
   "source": [
    "# not in\n",
    "letras = [\"a\",\"b\",\"c\",\"d\",\"e\",\"f\"]\n",
    "\n",
    "var = input(\"Informe uma letra: \").lower()\n",
    "if var not in letras:\n",
    "    print(f\"Letra {var} não esta na lista.\")\n",
    "else:\n",
    "    print(f\"Letra {var} esta na lista.\")"
   ]
  },
  {
   "cell_type": "markdown",
   "metadata": {
    "id": "FHlvAVUFH0Xw"
   },
   "source": [
    "# Desafio"
   ]
  },
  {
   "cell_type": "markdown",
   "metadata": {
    "id": "EuBHolKrH3Fo"
   },
   "source": [
    "## 01\n",
    "Faça um programa que leia 5 valores numéricos e\n",
    "guarde-os em uma lista. No final, mostre qual foi\n",
    "o maior e o menor valor digitado e as suas respectivas posições na lista."
   ]
  },
  {
   "cell_type": "code",
   "execution_count": null,
   "metadata": {
    "colab": {
     "base_uri": "https://localhost:8080/"
    },
    "id": "r5x6Wb-OHEun",
    "outputId": "7a7f68c2-7983-4d66-c3c0-7661e34ad50c"
   },
   "outputs": [
    {
     "name": "stdout",
     "output_type": "stream",
     "text": [
      "Digite o 1º número: 5\n",
      "Digite o 2º número: 8\n",
      "Digite o 3º número: 4\n",
      "Digite o 4º número: 11\n",
      "Digite o 5º número: 0\n",
      "\n",
      "\u001b[1mO maior valor é 11, na posição 4\n",
      "O menor valor é 0, na posição 5\n"
     ]
    }
   ],
   "source": [
    "lista = []\n",
    "for i in range(5):\n",
    "    num = int(input(f\"Digite o {i+1}º número: \"))\n",
    "    lista.append(num)\n",
    "\n",
    "print(f\"\\n\\033[1mO maior valor é {max(lista)}, na posição {lista.index(max(lista))+1}.\")\n",
    "print(f\"O menor valor é {min(lista)}, na posição {lista.index(min(lista))+1}.\")\n"
   ]
  },
  {
   "cell_type": "markdown",
   "metadata": {
    "id": "rx549q3gH6r4"
   },
   "source": [
    "##02\n",
    "\n",
    "Crie um programa onde o usuário possa digitar vários valores\n",
    "numéricos e cadastre-os em uma lista. Caso o número já exista\n",
    "lá dentro, ele não será adicionado. No final serão exibidos\n",
    "todos os valores únicos digitados, em ordem crescente."
   ]
  },
  {
   "cell_type": "code",
   "execution_count": null,
   "metadata": {
    "colab": {
     "base_uri": "https://localhost:8080/"
    },
    "id": "H6VcVmi6H8KA",
    "outputId": "44518fb4-04f7-4965-adbf-00f84c2fdad0"
   },
   "outputs": [
    {
     "name": "stdout",
     "output_type": "stream",
     "text": [
      "Quantos valores serão digitados? 10\n",
      "\n",
      "Digite o 1º número: 11\n",
      "Digite o 2º número: 25\n",
      "Digite o 3º número: 10\n",
      "Digite o 4º número: 2\n",
      "Digite o 5º número: 55\n",
      "Digite o 6º número: 8\n",
      "Digite o 7º número: 1\n",
      "Digite o 8º número: 00\n",
      "Digite o 9º número: 28\n",
      "Digite o 10º número: 3\n",
      "\n",
      "[0, 1, 2, 3, 8, 10, 11, 25, 28, 55]\n"
     ]
    }
   ],
   "source": [
    "lista = []\n",
    "limite = int(input(f\"Quantos valores serão digitados? \"))\n",
    "print()\n",
    "\n",
    "for i in range(limite):\n",
    "    num = int(input(f\"Digite o {i+1}º número: \"))\n",
    "    if num not in lista:\n",
    "        lista.append(num)\n",
    "\n",
    "lista.sort()\n",
    "print()\n",
    "print(lista)\n"
   ]
  },
  {
   "cell_type": "markdown",
   "metadata": {
    "id": "lNyyO9bxXUHb"
   },
   "source": [
    "## 03\n",
    "Crie um programa que vai ler vários números e colocar em uma lista.\n",
    "Depois disso, mostre:\n",
    "\n",
    "A) Quantos números foram digitados.\n",
    "\n",
    "B) A lista de valores, ordenada de forma decrescente.\n",
    "\n",
    "C) Se o valor 5 foi digitado e esta ou não na lista."
   ]
  },
  {
   "cell_type": "code",
   "execution_count": null,
   "metadata": {
    "colab": {
     "base_uri": "https://localhost:8080/"
    },
    "id": "K-WO93wPLSWn",
    "outputId": "c0e73886-d2c2-4ff5-8cf6-a5e6a8937aa8"
   },
   "outputs": [
    {
     "name": "stdout",
     "output_type": "stream",
     "text": [
      "Quantos valores serão digitados? 10\n",
      "\n",
      "Digite o 1º número: 2\n",
      "Digite o 2º número: 1\n",
      "Digite o 3º número: 55\n",
      "Digite o 4º número: 18\n",
      "Digite o 5º número: 87\n",
      "Digite o 6º número: 3\n",
      "Digite o 7º número: 0\n",
      "Digite o 8º número: 11\n",
      "Digite o 9º número: 8\n",
      "Digite o 10º número: 5\n",
      "\n",
      "\u001b[1mForam digitados 10 valores.\n",
      "[0, 1, 2, 3, 5, 8, 11, 18, 55, 87]\n",
      "O número 5 esta na lista.\n"
     ]
    }
   ],
   "source": [
    "lista = []\n",
    "limite = int(input(f\"Quantos valores serão digitados? \"))\n",
    "print()\n",
    "\n",
    "for i in range(limite):\n",
    "    num = int(input(f\"Digite o {i+1}º número: \"))\n",
    "    lista.append(num)\n",
    "\n",
    "print(f\"\\n\\033[1mForam digitados {len(lista)} valores.\")\n",
    "lista.sort()\n",
    "print(lista)\n",
    "if 5 in lista:\n",
    "    print(\"O número 5 esta na lista.\")\n",
    "else:\n",
    "    print(\"O número 5 não esta na lista.\")\n"
   ]
  },
  {
   "cell_type": "markdown",
   "metadata": {
    "id": "7KLKj1kHXXmr"
   },
   "source": [
    "## 04\n",
    "Crie um programa que vai ler vários números e colocar em uma lista.\n",
    "Depois disso, crie duas listas extras que vão conter apenas os\n",
    "valores pares e os valores impares digitados, respectivamente.\n",
    "Ao final, mostre o conteúdo das três listas geradas."
   ]
  },
  {
   "cell_type": "code",
   "execution_count": null,
   "metadata": {
    "colab": {
     "base_uri": "https://localhost:8080/"
    },
    "id": "j5mJ--ZCXaLU",
    "outputId": "12e7d0f8-0f9a-42fd-b5af-1f5735eabe2f"
   },
   "outputs": [
    {
     "name": "stdout",
     "output_type": "stream",
     "text": [
      "Quantos valores serão digitados? 7\n",
      "\n",
      "Digite o 1º número: 11\n",
      "Digite o 2º número: 5\n",
      "Digite o 3º número: 8\n",
      "Digite o 4º número: 0\n",
      "Digite o 5º número: 2\n",
      "Digite o 6º número: 4\n",
      "Digite o 7º número: 9\n",
      "\n",
      "\u001b[1mTodos os números [11, 5, 8, 0, 2, 4, 9]\n",
      "Pares [8, 0, 2, 4]\n",
      "Ímpares [11, 5, 9]\n"
     ]
    }
   ],
   "source": [
    "lista      = []\n",
    "listaPar   = []\n",
    "listaImpar = []\n",
    "limite = int(input(f\"Quantos valores serão digitados? \"))\n",
    "print()\n",
    "\n",
    "for i in range(limite):\n",
    "    num = int(input(f\"Digite o {i+1}º número: \"))\n",
    "    lista.append(num)\n",
    "    if num % 2 == 0:\n",
    "        listaPar.append(num)\n",
    "    else:\n",
    "        listaImpar.append(num)\n",
    "\n",
    "print(\"\\n\\033[1mTodos os números\",lista)\n",
    "print(\"Pares\",listaPar)\n",
    "print(\"Ímpares\",listaImpar)"
   ]
  },
  {
   "cell_type": "markdown",
   "metadata": {
    "id": "_bCHFy09eNJh"
   },
   "source": [
    "## 05\n",
    "Crie um programa onde o usuário possa digitar cinco valores numéricos e cadastre-os em uma lista, já na sua posição correta de inserção (sem usar o sort()).\n",
    "\n",
    "No final mostre a lista ordenada na tela"
   ]
  },
  {
   "cell_type": "code",
   "execution_count": null,
   "metadata": {
    "colab": {
     "base_uri": "https://localhost:8080/"
    },
    "id": "acmlJ7v9gNyg",
    "outputId": "0848e9ab-ae6a-4fb5-aa08-9905eec07b03"
   },
   "outputs": [
    {
     "name": "stdout",
     "output_type": "stream",
     "text": [
      "Digite o 1º número: 77\n",
      "Digite o 2º número: 5\n",
      "Digite o 3º número: 11\n",
      "Digite o 4º número: 333\n",
      "Digite o 5º número: 9\n",
      "\n",
      "\u001b[1m [5, 9, 11, 77, 333]\n"
     ]
    }
   ],
   "source": [
    "lista = []\n",
    "for x in range(5):\n",
    "    num = int(input(f\"Digite o {x+1}º número: \"))\n",
    "    lista.append(num)\n",
    "\n",
    "for i in range(len(lista)):\n",
    "    for j in range(len(lista)):\n",
    "        if lista[i] <= lista[j]:\n",
    "            lista[j],lista[i] = lista[i],lista[j]\n",
    "\n",
    "print(\"\\n\\033[1m\",lista)"
   ]
  },
  {
   "cell_type": "markdown",
   "metadata": {
    "id": "d56tk0_RHZ1h"
   },
   "source": [
    "## 06\n",
    "Dada a lista com 32 Times, faça o sorteio para outras duas listas (A e B).\n",
    "Ao final, cada nova lista deve conter 16 times."
   ]
  },
  {
   "cell_type": "code",
   "execution_count": null,
   "metadata": {
    "colab": {
     "base_uri": "https://localhost:8080/"
    },
    "id": "lb1K9QJjB6G7",
    "outputId": "589feef8-f6a1-42b4-b7e1-3a4bfd5f870b"
   },
   "outputs": [
    {
     "name": "stdout",
     "output_type": "stream",
     "text": [
      "Grupo A ->  ['Fortaleza', 'Athletico-PR', 'Juventude', 'Operário-PR', 'Grêmio', 'Fluminense', 'Brusque', 'Cuiabá', 'Botafogo-SP', 'Red Bull Bragantino', 'Sousa-PB', 'Botafogo', 'Bahia', 'Palmeiras', 'Vitória', 'Atlético-MG']\n",
      "Grupo B ->  ['Vasco', 'Corinthians', 'América-RN', 'Águia de Marabá', 'Ypiranga-RS', 'São Paulo', 'Criciúma', 'CRB', 'Amazonas', 'Ceará', 'Atlético-GO', 'Flamengo', 'Goiás', 'Sport', 'Internacional', 'Sampaio Corrêa']\n"
     ]
    }
   ],
   "source": [
    "#V1\n",
    "import random\n",
    "A = []\n",
    "B = []\n",
    "\n",
    "times=[\"Flamengo\", \"Palmeiras\", \"São Paulo\", \"Athletico-PR\", \"Atlético-MG\" ,\"Corinthians\" ,\"Fluminense\", \"Grêmio\", \"Fortaleza\", \"Internacional\", \"Bahia\", \"Botafogo\", \"Red Bull Bragantino\", \"Atlético-GO\", \"Ceará\",\"Cuiabá\",\n",
    "        'Goiás', 'Vasco', 'Juventude', 'Sport', 'CRB', 'Vitória', 'Criciúma', 'Sampaio Corrêa' ,'Operário-PR' ,'Botafogo-SP', 'Brusque', 'Ypiranga-RS', 'América-RN', 'Amazonas', 'Águia de Marabá', 'Sousa-PB']\n",
    "\n",
    "while len(A) < 16:\n",
    "    time = random.choice(times)\n",
    "    if time not in A:\n",
    "        A.append(time)\n",
    "\n",
    "while len(B) < 16:\n",
    "    time = random.choice(times)\n",
    "    if time not in A and time not in B:\n",
    "        B.append(time)\n",
    "\n",
    "print(\"Grupo A -> \",A)\n",
    "print(\"Grupo B -> \",B)\n"
   ]
  },
  {
   "cell_type": "code",
   "execution_count": null,
   "metadata": {
    "id": "AX5bN5nOZWMr"
   },
   "outputs": [],
   "source": [
    "#V2\n",
    "import random\n",
    "\n",
    "times=[\"Flamengo\", \"Palmeiras\", \"São Paulo\", \"Athletico-PR\", \"Atlético-MG\" ,\"Corinthians\" ,\"Fluminense\", \"Grêmio\", \"Fortaleza\", \"Internacional\", \"Bahia\", \"Botafogo\", \"Red Bull Bragantino\", \"Atlético-GO\", \"Ceará\",\"Cuiabá\",\n",
    "        'Goiás', 'Vasco', 'Juventude', 'Sport', 'CRB', 'Vitória', 'Criciúma', 'Sampaio Corrêa' ,'Operário-PR' ,'Botafogo-SP', 'Brusque', 'Ypiranga-RS', 'América-RN', 'Amazonas', 'Águia de Marabá', 'Sousa-PB']\n",
    "chaveA = []\n",
    "chaveB = []\n",
    "while True:\n",
    "        if len(times) == 0:\n",
    "                break\n",
    "        e=random.choice(times)\n",
    "        if len(times)%2 == 0:\n",
    "                chaveA.append(e)\n",
    "                times.remove(e)\n",
    "        else:\n",
    "                chaveB.append(e)\n",
    "                times.remove(e)\n",
    "\n",
    "print(chaveA)\n",
    "print(chaveB)"
   ]
  },
  {
   "cell_type": "code",
   "execution_count": null,
   "metadata": {
    "id": "CbnB2BD9ZaJs"
   },
   "outputs": [],
   "source": [
    "#V3\n",
    "import random\n",
    "\n",
    "times=[\"Flamengo\", \"Palmeiras\", \"São Paulo\", \"Athletico-PR\", \"Atlético-MG\" ,\"Corinthians\" ,\"Fluminense\", \"Grêmio\", \"Fortaleza\", \"Internacional\", \"Bahia\", \"Botafogo\", \"Red Bull Bragantino\", \"Atlético-GO\", \"Ceará\",\"Cuiabá\",\n",
    "        'Goiás', 'Vasco', 'Juventude', 'Sport', 'CRB', 'Vitória', 'Criciúma', 'Sampaio Corrêa' ,'Operário-PR' ,'Botafogo-SP', 'Brusque', 'Ypiranga-RS', 'América-RN', 'Amazonas', 'Águia de Marabá', 'Sousa-PB']\n",
    "\n",
    "random.shuffle(times)\n",
    "\n",
    "lista_A = times[:16]\n",
    "lista_B = times[16:]\n",
    "\n",
    "print(\"lista_A :\")\n",
    "print(lista_A)\n",
    "print(\"lista_B :\")\n",
    "print(lista_B)"
   ]
  },
  {
   "cell_type": "code",
   "execution_count": null,
   "metadata": {
    "id": "ResVLh7tZi7U"
   },
   "outputs": [],
   "source": [
    "#V4\n",
    "import random\n",
    "from google.colab import output\n",
    "\n",
    "lA= []\n",
    "times=[\"Flamengo\", \"Palmeiras\", \"São Paulo\", \"Athletico-PR\", \"Atlético-MG\" ,\"Corinthians\" ,\"Fluminense\", \"Grêmio\", \"Fortaleza\", \"Internacional\", \"Bahia\", \"Botafogo\", \"Red Bull Bragantino\", \"Atlético-GO\", \"Ceará\",\"Cuiabá\",\n",
    "        'Goiás', 'Vasco', 'Juventude', 'Sport', 'CRB', 'Vitória', 'Criciúma', 'Sampaio Corrêa' ,'Operário-PR' ,'Botafogo-SP', 'Brusque', 'Ypiranga-RS', 'América-RN', 'Amazonas', 'Águia de Marabá', 'Sousa-PB']\n",
    "for j in range(16):\n",
    "    t = random.choice(times)\n",
    "    lA.append(t)\n",
    "    times.remove(t)\n",
    "    output.clear()\n",
    "\n",
    "\n",
    "print(f\" Chave A {lA}\")\n",
    "print(f\" Chave B {times}\")"
   ]
  },
  {
   "cell_type": "markdown",
   "metadata": {
    "id": "GpAz80LIHnt4"
   },
   "source": [
    "## 07\n",
    "Continuando o DESAFIO 06, faça com que o 1º Time da chave A jogo com o primeiro da chave B, apresentando placar dos\n",
    "jogos e montando o campeonato completo. Ao final exiba o campeão."
   ]
  },
  {
   "cell_type": "code",
   "execution_count": null,
   "metadata": {
    "id": "shc-dwJ1nV3Y"
   },
   "outputs": [],
   "source": [
    "\"\"\"\n",
    "Quase pronto, falra corrigir os prints e empates\n",
    "Polir!"
   ]
  },
  {
   "cell_type": "code",
   "execution_count": null,
   "metadata": {
    "colab": {
     "base_uri": "https://localhost:8080/"
    },
    "id": "_Y_MUxslHj3o",
    "outputId": "0ecea5ee-892a-4a76-baf3-9a2c92ce5c10"
   },
   "outputs": [
    {
     "name": "stdout",
     "output_type": "stream",
     "text": [
      "Grupo A ->  ['Atlético-MG', 'Goiás', 'Botafogo-SP', 'Operário-PR', 'Amazonas', 'Sampaio Corrêa', 'Sousa-PB', 'CRB', 'Corinthians', 'Juventude', 'Flamengo', 'Red Bull Bragantino', 'Grêmio', 'Sport', 'Fortaleza', 'Criciúma']\n",
      "Grupo B ->  ['Fluminense', 'Botafogo', 'Atlético-GO', 'Brusque', 'Athletico-PR', 'Ypiranga-RS', 'Ceará', 'América-RN', 'São Paulo', 'Águia de Marabá', 'Vasco', 'Vitória', 'Bahia', 'Palmeiras', 'Cuiabá', 'Internacional']\n",
      "\n",
      "Gol A ->  [5, 4, 4, 1, 7, 6, 4, 5, 6, 8, 9, 8, 2, 9, 10, 10]\n",
      "Gol B ->  [10, 7, 0, 0, 0, 9, 6, 8, 5, 1, 8, 8, 7, 10, 1, 2]\n",
      "\n",
      " ['Fluminense', 'Botafogo', 'Botafogo-SP', 'Operário-PR', 'Amazonas', 'Ypiranga-RS', 'Ceará', 'América-RN', 'Corinthians', 'Juventude', 'Flamengo', 'Red Bull Bragantino', 'Bahia', 'Palmeiras', 'Fortaleza', 'Criciúma']\n",
      "----------------------------------------------------------------------------------------------------\n",
      "          Atlético-MG 5 X 10 Fluminense           \n",
      "               Goiás 4 X 7 Botafogo               \n",
      "          Botafogo-SP 4 X 0 Atlético-GO           \n",
      "            Operário-PR 1 X 0 Brusque             \n",
      "           Amazonas 7 X 0 Athletico-PR            \n",
      "         Sampaio Corrêa 6 X 9 Ypiranga-RS         \n",
      "               Sousa-PB 4 X 6 Ceará               \n",
      "               CRB 5 X 8 América-RN               \n",
      "           Corinthians 6 X 5 São Paulo            \n",
      "         Juventude 8 X 1 Águia de Marabá          \n",
      "               Flamengo 9 X 8 Vasco               \n",
      "        Red Bull Bragantino 8 X 8 Vitória         \n",
      "                Grêmio 2 X 7 Bahia                \n",
      "              Sport 9 X 10 Palmeiras              \n",
      "             Fortaleza 10 X 1 Cuiabá              \n",
      "          Criciúma 10 X 2 Internacional           \n",
      "----------------------------------------------------------------------------------------------------\n",
      "\n",
      "Grupo A ->  ['Red Bull Bragantino', 'Ypiranga-RS', 'Fortaleza', 'Operário-PR', 'Bahia', 'Corinthians', 'Botafogo-SP', 'Fluminense']\n",
      "Grupo B ->  ['Amazonas', 'Palmeiras', 'Botafogo', 'Criciúma', 'Flamengo', 'América-RN', 'Juventude', 'Ceará']\n",
      "\n",
      "Gol A ->  [7, 7, 1, 5, 3, 0, 3, 2]\n",
      "Gol B ->  [4, 1, 1, 7, 2, 5, 4, 5]\n",
      "\n",
      " ['Red Bull Bragantino', 'Ypiranga-RS', 'Botafogo', 'Criciúma', 'Bahia', 'América-RN', 'Juventude', 'Ceará']\n",
      "----------------------------------------------------------------------------------------------------\n",
      "        Red Bull Bragantino 7 X 4 Amazonas        \n",
      "           Ypiranga-RS 7 X 1 Palmeiras            \n",
      "             Fortaleza 1 X 1 Botafogo             \n",
      "            Operário-PR 5 X 7 Criciúma            \n",
      "               Bahia 3 X 2 Flamengo               \n",
      "           Corinthians 0 X 5 América-RN           \n",
      "           Botafogo-SP 3 X 4 Juventude            \n",
      "              Fluminense 2 X 5 Ceará              \n",
      "----------------------------------------------------------------------------------------------------\n",
      "\n",
      "Grupo A ->  ['Criciúma', 'Botafogo', 'Ceará', 'Ypiranga-RS']\n",
      "Grupo B ->  ['Red Bull Bragantino', 'Bahia', 'Juventude', 'América-RN']\n",
      "\n",
      "Gol A ->  [2, 5, 4, 0]\n",
      "Gol B ->  [6, 1, 1, 0]\n",
      "\n",
      " ['Red Bull Bragantino', 'Botafogo', 'Ceará', 'Ypiranga-RS']\n",
      "----------------------------------------------------------------------------------------------------\n",
      "        Criciúma 2 X 6 Red Bull Bragantino        \n",
      "               Botafogo 5 X 1 Bahia               \n",
      "              Ceará 4 X 1 Juventude               \n",
      "           Ypiranga-RS 0 X 0 América-RN           \n",
      "----------------------------------------------------------------------------------------------------\n",
      "\n",
      "Grupo A ->  ['Ypiranga-RS', 'Botafogo']\n",
      "Grupo B ->  ['Red Bull Bragantino', 'Ceará']\n",
      "\n",
      "Gol A ->  [3, 1]\n",
      "Gol B ->  [0, 1]\n",
      "\n",
      " ['Ypiranga-RS', 'Botafogo']\n",
      "----------------------------------------------------------------------------------------------------\n",
      "      Ypiranga-RS 3 X 0 Red Bull Bragantino       \n",
      "               Botafogo 1 X 1 Ceará               \n",
      "----------------------------------------------------------------------------------------------------\n",
      "\n",
      "Gol A ->  [1]\n",
      "Gol B ->  [2]\n",
      "----------------------------------------------------------------------------------------------------\n",
      "            Ypiranga-RS 1 X 2 Botafogo            \n",
      "----------------------------------------------------------------------------------------------------\n",
      "\n",
      " Campeão Botafogo\n"
     ]
    }
   ],
   "source": [
    "import random\n",
    "A, golsA, oitavaA, quartaA, semiA = [],[],[],[],[]\n",
    "B, golsB, oitavaB, quartaB, semiB= [],[],[],[],[]\n",
    "vencedores = []\n",
    "\n",
    "times32=[\"Flamengo\", \"Palmeiras\", \"São Paulo\", \"Athletico-PR\", \"Atlético-MG\" ,\"Corinthians\" ,\"Fluminense\", \"Grêmio\", \"Fortaleza\", \"Internacional\", \"Bahia\", \"Botafogo\", \"Red Bull Bragantino\", \"Atlético-GO\", \"Ceará\",\"Cuiabá\",\n",
    "        'Goiás', 'Vasco', 'Juventude', 'Sport', 'CRB', 'Vitória', 'Criciúma', 'Sampaio Corrêa' ,'Operário-PR' ,'Botafogo-SP', 'Brusque', 'Ypiranga-RS', 'América-RN', 'Amazonas', 'Águia de Marabá', 'Sousa-PB']\n",
    "\n",
    "while len(A) < 16:\n",
    "    time = random.choice(times)\n",
    "    if time not in A:\n",
    "        A.append(time)\n",
    "\n",
    "\n",
    "while len(B) < 16:\n",
    "    time = random.choice(times)\n",
    "    if time not in A and time not in B:\n",
    "        B.append(time)\n",
    "\n",
    "print(\"Grupo A -> \",A)\n",
    "print(\"Grupo B -> \",B)\n",
    "\n",
    "#Criando os gols dos grupos A e B\n",
    "for i in range(16):\n",
    "    golsA.append(random.randint(0,10))\n",
    "    golsB.append(random.randint(0,10))\n",
    "\n",
    "print(\"\\nGol A -> \",golsA)\n",
    "print(\"Gol B -> \",golsB)\n",
    "\n",
    "#Formando grupo dos ganhadores comparando as listas de gols\n",
    "#Se der empate será feito um sorteio de números, impar A, par B\n",
    "\n",
    "for j in range(16):\n",
    "    if golsA[j] > golsB[j]:\n",
    "        vencedores.append(A[j])\n",
    "    elif golsA[j] < golsB[j]:\n",
    "        vencedores.append(B[j])\n",
    "    else:\n",
    "        sorteio = random.randint(0,10)\n",
    "        if sorteio % 2 == 0:\n",
    "            vencedores.append(B[j])\n",
    "        else:\n",
    "            vencedores.append(A[j])\n",
    "\n",
    "print(\"\\n\",vencedores)\n",
    "print(\"-\"*100)\n",
    "\n",
    "for t in range(16):\n",
    "    print(f\"{A[t]} {golsA[t]} X {golsB[t]} {B[t]}\".center(50))\n",
    "\n",
    "print(\"-\"*100)\n",
    "\n",
    "#OITAVAS\n",
    "\n",
    "while len(oitavaA) < 8:\n",
    "    time = random.choice(vencedores)\n",
    "    if time not in oitavaA:\n",
    "        oitavaA.append(time)\n",
    "\n",
    "\n",
    "while len(oitavaB) < 8:\n",
    "    time = random.choice(vencedores)\n",
    "    if time not in oitavaA and time not in oitavaB:\n",
    "        oitavaB.append(time)\n",
    "\n",
    "print(\"\\nGrupo A -> \",oitavaA)\n",
    "print(\"Grupo B -> \",oitavaB)\n",
    "\n",
    "#Criando os gols dos grupos A e B\n",
    "\n",
    "golsA = []\n",
    "golsB = []\n",
    "vencedores = []\n",
    "for i in range(8):\n",
    "    golsA.append(random.randint(0,8))\n",
    "    golsB.append(random.randint(0,8))\n",
    "\n",
    "print(\"\\nGol A -> \",golsA)\n",
    "print(\"Gol B -> \",golsB)\n",
    "\n",
    "#Formando grupo dos ganhadores comparando as listas de gols\n",
    "#Se der empate será feito um sorteio de números, impar A, par B\n",
    "\n",
    "for j in range(8):\n",
    "    if golsA[j] > golsB[j]:\n",
    "        vencedores.append(oitavaA[j])\n",
    "    elif golsA[j] < golsB[j]:\n",
    "        vencedores.append(oitavaB[j])\n",
    "    else:\n",
    "        sorteio = random.randint(0,10)\n",
    "        if sorteio % 2 == 0:\n",
    "            vencedores.append(oitavaB[j])\n",
    "        else:\n",
    "            vencedores.append(oitavaA[j])\n",
    "\n",
    "print(\"\\n\",vencedores)\n",
    "print(\"-\"*100)\n",
    "for t in range(8):\n",
    "    print(f\"{oitavaA[t]} {golsA[t]} X {golsB[t]} {oitavaB[t]}\".center(50))\n",
    "\n",
    "print(\"-\"*100)\n",
    "\n",
    "#QUARTAS\n",
    "\n",
    "while len(quartaA) < 4:\n",
    "    time = random.choice(vencedores)\n",
    "    if time not in quartaA:\n",
    "        quartaA.append(time)\n",
    "\n",
    "\n",
    "while len(quartaB) < 4:\n",
    "    time = random.choice(vencedores)\n",
    "    if time not in quartaA and time not in quartaB:\n",
    "        quartaB.append(time)\n",
    "\n",
    "print(\"\\nGrupo A -> \",quartaA)\n",
    "print(\"Grupo B -> \",quartaB)\n",
    "\n",
    "#Criando os gols dos grupos A e B\n",
    "\n",
    "golsA = []\n",
    "golsB = []\n",
    "vencedores = []\n",
    "for i in range(4):\n",
    "    golsA.append(random.randint(0,6))\n",
    "    golsB.append(random.randint(0,6))\n",
    "\n",
    "print(\"\\nGol A -> \",golsA)\n",
    "print(\"Gol B -> \",golsB)\n",
    "\n",
    "#Formando grupo dos ganhadores comparando as listas de gols\n",
    "#Se der empate será feito um sorteio de números, impar A, par B\n",
    "\n",
    "for j in range(4):\n",
    "    if golsA[j] > golsB[j]:\n",
    "        vencedores.append(quartaA[j])\n",
    "    elif golsA[j] < golsB[j]:\n",
    "        vencedores.append(quartaB[j])\n",
    "    else:\n",
    "        sorteio = random.randint(0,10)\n",
    "        if sorteio % 2 == 0:\n",
    "            vencedores.append(quartaB[j])\n",
    "        else:\n",
    "            vencedores.append(quartaA[j])\n",
    "\n",
    "print(\"\\n\",vencedores)\n",
    "print(\"-\"*100)\n",
    "for t in range(4):\n",
    "    print(f\"{quartaA[t]} {golsA[t]} X {golsB[t]} {quartaB[t]}\".center(50))\n",
    "\n",
    "print(\"-\"*100)\n",
    "\n",
    "#SEMI-FINAL\n",
    "\n",
    "while len(semiA) < 2:\n",
    "    time = random.choice(vencedores)\n",
    "    if time not in semiA:\n",
    "        semiA.append(time)\n",
    "\n",
    "\n",
    "while len(semiB) < 2:\n",
    "    time = random.choice(vencedores)\n",
    "    if time not in semiA and time not in semiB:\n",
    "        semiB.append(time)\n",
    "\n",
    "print(\"\\nGrupo A -> \",semiA)\n",
    "print(\"Grupo B -> \",semiB)\n",
    "\n",
    "#Criando os gols dos grupos A e B\n",
    "\n",
    "golsA = []\n",
    "golsB = []\n",
    "vencedores = []\n",
    "for i in range(2):\n",
    "    golsA.append(random.randint(0,4))\n",
    "    golsB.append(random.randint(0,4))\n",
    "\n",
    "print(\"\\nGol A -> \",golsA)\n",
    "print(\"Gol B -> \",golsB)\n",
    "\n",
    "#Formando grupo dos ganhadores comparando as listas de gols\n",
    "#Se der empate será feito um sorteio de números, impar A, par B\n",
    "\n",
    "for j in range(2):\n",
    "    if golsA[j] > golsB[j]:\n",
    "        vencedores.append(semiA[j])\n",
    "    elif golsA[j] < golsB[j]:\n",
    "        vencedores.append(semiB[j])\n",
    "    else:\n",
    "        sorteio = random.randint(0,10)\n",
    "        if sorteio % 2 == 0:\n",
    "            vencedores.append(semiB[j])\n",
    "        else:\n",
    "            vencedores.append(semiA[j])\n",
    "\n",
    "print(\"\\n\",vencedores)\n",
    "print(\"-\"*100)\n",
    "for t in range(2):\n",
    "    print(f\"{semiA[t]} {golsA[t]} X {golsB[t]} {semiB[t]}\".center(50))\n",
    "\n",
    "print(\"-\"*100)\n",
    "#FINAL\n",
    "\n",
    "golsA = []\n",
    "golsB = []\n",
    "for i in range(1):\n",
    "    golsA.append(random.randint(0,2))\n",
    "    golsB.append(random.randint(0,2))\n",
    "\n",
    "print(\"\\nGol A -> \",golsA)\n",
    "print(\"Gol B -> \",golsB)\n",
    "\n",
    "for j in range(1):\n",
    "    if golsA[j] > golsB[j]:\n",
    "        campeao = vencedores[0]\n",
    "    elif golsA[j] < golsB[j]:\n",
    "        campeao = vencedores[1]\n",
    "    else:\n",
    "        sorteio = random.randint(0,10)\n",
    "        if sorteio % 2 == 0:\n",
    "            campeao = vencedores[1]\n",
    "        else:\n",
    "            campeao = vencedores[0]\n",
    "\n",
    "\n",
    "print(\"-\"*100)\n",
    "print(f\"{vencedores[0]} {golsA[0]} X {golsB[0]} {vencedores[1]}\".center(50))\n",
    "print(\"-\"*100)\n",
    "print(f\"\\n Campeão {campeao}\")"
   ]
  },
  {
   "cell_type": "code",
   "execution_count": null,
   "metadata": {
    "id": "jmJuJQRMMf2Q"
   },
   "outputs": [],
   "source": []
  }
 ],
 "metadata": {
  "colab": {
   "provenance": [],
   "toc_visible": true
  },
  "kernelspec": {
   "display_name": "Python 3",
   "name": "python3"
  },
  "language_info": {
   "name": "python"
  }
 },
 "nbformat": 4,
 "nbformat_minor": 0
}
