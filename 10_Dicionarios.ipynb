{
 "cells": [
  {
   "cell_type": "markdown",
   "metadata": {
    "id": "avKMftaOezZw"
   },
   "source": [
    "# Dicionários"
   ]
  },
  {
   "cell_type": "markdown",
   "metadata": {
    "id": "3Iopa3HEgSeW"
   },
   "source": [
    "## Criar Dicionários"
   ]
  },
  {
   "cell_type": "code",
   "execution_count": null,
   "metadata": {
    "colab": {
     "base_uri": "https://localhost:8080/"
    },
    "id": "iL0wyHmOensD",
    "outputId": "b167e1ae-109c-459a-853c-bb544ffa082c"
   },
   "outputs": [
    {
     "name": "stdout",
     "output_type": "stream",
     "text": [
      "{'comida': 'lanche', 'bebida': 'água', 'sobremesa': 'pudim'}\n",
      "dict_items([('comida', 'lanche'), ('bebida', 'água'), ('sobremesa', 'pudim')])\n",
      "dict_values(['lanche', 'água', 'pudim'])\n",
      "dict_keys(['comida', 'bebida', 'sobremesa'])\n"
     ]
    }
   ],
   "source": [
    "almoco = {\n",
    "    \"comida\": \"lanche\",\n",
    "    \"bebida\": \"água\",\n",
    "    \"sobremesa\": \"pudim\",\n",
    "}\n",
    "print(almoco)\n",
    "print(almoco.items())  #em duplas de chave/valor\n",
    "print(almoco.values()) #somente os valores\n",
    "print(almoco.keys())   #somente as chaves"
   ]
  },
  {
   "cell_type": "code",
   "execution_count": null,
   "metadata": {
    "colab": {
     "base_uri": "https://localhost:8080/"
    },
    "id": "Shbcb17hhKSv",
    "outputId": "aec474f9-7b78-4e9e-98b7-7858613f395c"
   },
   "outputs": [
    {
     "name": "stdout",
     "output_type": "stream",
     "text": [
      "comida       | lanche      \n",
      "bebida       | água        \n",
      "sobremesa    | pudim       \n"
     ]
    }
   ],
   "source": [
    "almoco = {\n",
    "    \"comida\": \"lanche\",\n",
    "    \"bebida\": \"água\",\n",
    "    \"sobremesa\": \"pudim\",\n",
    "}\n",
    "for chave, valor in almoco.items():\n",
    "    print(f\"{chave:12} | {valor:12}\")"
   ]
  },
  {
   "cell_type": "code",
   "execution_count": null,
   "metadata": {
    "colab": {
     "base_uri": "https://localhost:8080/"
    },
    "id": "Fkp7lflCip4v",
    "outputId": "5245ace8-07f6-4bcc-e894-a1afed7a30b4"
   },
   "outputs": [
    {
     "name": "stdout",
     "output_type": "stream",
     "text": [
      "comida\n",
      "bebida\n",
      "sobremesa\n"
     ]
    }
   ],
   "source": [
    "for chave in almoco.keys():\n",
    "    print(chave)"
   ]
  },
  {
   "cell_type": "code",
   "execution_count": null,
   "metadata": {
    "colab": {
     "base_uri": "https://localhost:8080/"
    },
    "id": "KGAw2_XziwLm",
    "outputId": "883b9ada-4cb7-45e3-faba-d2f6021f317d"
   },
   "outputs": [
    {
     "name": "stdout",
     "output_type": "stream",
     "text": [
      "lanche\n",
      "água\n",
      "pudim\n"
     ]
    }
   ],
   "source": [
    "for itens in almoco.values():\n",
    "    print(itens)"
   ]
  },
  {
   "cell_type": "markdown",
   "metadata": {
    "id": "BvtJ0Up3jLcV"
   },
   "source": [
    "## Modificando valores"
   ]
  },
  {
   "cell_type": "code",
   "execution_count": null,
   "metadata": {
    "colab": {
     "base_uri": "https://localhost:8080/"
    },
    "id": "4XcnAR3RjPTl",
    "outputId": "b934db8a-15b5-4105-985a-eb54323c8b02"
   },
   "outputs": [
    {
     "name": "stdout",
     "output_type": "stream",
     "text": [
      "comida       | lanche      \n",
      "bebida       | suco de laranja\n",
      "sobremesa    | pudim       \n"
     ]
    }
   ],
   "source": [
    "almoco = {\n",
    "    \"comida\": \"lanche\",\n",
    "    \"bebida\": \"água\",\n",
    "    \"sobremesa\": \"pudim\",\n",
    "}\n",
    "almoco[\"bebida\"] = \"suco de laranja\"\n",
    "for chave, valor in almoco.items():\n",
    "    print(f\"{chave:12} | {valor:12}\")"
   ]
  },
  {
   "cell_type": "code",
   "execution_count": null,
   "metadata": {
    "colab": {
     "base_uri": "https://localhost:8080/"
    },
    "id": "WPAYr20Xjd4W",
    "outputId": "795b7371-3da2-4600-a91d-ea05a48b9e25"
   },
   "outputs": [
    {
     "name": "stdout",
     "output_type": "stream",
     "text": [
      "comida       | lanche      \n",
      "bebida       | água        \n"
     ]
    }
   ],
   "source": [
    "almoco = {\n",
    "    \"comida\": \"lanche\",\n",
    "    \"bebida\": \"água\",\n",
    "    \"sobremesa\": \"pudim\",\n",
    "}\n",
    "del almoco[\"sobremesa\"]\n",
    "for chave, valor in almoco.items():\n",
    "    print(f\"{chave:12} | {valor:12}\")"
   ]
  },
  {
   "cell_type": "code",
   "execution_count": null,
   "metadata": {
    "colab": {
     "base_uri": "https://localhost:8080/"
    },
    "id": "wBHKfVj1jqz8",
    "outputId": "8ca98705-c327-4f29-fa7a-c29a6847e509"
   },
   "outputs": [
    {
     "name": "stdout",
     "output_type": "stream",
     "text": [
      "Digite UF: Piaui\n",
      "Digite a sigra UF: PI\n",
      "Digite UF: Goias\n",
      "Digite a sigra UF: GO\n",
      "[{'uf': 'Piaui', 'sigla': 'PI'}, {'uf': 'Goias', 'sigla': 'GO'}]\n",
      "Piaui PI Goias GO "
     ]
    }
   ],
   "source": [
    "estado = {}#dicionario\n",
    "brasil = []#lista\n",
    "\n",
    "for c in range(0,2):\n",
    "    estado[\"uf\"] = input(\"Digite UF: \")\n",
    "    estado[\"sigla\"] = input(\"Digite a sigra UF: \")\n",
    "    brasil.append(estado.copy())\n",
    "print(brasil)\n",
    "\n",
    "for e in brasil:\n",
    "    for v in e.values():\n",
    "        print(v, end=\" \")"
   ]
  },
  {
   "cell_type": "markdown",
   "metadata": {
    "id": "XEZp0N20uHpQ"
   },
   "source": [
    "# Desafios"
   ]
  },
  {
   "cell_type": "markdown",
   "metadata": {
    "id": "cpqycCNNx4nN"
   },
   "source": [
    "## 01"
   ]
  },
  {
   "cell_type": "code",
   "execution_count": null,
   "metadata": {
    "colab": {
     "base_uri": "https://localhost:8080/"
    },
    "id": "hXWA7zw2kPal",
    "outputId": "8c3c3988-4e2d-4153-f4ae-5c0f0d1947d2"
   },
   "outputs": [
    {
     "name": "stdout",
     "output_type": "stream",
     "text": [
      "Pizza\n"
     ]
    }
   ],
   "source": [
    "almoco = [\n",
    "    {\"nome\":\"Leandro\", \"comida\": \"Lanche\", \"bebida\": \"Suco de Laranja\"},\n",
    "    {\"nome\":\"Celia\", \"comida\": \"Lasanha\", \"bebida\": \"Suco de uva\"},\n",
    "    {\"nome\":\"Catarina\", \"comida\": \"Pizza\", \"bebida\": \"Coca-Cola\"}\n",
    "]\n",
    "print(almoco[2][\"comida\"])\n"
   ]
  },
  {
   "cell_type": "markdown",
   "metadata": {
    "id": "kmc1Ktmpx6e9"
   },
   "source": [
    "## 02\n",
    "\n",
    "Com a lista do DESAFIO anterior, exiba uma lista com o nome da pessoa e o que ela come."
   ]
  },
  {
   "cell_type": "code",
   "execution_count": null,
   "metadata": {
    "colab": {
     "base_uri": "https://localhost:8080/"
    },
    "id": "uUKtTzY-r0OY",
    "outputId": "3d6a2d6b-e22e-4570-c97e-2103dcdf306d"
   },
   "outputs": [
    {
     "name": "stdout",
     "output_type": "stream",
     "text": [
      "Leandro come Lanche\n",
      "Celia come Lasanha\n",
      "Catarina come Pizza\n"
     ]
    }
   ],
   "source": [
    "almoco = [\n",
    "    {\"nome\":\"Leandro\", \"comida\": \"Lanche\", \"bebida\": \"Suco de Laranja\"},\n",
    "    {\"nome\":\"Celia\", \"comida\": \"Lasanha\", \"bebida\": \"Suco de uva\"},\n",
    "    {\"nome\":\"Catarina\", \"comida\": \"Pizza\", \"bebida\": \"Coca-Cola\"}\n",
    "]\n",
    "for i in range(len(almoco)):\n",
    "    print(f\"{almoco[i]['nome']} come {almoco[i]['comida']}\") #tem que ser com apostrófo\n"
   ]
  },
  {
   "cell_type": "markdown",
   "metadata": {
    "id": "G8A6G9AWx_8-"
   },
   "source": [
    "## 03\n",
    "Faça  um programa que leia o nome e média de um aluno, guardando também a situação em um dicionário.\n",
    "(Abaixo de 5: Reprovado | entre 5 e 6,9: Exame | 7: acima Aprovado)\n",
    "No final mostre o conteúdo da estrutura na tela."
   ]
  },
  {
   "cell_type": "code",
   "execution_count": null,
   "metadata": {
    "colab": {
     "base_uri": "https://localhost:8080/"
    },
    "id": "dSSabUzOulFQ",
    "outputId": "551c0485-c89f-4c68-a785-75bdbc9c6385"
   },
   "outputs": [
    {
     "name": "stdout",
     "output_type": "stream",
     "text": [
      "Digite o nome do aluno: Jonas\n",
      "Digite a média: 4\n",
      "{'nome': 'Jonas', 'media': 4.0, 'situação': 'Reprovado'}\n"
     ]
    }
   ],
   "source": [
    "dici = {}\n",
    "\n",
    "nome = input(\"Digite o nome do aluno: \")\n",
    "media = float(input(\"Digite a média: \"))\n",
    "\n",
    "if media < 5:\n",
    "    situacao = \"Reprovado\"\n",
    "elif media > 7:\n",
    "    situacao = \"Aprovado\"\n",
    "else:\n",
    "    situacao = \"Exame\"\n",
    "\n",
    "dici = {\n",
    "    \"nome\": nome,\n",
    "    \"media\": media,\n",
    "    \"situação\": situacao,\n",
    "}\n",
    "print(dici)"
   ]
  },
  {
   "cell_type": "markdown",
   "metadata": {
    "id": "u_nTUc1g2NWl"
   },
   "source": [
    "## 04\n",
    "Faça com que o programa anterior possa cadastrar uma quantidade de alunos escolhida pelo usuário.\n",
    "No final apresente as informações tabuladas."
   ]
  },
  {
   "cell_type": "code",
   "execution_count": null,
   "metadata": {
    "colab": {
     "base_uri": "https://localhost:8080/"
    },
    "id": "DdDORqxm0jZ9",
    "outputId": "beea076e-8f28-401e-cf9e-559652f32ce1"
   },
   "outputs": [
    {
     "name": "stdout",
     "output_type": "stream",
     "text": [
      "Quantos aluno serão cadastrados? 3\n",
      "\n",
      "Digite o nome do aluno: Jonas\n",
      "Digite a média: 9\n",
      "\n",
      "\n",
      "Digite o nome do aluno: Carlos\n",
      "Digite a média: 5\n",
      "\n",
      "\n",
      "Digite o nome do aluno: Maria\n",
      "Digite a média: 3\n",
      "\n",
      "{'nome': 'Jonas', 'media': 9.0, 'situação': 'Aprovado'}\n",
      "{'nome': 'Carlos', 'media': 5.0, 'situação': 'Exame'}\n",
      "{'nome': 'Maria', 'media': 3.0, 'situação': 'Reprovado'}\n"
     ]
    }
   ],
   "source": [
    "dici = dict()\n",
    "lista = list()\n",
    "num = int(input(\"Quantos alunos serão cadastrados? \"))\n",
    "\n",
    "for i in range(num):\n",
    "    print()\n",
    "    nome = input(f\"Digite o nome do {i+1}º aluno: \")\n",
    "    media = float(input(f\"Digite a média do {i+1}º aluno: \"))\n",
    "    print()\n",
    "    if media < 5:\n",
    "        situacao = \"Reprovado\"\n",
    "    elif media > 7:\n",
    "        situacao = \"Aprovado\"\n",
    "    else:\n",
    "        situacao = \"Exame\"\n",
    "\n",
    "    dici = {\"nome\": nome,\"media\": media,\"situação\": situacao,}\n",
    "    lista.append(dici)\n",
    "\n",
    "for j in lista:\n",
    "    print(j)"
   ]
  },
  {
   "cell_type": "code",
   "execution_count": null,
   "metadata": {
    "id": "sFtaNJeJ23Ql"
   },
   "outputs": [],
   "source": []
  }
 ],
 "metadata": {
  "colab": {
   "provenance": [],
   "toc_visible": true
  },
  "kernelspec": {
   "display_name": "Python 3",
   "name": "python3"
  },
  "language_info": {
   "name": "python"
  }
 },
 "nbformat": 4,
 "nbformat_minor": 0
}
